{
 "cells": [
  {
   "cell_type": "markdown",
   "metadata": {},
   "source": [
    "# Goal: \n",
    "Find:   \n",
    "- Reservation seasonality in general\n",
    "- Reservation seasonality with location (zipcode)\n",
    "- Reservation seasonality with pricing\n",
    "- Which places are undervalued?"
   ]
  },
  {
   "cell_type": "markdown",
   "metadata": {},
   "source": [
    "## Big assumption for seasonality analysis: \n",
    "- Nubmer of reviews/month has strong positive correlation with reservation frequency/month. \n",
    "- So below, I treat review frequency as reservation frequency. "
   ]
  },
  {
   "cell_type": "code",
   "execution_count": 110,
   "metadata": {
    "collapsed": true
   },
   "outputs": [],
   "source": [
    "from sklearn.cross_validation import train_test_split\n",
    "from gensim.models.word2vec import Word2Vec\n",
    "import numpy as np\n",
    "import pandas as pd\n",
    "import matplotlib.pyplot as plt\n",
    "from collections import Counter\n",
    "%matplotlib inline"
   ]
  },
  {
   "cell_type": "code",
   "execution_count": null,
   "metadata": {
    "collapsed": true
   },
   "outputs": [],
   "source": []
  },
  {
   "cell_type": "markdown",
   "metadata": {},
   "source": [
    "# Reservation seasonality in general"
   ]
  },
  {
   "cell_type": "markdown",
   "metadata": {},
   "source": [
    "### Read data and preprocess"
   ]
  },
  {
   "cell_type": "code",
   "execution_count": 118,
   "metadata": {
    "collapsed": false
   },
   "outputs": [
    {
     "name": "stdout",
     "output_type": "stream",
     "text": [
      "<class 'pandas.core.frame.DataFrame'>\n",
      "Int64Index: 132034 entries, 0 to 132331\n",
      "Data columns (total 4 columns):\n",
      "id             132034 non-null int64\n",
      "listing_url    132034 non-null object\n",
      "date           132034 non-null object\n",
      "zipcode        132034 non-null float64\n",
      "dtypes: float64(1), int64(1), object(2)\n",
      "memory usage: 5.0+ MB\n",
      "None\n"
     ]
    },
    {
     "data": {
      "text/html": [
       "<div>\n",
       "<table border=\"1\" class=\"dataframe\">\n",
       "  <thead>\n",
       "    <tr style=\"text-align: right;\">\n",
       "      <th></th>\n",
       "      <th>id</th>\n",
       "      <th>listing_url</th>\n",
       "      <th>date</th>\n",
       "      <th>zipcode</th>\n",
       "    </tr>\n",
       "  </thead>\n",
       "  <tbody>\n",
       "    <tr>\n",
       "      <th>0</th>\n",
       "      <td>1994427</td>\n",
       "      <td>https://www.airbnb.com/rooms/1994427</td>\n",
       "      <td>2014-02-27</td>\n",
       "      <td>94110</td>\n",
       "    </tr>\n",
       "  </tbody>\n",
       "</table>\n",
       "</div>"
      ],
      "text/plain": [
       "        id                           listing_url        date  zipcode\n",
       "0  1994427  https://www.airbnb.com/rooms/1994427  2014-02-27    94110"
      ]
     },
     "execution_count": 118,
     "metadata": {},
     "output_type": "execute_result"
    }
   ],
   "source": [
    "df = pd.read_csv('data/df_new_en.csv').drop('Unnamed: 0', 1)\n",
    "df = df[['id', 'listing_url','date', 'zipcode']]\n",
    "df =  df.dropna()\n",
    "print df.info()\n",
    "df.head(1)"
   ]
  },
  {
   "cell_type": "code",
   "execution_count": 119,
   "metadata": {
    "collapsed": false,
    "scrolled": true
   },
   "outputs": [
    {
     "data": {
      "text/html": [
       "<div>\n",
       "<table border=\"1\" class=\"dataframe\">\n",
       "  <thead>\n",
       "    <tr style=\"text-align: right;\">\n",
       "      <th></th>\n",
       "      <th>id</th>\n",
       "      <th>listing_url</th>\n",
       "      <th>date</th>\n",
       "      <th>zipcode</th>\n",
       "    </tr>\n",
       "  </thead>\n",
       "  <tbody>\n",
       "    <tr>\n",
       "      <th>0</th>\n",
       "      <td>1994427</td>\n",
       "      <td>https://www.airbnb.com/rooms/1994427</td>\n",
       "      <td>2014-02</td>\n",
       "      <td>94110</td>\n",
       "    </tr>\n",
       "    <tr>\n",
       "      <th>1</th>\n",
       "      <td>1994427</td>\n",
       "      <td>https://www.airbnb.com/rooms/1994427</td>\n",
       "      <td>2015-10</td>\n",
       "      <td>94110</td>\n",
       "    </tr>\n",
       "    <tr>\n",
       "      <th>2</th>\n",
       "      <td>1994427</td>\n",
       "      <td>https://www.airbnb.com/rooms/1994427</td>\n",
       "      <td>2015-10</td>\n",
       "      <td>94110</td>\n",
       "    </tr>\n",
       "    <tr>\n",
       "      <th>3</th>\n",
       "      <td>1994427</td>\n",
       "      <td>https://www.airbnb.com/rooms/1994427</td>\n",
       "      <td>2015-10</td>\n",
       "      <td>94110</td>\n",
       "    </tr>\n",
       "    <tr>\n",
       "      <th>4</th>\n",
       "      <td>1994427</td>\n",
       "      <td>https://www.airbnb.com/rooms/1994427</td>\n",
       "      <td>2015-10</td>\n",
       "      <td>94110</td>\n",
       "    </tr>\n",
       "  </tbody>\n",
       "</table>\n",
       "</div>"
      ],
      "text/plain": [
       "        id                           listing_url     date  zipcode\n",
       "0  1994427  https://www.airbnb.com/rooms/1994427  2014-02    94110\n",
       "1  1994427  https://www.airbnb.com/rooms/1994427  2015-10    94110\n",
       "2  1994427  https://www.airbnb.com/rooms/1994427  2015-10    94110\n",
       "3  1994427  https://www.airbnb.com/rooms/1994427  2015-10    94110\n",
       "4  1994427  https://www.airbnb.com/rooms/1994427  2015-10    94110"
      ]
     },
     "execution_count": 119,
     "metadata": {},
     "output_type": "execute_result"
    }
   ],
   "source": [
    "# dates to year-month\n",
    "df.date = [month[:7] for month in df.date]\n",
    "df.head()"
   ]
  },
  {
   "cell_type": "markdown",
   "metadata": {},
   "source": [
    "### Convert to datetime"
   ]
  },
  {
   "cell_type": "code",
   "execution_count": 120,
   "metadata": {
    "collapsed": false
   },
   "outputs": [
    {
     "data": {
      "text/html": [
       "<div>\n",
       "<table border=\"1\" class=\"dataframe\">\n",
       "  <thead>\n",
       "    <tr style=\"text-align: right;\">\n",
       "      <th></th>\n",
       "      <th>id</th>\n",
       "      <th>listing_url</th>\n",
       "      <th>date</th>\n",
       "      <th>zipcode</th>\n",
       "    </tr>\n",
       "  </thead>\n",
       "  <tbody>\n",
       "    <tr>\n",
       "      <th>0</th>\n",
       "      <td>1994427</td>\n",
       "      <td>https://www.airbnb.com/rooms/1994427</td>\n",
       "      <td>2014002</td>\n",
       "      <td>94110</td>\n",
       "    </tr>\n",
       "    <tr>\n",
       "      <th>1</th>\n",
       "      <td>1994427</td>\n",
       "      <td>https://www.airbnb.com/rooms/1994427</td>\n",
       "      <td>2015010</td>\n",
       "      <td>94110</td>\n",
       "    </tr>\n",
       "    <tr>\n",
       "      <th>2</th>\n",
       "      <td>1994427</td>\n",
       "      <td>https://www.airbnb.com/rooms/1994427</td>\n",
       "      <td>2015010</td>\n",
       "      <td>94110</td>\n",
       "    </tr>\n",
       "    <tr>\n",
       "      <th>3</th>\n",
       "      <td>1994427</td>\n",
       "      <td>https://www.airbnb.com/rooms/1994427</td>\n",
       "      <td>2015010</td>\n",
       "      <td>94110</td>\n",
       "    </tr>\n",
       "    <tr>\n",
       "      <th>4</th>\n",
       "      <td>1994427</td>\n",
       "      <td>https://www.airbnb.com/rooms/1994427</td>\n",
       "      <td>2015010</td>\n",
       "      <td>94110</td>\n",
       "    </tr>\n",
       "  </tbody>\n",
       "</table>\n",
       "</div>"
      ],
      "text/plain": [
       "        id                           listing_url     date  zipcode\n",
       "0  1994427  https://www.airbnb.com/rooms/1994427  2014002    94110\n",
       "1  1994427  https://www.airbnb.com/rooms/1994427  2015010    94110\n",
       "2  1994427  https://www.airbnb.com/rooms/1994427  2015010    94110\n",
       "3  1994427  https://www.airbnb.com/rooms/1994427  2015010    94110\n",
       "4  1994427  https://www.airbnb.com/rooms/1994427  2015010    94110"
      ]
     },
     "execution_count": 120,
     "metadata": {},
     "output_type": "execute_result"
    }
   ],
   "source": [
    "year_month_df = df[:][:]\n",
    "import datetime\n",
    "def convert_datetime(x):\n",
    "    dt = datetime.datetime.strptime(x, \"%Y-%m\")\n",
    "#     return dt.date()\n",
    "    return 1000*dt.year + dt.month\n",
    "year_month_df['date'] = year_month_df['date'].apply(convert_datetime)\n",
    "year_month_df.head()"
   ]
  },
  {
   "cell_type": "markdown",
   "metadata": {},
   "source": [
    "### Let's see seasonality based on review frequency "
   ]
  },
  {
   "cell_type": "code",
   "execution_count": 121,
   "metadata": {
    "collapsed": false,
    "scrolled": true
   },
   "outputs": [
    {
     "data": {
      "image/png": "[encoded data removed]",
      "text/plain": [
       "<matplotlib.figure.Figure at 0x11ad66c50>"
      ]
     },
     "metadata": {},
     "output_type": "display_data"
    }
   ],
   "source": [
    "from collections import Counter\n",
    "import matplotlib.pyplot as plt\n",
    "%matplotlib inline\n",
    "\n",
    "labels, values = zip(*sorted(Counter(year_month_df.date).items()))\n",
    "\n",
    "indexes = np.arange(len(labels))\n",
    "width = 1\n",
    "plt.figure(figsize=(15,5))\n",
    "plt.bar(indexes, values, width)\n",
    "plt.xticks(indexes + width * 0.5, labels,  rotation='vertical')\n",
    "plt.ylabel('review count')\n",
    "plt.xlabel('year')\n",
    "plt.show()"
   ]
  },
  {
   "cell_type": "markdown",
   "metadata": {},
   "source": [
    "Two findings:  \n",
    "- REALLY quick growth \n",
    "- Possible seasonality (increase the counts during summer time)"
   ]
  },
  {
   "cell_type": "markdown",
   "metadata": {},
   "source": [
    "### Number of visiters at least overnight visitors in SF (in millions)"
   ]
  },
  {
   "cell_type": "markdown",
   "metadata": {},
   "source": [
    "- Let's see if continous increase of counts in airbnb data is due to number of SF visitors"
   ]
  },
  {
   "cell_type": "markdown",
   "metadata": {},
   "source": [
    "#### Domestic\n",
    "<img src=\"data/sfvisiter_dom.png\" alt=\"\" style=\"width: 700px;\"/>\n",
    "#### International\n",
    "<img src=\"data/sfvisitor_int.png\" alt=\"\" style=\"width: 700px;\"/>  \n",
    "Source: statista.com"
   ]
  },
  {
   "cell_type": "markdown",
   "metadata": {},
   "source": [
    "- The growth rate of the number of SF visitors is not comparable to airbnb's growth  -> hotels should be scared by the service :D\n",
    "- It'll be interesting to further research on which visitor groups (younger students, business people etc) contribute to the growth"
   ]
  },
  {
   "cell_type": "markdown",
   "metadata": {},
   "source": [
    "## Let's see monthly (ignore year)"
   ]
  },
  {
   "cell_type": "code",
   "execution_count": 78,
   "metadata": {
    "collapsed": false
   },
   "outputs": [
    {
     "data": {
      "text/html": [
       "<div>\n",
       "<table border=\"1\" class=\"dataframe\">\n",
       "  <thead>\n",
       "    <tr style=\"text-align: right;\">\n",
       "      <th></th>\n",
       "      <th>id</th>\n",
       "      <th>listing_url</th>\n",
       "      <th>date</th>\n",
       "      <th>zipcode</th>\n",
       "    </tr>\n",
       "  </thead>\n",
       "  <tbody>\n",
       "    <tr>\n",
       "      <th>0</th>\n",
       "      <td>1994427</td>\n",
       "      <td>https://www.airbnb.com/rooms/1994427</td>\n",
       "      <td>2</td>\n",
       "      <td>94110</td>\n",
       "    </tr>\n",
       "    <tr>\n",
       "      <th>1</th>\n",
       "      <td>1994427</td>\n",
       "      <td>https://www.airbnb.com/rooms/1994427</td>\n",
       "      <td>10</td>\n",
       "      <td>94110</td>\n",
       "    </tr>\n",
       "    <tr>\n",
       "      <th>2</th>\n",
       "      <td>1994427</td>\n",
       "      <td>https://www.airbnb.com/rooms/1994427</td>\n",
       "      <td>10</td>\n",
       "      <td>94110</td>\n",
       "    </tr>\n",
       "    <tr>\n",
       "      <th>3</th>\n",
       "      <td>1994427</td>\n",
       "      <td>https://www.airbnb.com/rooms/1994427</td>\n",
       "      <td>10</td>\n",
       "      <td>94110</td>\n",
       "    </tr>\n",
       "    <tr>\n",
       "      <th>4</th>\n",
       "      <td>1994427</td>\n",
       "      <td>https://www.airbnb.com/rooms/1994427</td>\n",
       "      <td>10</td>\n",
       "      <td>94110</td>\n",
       "    </tr>\n",
       "  </tbody>\n",
       "</table>\n",
       "</div>"
      ],
      "text/plain": [
       "        id                           listing_url  date  zipcode\n",
       "0  1994427  https://www.airbnb.com/rooms/1994427     2    94110\n",
       "1  1994427  https://www.airbnb.com/rooms/1994427    10    94110\n",
       "2  1994427  https://www.airbnb.com/rooms/1994427    10    94110\n",
       "3  1994427  https://www.airbnb.com/rooms/1994427    10    94110\n",
       "4  1994427  https://www.airbnb.com/rooms/1994427    10    94110"
      ]
     },
     "execution_count": 78,
     "metadata": {},
     "output_type": "execute_result"
    }
   ],
   "source": [
    "import datetime\n",
    "def convert_datetime_to_month(x):\n",
    "    dt = datetime.datetime.strptime(x, \"%Y-%m\")\n",
    "    return dt.month\n",
    "df['date'] = df['date'].apply(convert_datetime_to_month)\n",
    "df.head()"
   ]
  },
  {
   "cell_type": "code",
   "execution_count": 79,
   "metadata": {
    "collapsed": false
   },
   "outputs": [
    {
     "data": {
      "image/png": "[encoded data removed]",
      "text/plain": [
       "<matplotlib.figure.Figure at 0x113b95fd0>"
      ]
     },
     "metadata": {},
     "output_type": "display_data"
    }
   ],
   "source": [
    "from collections import Counter\n",
    "import matplotlib.pyplot as plt\n",
    "%matplotlib inline\n",
    "\n",
    "labels, values = zip(*sorted(Counter(df.date).items()))\n",
    "\n",
    "indexes = np.arange(len(labels))\n",
    "width = 1\n",
    "plt.figure(figsize=(15,5))\n",
    "plt.bar(indexes, values, width)\n",
    "plt.xticks(indexes + width * 0.5, labels,  rotation='vertical')\n",
    "plt.show()"
   ]
  },
  {
   "cell_type": "markdown",
   "metadata": {},
   "source": [
    "- It seems that seasonality is present. Let's find that out with chi-square test."
   ]
  },
  {
   "cell_type": "markdown",
   "metadata": {},
   "source": [
    "## Hypothesis"
   ]
  },
  {
   "cell_type": "markdown",
   "metadata": {},
   "source": [
    "Null: number of reviews is equal across months\n",
    "\n",
    "Alternative: number of reviews is different across months"
   ]
  },
  {
   "cell_type": "code",
   "execution_count": 90,
   "metadata": {
    "collapsed": false,
    "scrolled": true
   },
   "outputs": [
    {
     "name": "stdout",
     "output_type": "stream",
     "text": [
      "[6270, 6106, 8377, 8891, 11419, 12218, 13857, 17914, 18167, 17534, 5868, 5413]\n",
      "[11002.833333333334, 11002.833333333334, 11002.833333333334, 11002.833333333334, 11002.833333333334, 11002.833333333334, 11002.833333333334, 11002.833333333334, 11002.833333333334, 11002.833333333334, 11002.833333333334, 11002.833333333334]\n"
     ]
    }
   ],
   "source": [
    "obs_val = Counter(df.date).values()\n",
    "null_val = [np.mean(obs_val)]*12\n",
    "print obs_val\n",
    "print null_val"
   ]
  },
  {
   "cell_type": "code",
   "execution_count": 107,
   "metadata": {
    "collapsed": false
   },
   "outputs": [
    {
     "data": {
      "text/plain": [
       "Power_divergenceResult(statistic=24256.299225956947, pvalue=0.0)"
      ]
     },
     "execution_count": 107,
     "metadata": {},
     "output_type": "execute_result"
    }
   ],
   "source": [
    "import scipy.stats as ss\n",
    "ss.chisquare(obs_val,null_val)"
   ]
  },
  {
   "cell_type": "markdown",
   "metadata": {},
   "source": [
    "- Since p-value = 0.00, we can reject the null. So, we have enough evidence to conclude that seasonality is present."
   ]
  },
  {
   "cell_type": "code",
   "execution_count": null,
   "metadata": {
    "collapsed": true
   },
   "outputs": [],
   "source": []
  },
  {
   "cell_type": "markdown",
   "metadata": {},
   "source": [
    "# Reservation seasonality with location (zipcode)"
   ]
  },
  {
   "cell_type": "code",
   "execution_count": 111,
   "metadata": {
    "collapsed": false,
    "scrolled": true
   },
   "outputs": [
    {
     "name": "stdout",
     "output_type": "stream",
     "text": [
      "<class 'pandas.core.frame.DataFrame'>\n",
      "Int64Index: 142919 entries, 0 to 143236\n",
      "Data columns (total 4 columns):\n",
      "id             142919 non-null int64\n",
      "listing_url    142919 non-null object\n",
      "date           142919 non-null object\n",
      "zipcode        142919 non-null float64\n",
      "dtypes: float64(1), int64(1), object(2)\n",
      "memory usage: 5.5+ MB\n",
      "None\n"
     ]
    },
    {
     "data": {
      "text/html": [
       "<div>\n",
       "<table border=\"1\" class=\"dataframe\">\n",
       "  <thead>\n",
       "    <tr style=\"text-align: right;\">\n",
       "      <th></th>\n",
       "      <th>id</th>\n",
       "      <th>listing_url</th>\n",
       "      <th>date</th>\n",
       "      <th>zipcode</th>\n",
       "    </tr>\n",
       "  </thead>\n",
       "  <tbody>\n",
       "    <tr>\n",
       "      <th>0</th>\n",
       "      <td>1994427</td>\n",
       "      <td>https://www.airbnb.com/rooms/1994427</td>\n",
       "      <td>2014-02-27</td>\n",
       "      <td>94110</td>\n",
       "    </tr>\n",
       "  </tbody>\n",
       "</table>\n",
       "</div>"
      ],
      "text/plain": [
       "        id                           listing_url        date  zipcode\n",
       "0  1994427  https://www.airbnb.com/rooms/1994427  2014-02-27    94110"
      ]
     },
     "execution_count": 111,
     "metadata": {},
     "output_type": "execute_result"
    }
   ],
   "source": [
    "df = pd.read_csv('data/df_new.csv').drop('Unnamed: 0', 1)\n",
    "df = df[['id', 'listing_url','date', 'zipcode']]\n",
    "df =  df.dropna()\n",
    "print df.info()\n",
    "df.head(1)"
   ]
  },
  {
   "cell_type": "markdown",
   "metadata": {},
   "source": [
    "## Convert to datetime"
   ]
  },
  {
   "cell_type": "code",
   "execution_count": 112,
   "metadata": {
    "collapsed": false,
    "scrolled": true
   },
   "outputs": [
    {
     "data": {
      "text/html": [
       "<div>\n",
       "<table border=\"1\" class=\"dataframe\">\n",
       "  <thead>\n",
       "    <tr style=\"text-align: right;\">\n",
       "      <th></th>\n",
       "      <th>id</th>\n",
       "      <th>listing_url</th>\n",
       "      <th>date</th>\n",
       "      <th>zipcode</th>\n",
       "    </tr>\n",
       "  </thead>\n",
       "  <tbody>\n",
       "    <tr>\n",
       "      <th>0</th>\n",
       "      <td>1994427</td>\n",
       "      <td>https://www.airbnb.com/rooms/1994427</td>\n",
       "      <td>2014-02-27</td>\n",
       "      <td>94110</td>\n",
       "    </tr>\n",
       "    <tr>\n",
       "      <th>1</th>\n",
       "      <td>1994427</td>\n",
       "      <td>https://www.airbnb.com/rooms/1994427</td>\n",
       "      <td>2015-10-07</td>\n",
       "      <td>94110</td>\n",
       "    </tr>\n",
       "    <tr>\n",
       "      <th>2</th>\n",
       "      <td>1994427</td>\n",
       "      <td>https://www.airbnb.com/rooms/1994427</td>\n",
       "      <td>2015-10-12</td>\n",
       "      <td>94110</td>\n",
       "    </tr>\n",
       "    <tr>\n",
       "      <th>3</th>\n",
       "      <td>1994427</td>\n",
       "      <td>https://www.airbnb.com/rooms/1994427</td>\n",
       "      <td>2015-10-17</td>\n",
       "      <td>94110</td>\n",
       "    </tr>\n",
       "    <tr>\n",
       "      <th>4</th>\n",
       "      <td>1994427</td>\n",
       "      <td>https://www.airbnb.com/rooms/1994427</td>\n",
       "      <td>2015-10-26</td>\n",
       "      <td>94110</td>\n",
       "    </tr>\n",
       "  </tbody>\n",
       "</table>\n",
       "</div>"
      ],
      "text/plain": [
       "        id                           listing_url        date  zipcode\n",
       "0  1994427  https://www.airbnb.com/rooms/1994427  2014-02-27    94110\n",
       "1  1994427  https://www.airbnb.com/rooms/1994427  2015-10-07    94110\n",
       "2  1994427  https://www.airbnb.com/rooms/1994427  2015-10-12    94110\n",
       "3  1994427  https://www.airbnb.com/rooms/1994427  2015-10-17    94110\n",
       "4  1994427  https://www.airbnb.com/rooms/1994427  2015-10-26    94110"
      ]
     },
     "execution_count": 112,
     "metadata": {},
     "output_type": "execute_result"
    }
   ],
   "source": [
    "import datetime\n",
    "def convert_datetime(x):\n",
    "    dt = datetime.datetime.strptime(x, \"%Y-%m-%d\")\n",
    "    return dt.date()\n",
    "df['date'] = df['date'].apply(convert_datetime)\n",
    "df.head()"
   ]
  },
  {
   "cell_type": "markdown",
   "metadata": {},
   "source": [
    "## Let's see if there is seasonality with season"
   ]
  },
  {
   "cell_type": "code",
   "execution_count": 113,
   "metadata": {
    "collapsed": false
   },
   "outputs": [
    {
     "data": {
      "text/plain": [
       "<matplotlib.text.Text at 0x1119be990>"
      ]
     },
     "execution_count": 113,
     "metadata": {},
     "output_type": "execute_result"
    },
    {
     "data": {
      "image/png": "[encoded data removed]",
      "text/plain": [
       "<matplotlib.figure.Figure at 0x110b682d0>"
      ]
     },
     "metadata": {},
     "output_type": "display_data"
    }
   ],
   "source": [
    "import pylab\n",
    "%matplotlib inline\n",
    "plt.figure(figsize=(15,5))\n",
    "pylab.plot_date(df.date, df.zipcode)\n",
    "plt.xlabel('year')\n",
    "plt.ylabel('zipcode')"
   ]
  },
  {
   "cell_type": "markdown",
   "metadata": {},
   "source": [
    "- Only cirtain areas are popular. Probably city or near city areas.\n",
    "- Can't really tell.. Let's dig deeper"
   ]
  },
  {
   "cell_type": "code",
   "execution_count": 75,
   "metadata": {
    "collapsed": false,
    "scrolled": true
   },
   "outputs": [
    {
     "data": {
      "text/plain": [
       "datetime.date(2014, 2, 27)"
      ]
     },
     "execution_count": 75,
     "metadata": {},
     "output_type": "execute_result"
    }
   ],
   "source": [
    "df.date[0]"
   ]
  },
  {
   "cell_type": "markdown",
   "metadata": {},
   "source": [
    "### Focus on zipcode from 94100 to 94140"
   ]
  },
  {
   "cell_type": "code",
   "execution_count": 114,
   "metadata": {
    "collapsed": false
   },
   "outputs": [],
   "source": [
    "df.zipcode = df['zipcode'].apply(lambda x:int(x))"
   ]
  },
  {
   "cell_type": "code",
   "execution_count": 116,
   "metadata": {
    "collapsed": false,
    "scrolled": true
   },
   "outputs": [
    {
     "data": {
      "text/plain": [
       "[<matplotlib.lines.Line2D at 0x116f23810>]"
      ]
     },
     "execution_count": 116,
     "metadata": {},
     "output_type": "execute_result"
    },
    {
     "data": {
      "image/png": "[encoded data removed]",
      "text/plain": [
       "<matplotlib.figure.Figure at 0x1196f8550>"
      ]
     },
     "metadata": {},
     "output_type": "display_data"
    }
   ],
   "source": [
    "df2 = df[df['zipcode'] > 94100]\n",
    "df2 = df2[df2['zipcode'] < 94140]\n",
    "\n",
    "plt.figure(figsize=(15,5))\n",
    "pylab.plot_date(df2.date, df2.zipcode)"
   ]
  },
  {
   "cell_type": "markdown",
   "metadata": {},
   "source": [
    "- Can't really tell anything..\n",
    "\n",
    "### What about per year?"
   ]
  },
  {
   "cell_type": "code",
   "execution_count": 117,
   "metadata": {
    "collapsed": false,
    "scrolled": false
   },
   "outputs": [
    {
     "data": {
      "image/png": "[encoded data removed]",
      "text/plain": [
       "<matplotlib.figure.Figure at 0x11ba02f10>"
      ]
     },
     "metadata": {},
     "output_type": "display_data"
    },
    {
     "data": {
      "image/png": "[encoded data removed]",
      "text/plain": [
       "<matplotlib.figure.Figure at 0x114386a10>"
      ]
     },
     "metadata": {},
     "output_type": "display_data"
    },
    {
     "data": {
      "image/png": "[encoded data removed]",
      "text/plain": [
       "<matplotlib.figure.Figure at 0x12278f450>"
      ]
     },
     "metadata": {},
     "output_type": "display_data"
    }
   ],
   "source": [
    "df2012 = df2[df2['date'] >datetime.date(2012, 1, 1)]\n",
    "df2012 = df2012[df2012['date'] < datetime.date(2012, 12, 30)]\n",
    "df2013 = df2[df2['date'] >datetime.date(2013, 1, 1)]\n",
    "df2013 = df2013[df2013['date'] < datetime.date(2013, 12, 30)]\n",
    "df2014 = df2[df2['date'] >datetime.date(2014, 1, 1)]\n",
    "df2014 = df2014[df2014['date'] < datetime.date(2014, 12, 30)]\n",
    "import pylab\n",
    "%matplotlib inline\n",
    "plt.figure(figsize=(10,3))\n",
    "pylab.plot_date(df2012.date, df2012.zipcode)\n",
    "plt.title('2012')\n",
    "plt.show()\n",
    "plt.figure(figsize=(10,3))\n",
    "pylab.plot_date(df2013.date, df2013.zipcode)\n",
    "plt.title('2013')\n",
    "plt.show()\n",
    "plt.figure(figsize=(10,3))\n",
    "pylab.plot_date(df2014.date, df2014.zipcode)\n",
    "plt.title('2014')\n",
    "plt.show()"
   ]
  },
  {
   "cell_type": "markdown",
   "metadata": {},
   "source": [
    "- We can't visually find a pattern. I'll stop here for this."
   ]
  },
  {
   "cell_type": "code",
   "execution_count": null,
   "metadata": {
    "collapsed": true
   },
   "outputs": [],
   "source": []
  },
  {
   "cell_type": "markdown",
   "metadata": {},
   "source": [
    "# Reservation seasonality with pricing\n",
    "- Are Airbnb places price responsive/sensitive on demand?"
   ]
  },
  {
   "cell_type": "markdown",
   "metadata": {},
   "source": [
    "### Read data and preprocess"
   ]
  },
  {
   "cell_type": "code",
   "execution_count": 122,
   "metadata": {
    "collapsed": false,
    "scrolled": false
   },
   "outputs": [
    {
     "data": {
      "text/html": [
       "<div>\n",
       "<table border=\"1\" class=\"dataframe\">\n",
       "  <thead>\n",
       "    <tr style=\"text-align: right;\">\n",
       "      <th></th>\n",
       "      <th>date</th>\n",
       "      <th>price</th>\n",
       "    </tr>\n",
       "  </thead>\n",
       "  <tbody>\n",
       "    <tr>\n",
       "      <th>0</th>\n",
       "      <td>2014-02-27</td>\n",
       "      <td>$170.00</td>\n",
       "    </tr>\n",
       "    <tr>\n",
       "      <th>1</th>\n",
       "      <td>2015-10-07</td>\n",
       "      <td>$170.00</td>\n",
       "    </tr>\n",
       "    <tr>\n",
       "      <th>2</th>\n",
       "      <td>2015-10-12</td>\n",
       "      <td>$170.00</td>\n",
       "    </tr>\n",
       "    <tr>\n",
       "      <th>3</th>\n",
       "      <td>2015-10-17</td>\n",
       "      <td>$170.00</td>\n",
       "    </tr>\n",
       "    <tr>\n",
       "      <th>4</th>\n",
       "      <td>2015-10-26</td>\n",
       "      <td>$170.00</td>\n",
       "    </tr>\n",
       "  </tbody>\n",
       "</table>\n",
       "</div>"
      ],
      "text/plain": [
       "         date    price\n",
       "0  2014-02-27  $170.00\n",
       "1  2015-10-07  $170.00\n",
       "2  2015-10-12  $170.00\n",
       "3  2015-10-17  $170.00\n",
       "4  2015-10-26  $170.00"
      ]
     },
     "execution_count": 122,
     "metadata": {},
     "output_type": "execute_result"
    }
   ],
   "source": [
    "from collections import Counter\n",
    "df = pd.read_csv('data/df_new_en.csv').drop('Unnamed: 0', 1)\n",
    "price_season = df[['date','price']]\n",
    "price_season.head()"
   ]
  },
  {
   "cell_type": "code",
   "execution_count": 124,
   "metadata": {
    "collapsed": false,
    "scrolled": false
   },
   "outputs": [],
   "source": [
    "from re import sub\n",
    "from decimal import Decimal\n",
    "\n",
    "def doller_to_int(x):\n",
    "    x = str(x)\n",
    "    x = Decimal(sub(r'[^\\d.]', '', x))\n",
    "    x = float(x)\n",
    "    return x\n",
    "\n",
    "# doller_to_int(df.price[0])\n",
    "price_season.price = price_season['price'].apply(doller_to_int)\n",
    "\n",
    "price_count  = Counter(price_season.price)"
   ]
  },
  {
   "cell_type": "markdown",
   "metadata": {},
   "source": [
    "### Review frequency based on price"
   ]
  },
  {
   "cell_type": "code",
   "execution_count": 126,
   "metadata": {
    "collapsed": false,
    "scrolled": false
   },
   "outputs": [
    {
     "data": {
      "text/plain": [
       "<matplotlib.text.Text at 0x11748c310>"
      ]
     },
     "execution_count": 126,
     "metadata": {},
     "output_type": "execute_result"
    },
    {
     "data": {
      "image/png": "[encoded data removed]",
      "text/plain": [
       "<matplotlib.figure.Figure at 0x115100990>"
      ]
     },
     "metadata": {},
     "output_type": "display_data"
    }
   ],
   "source": [
    "plt.figure(figsize=(10,7))\n",
    "plt.scatter(price_count.keys(), price_count.values())\n",
    "plt.xlabel('price')\n",
    "plt.ylabel('review frequency')"
   ]
  },
  {
   "cell_type": "markdown",
   "metadata": {},
   "source": [
    "- Most places are between 0 and 2,000 dollar range"
   ]
  },
  {
   "cell_type": "markdown",
   "metadata": {},
   "source": [
    "### Get rid of price points above 2500 since they could affect the averag price too much"
   ]
  },
  {
   "cell_type": "markdown",
   "metadata": {},
   "source": [
    "(preferablly I should've run tests on influencial points as well as leverage points if I had more time)"
   ]
  },
  {
   "cell_type": "code",
   "execution_count": 127,
   "metadata": {
    "collapsed": false,
    "scrolled": true
   },
   "outputs": [
    {
     "data": {
      "text/plain": [
       "(132332, 132325)"
      ]
     },
     "execution_count": 127,
     "metadata": {},
     "output_type": "execute_result"
    }
   ],
   "source": [
    "price_season2 = price_season[price_season['price'] < 2500]\n",
    "len(price_season), len(price_season2)"
   ]
  },
  {
   "cell_type": "markdown",
   "metadata": {},
   "source": [
    "## Get rid of days (only year and month)"
   ]
  },
  {
   "cell_type": "code",
   "execution_count": 128,
   "metadata": {
    "collapsed": false
   },
   "outputs": [
    {
     "name": "stderr",
     "output_type": "stream",
     "text": [
      "/Users/kimitakanakazawa/anaconda/lib/python2.7/site-packages/ipykernel/__main__.py:9: SettingWithCopyWarning: \n",
      "A value is trying to be set on a copy of a slice from a DataFrame.\n",
      "Try using .loc[row_indexer,col_indexer] = value instead\n",
      "\n",
      "See the caveats in the documentation: http://pandas.pydata.org/pandas-docs/stable/indexing.html#indexing-view-versus-copy\n"
     ]
    },
    {
     "data": {
      "text/html": [
       "<div>\n",
       "<table border=\"1\" class=\"dataframe\">\n",
       "  <thead>\n",
       "    <tr style=\"text-align: right;\">\n",
       "      <th></th>\n",
       "      <th>date</th>\n",
       "      <th>price</th>\n",
       "    </tr>\n",
       "  </thead>\n",
       "  <tbody>\n",
       "    <tr>\n",
       "      <th>0</th>\n",
       "      <td>2014-02-01</td>\n",
       "      <td>170</td>\n",
       "    </tr>\n",
       "    <tr>\n",
       "      <th>1</th>\n",
       "      <td>2015-10-01</td>\n",
       "      <td>170</td>\n",
       "    </tr>\n",
       "    <tr>\n",
       "      <th>2</th>\n",
       "      <td>2015-10-01</td>\n",
       "      <td>170</td>\n",
       "    </tr>\n",
       "    <tr>\n",
       "      <th>3</th>\n",
       "      <td>2015-10-01</td>\n",
       "      <td>170</td>\n",
       "    </tr>\n",
       "    <tr>\n",
       "      <th>4</th>\n",
       "      <td>2015-10-01</td>\n",
       "      <td>170</td>\n",
       "    </tr>\n",
       "  </tbody>\n",
       "</table>\n",
       "</div>"
      ],
      "text/plain": [
       "         date  price\n",
       "0  2014-02-01    170\n",
       "1  2015-10-01    170\n",
       "2  2015-10-01    170\n",
       "3  2015-10-01    170\n",
       "4  2015-10-01    170"
      ]
     },
     "execution_count": 128,
     "metadata": {},
     "output_type": "execute_result"
    }
   ],
   "source": [
    "# dates to year-month\n",
    "price_season2.date = [month[:7] for month in price_season2.date]\n",
    "\n",
    "# convert to datetime \n",
    "import datetime\n",
    "def convert_datetime(x):\n",
    "    dt = datetime.datetime.strptime(x, \"%Y-%m\")\n",
    "    return dt.date()\n",
    "price_season2['date'] = price_season2['date'].apply(convert_datetime)\n",
    "price_season2.head()"
   ]
  },
  {
   "cell_type": "markdown",
   "metadata": {},
   "source": [
    "## Group by listing id and make average price for each month"
   ]
  },
  {
   "cell_type": "code",
   "execution_count": 129,
   "metadata": {
    "collapsed": false,
    "scrolled": true
   },
   "outputs": [
    {
     "data": {
      "text/html": [
       "<div>\n",
       "<table border=\"1\" class=\"dataframe\">\n",
       "  <thead>\n",
       "    <tr style=\"text-align: right;\">\n",
       "      <th></th>\n",
       "      <th>price</th>\n",
       "    </tr>\n",
       "    <tr>\n",
       "      <th>date</th>\n",
       "      <th></th>\n",
       "    </tr>\n",
       "  </thead>\n",
       "  <tbody>\n",
       "    <tr>\n",
       "      <th>2009-03-01</th>\n",
       "      <td>181.0</td>\n",
       "    </tr>\n",
       "    <tr>\n",
       "      <th>2009-05-01</th>\n",
       "      <td>250.0</td>\n",
       "    </tr>\n",
       "    <tr>\n",
       "      <th>2009-06-01</th>\n",
       "      <td>250.0</td>\n",
       "    </tr>\n",
       "    <tr>\n",
       "      <th>2009-07-01</th>\n",
       "      <td>210.0</td>\n",
       "    </tr>\n",
       "    <tr>\n",
       "      <th>2009-08-01</th>\n",
       "      <td>197.9</td>\n",
       "    </tr>\n",
       "  </tbody>\n",
       "</table>\n",
       "</div>"
      ],
      "text/plain": [
       "            price\n",
       "date             \n",
       "2009-03-01  181.0\n",
       "2009-05-01  250.0\n",
       "2009-06-01  250.0\n",
       "2009-07-01  210.0\n",
       "2009-08-01  197.9"
      ]
     },
     "execution_count": 129,
     "metadata": {},
     "output_type": "execute_result"
    }
   ],
   "source": [
    "groupby_month = price_season2.groupby('date').aggregate(np.mean)\n",
    "groupby_month.head()"
   ]
  },
  {
   "cell_type": "markdown",
   "metadata": {},
   "source": [
    "## Let's see if there is pricing pattern "
   ]
  },
  {
   "cell_type": "code",
   "execution_count": 130,
   "metadata": {
    "collapsed": false,
    "scrolled": true
   },
   "outputs": [
    {
     "data": {
      "text/plain": [
       "<matplotlib.text.Text at 0x1142fb790>"
      ]
     },
     "execution_count": 130,
     "metadata": {},
     "output_type": "execute_result"
    },
    {
     "data": {
      "image/png": "[encoded data removed]",
      "text/plain": [
       "<matplotlib.figure.Figure at 0x1143703d0>"
      ]
     },
     "metadata": {},
     "output_type": "display_data"
    }
   ],
   "source": [
    "groupby_month.plot(kind='bar',figsize=(15,5))\n",
    "plt.ylabel('price')"
   ]
  },
  {
   "cell_type": "markdown",
   "metadata": {},
   "source": [
    "### Possible decrease in price from June to March (possibly August) between 2009-2010. Possible reasons:  \n",
    "- SF visitor counts directly affected host's pricing strategy.\n",
    "- Early adopter hosts would have had higher prices (due to un-educated pricing or monopoly-like situation) and as growing number of hosts being added (so more competitive and hosts get smarter), the price would have been optimized to the right market level."
   ]
  },
  {
   "cell_type": "markdown",
   "metadata": {},
   "source": [
    "### But can't really say anything for seasonality.."
   ]
  },
  {
   "cell_type": "markdown",
   "metadata": {},
   "source": [
    "### What about monthly?"
   ]
  },
  {
   "cell_type": "code",
   "execution_count": 131,
   "metadata": {
    "collapsed": false
   },
   "outputs": [
    {
     "data": {
      "text/html": [
       "<div>\n",
       "<table border=\"1\" class=\"dataframe\">\n",
       "  <thead>\n",
       "    <tr style=\"text-align: right;\">\n",
       "      <th></th>\n",
       "      <th>date</th>\n",
       "      <th>price</th>\n",
       "    </tr>\n",
       "  </thead>\n",
       "  <tbody>\n",
       "    <tr>\n",
       "      <th>0</th>\n",
       "      <td>2</td>\n",
       "      <td>170</td>\n",
       "    </tr>\n",
       "    <tr>\n",
       "      <th>1</th>\n",
       "      <td>10</td>\n",
       "      <td>170</td>\n",
       "    </tr>\n",
       "    <tr>\n",
       "      <th>2</th>\n",
       "      <td>10</td>\n",
       "      <td>170</td>\n",
       "    </tr>\n",
       "    <tr>\n",
       "      <th>3</th>\n",
       "      <td>10</td>\n",
       "      <td>170</td>\n",
       "    </tr>\n",
       "    <tr>\n",
       "      <th>4</th>\n",
       "      <td>10</td>\n",
       "      <td>170</td>\n",
       "    </tr>\n",
       "  </tbody>\n",
       "</table>\n",
       "</div>"
      ],
      "text/plain": [
       "   date  price\n",
       "0     2    170\n",
       "1    10    170\n",
       "2    10    170\n",
       "3    10    170\n",
       "4    10    170"
      ]
     },
     "execution_count": 131,
     "metadata": {},
     "output_type": "execute_result"
    }
   ],
   "source": [
    "price_season3 = price_season2[:][:]\n",
    "import datetime\n",
    "def convert_datetime_to_month(x):\n",
    "    return x.month\n",
    "price_season3['date'] = price_season3['date'].apply(convert_datetime_to_month)\n",
    "price_season3.head()\n"
   ]
  },
  {
   "cell_type": "code",
   "execution_count": 132,
   "metadata": {
    "collapsed": false,
    "scrolled": true
   },
   "outputs": [
    {
     "data": {
      "text/html": [
       "<div>\n",
       "<table border=\"1\" class=\"dataframe\">\n",
       "  <thead>\n",
       "    <tr style=\"text-align: right;\">\n",
       "      <th></th>\n",
       "      <th>price</th>\n",
       "    </tr>\n",
       "    <tr>\n",
       "      <th>date</th>\n",
       "      <th></th>\n",
       "    </tr>\n",
       "  </thead>\n",
       "  <tbody>\n",
       "    <tr>\n",
       "      <th>1</th>\n",
       "      <td>183.627507</td>\n",
       "    </tr>\n",
       "    <tr>\n",
       "      <th>2</th>\n",
       "      <td>176.760987</td>\n",
       "    </tr>\n",
       "    <tr>\n",
       "      <th>3</th>\n",
       "      <td>173.045980</td>\n",
       "    </tr>\n",
       "    <tr>\n",
       "      <th>4</th>\n",
       "      <td>177.832417</td>\n",
       "    </tr>\n",
       "    <tr>\n",
       "      <th>5</th>\n",
       "      <td>171.902930</td>\n",
       "    </tr>\n",
       "    <tr>\n",
       "      <th>6</th>\n",
       "      <td>173.119794</td>\n",
       "    </tr>\n",
       "    <tr>\n",
       "      <th>7</th>\n",
       "      <td>179.676557</td>\n",
       "    </tr>\n",
       "    <tr>\n",
       "      <th>8</th>\n",
       "      <td>178.754106</td>\n",
       "    </tr>\n",
       "    <tr>\n",
       "      <th>9</th>\n",
       "      <td>175.042630</td>\n",
       "    </tr>\n",
       "    <tr>\n",
       "      <th>10</th>\n",
       "      <td>176.611468</td>\n",
       "    </tr>\n",
       "    <tr>\n",
       "      <th>11</th>\n",
       "      <td>177.645918</td>\n",
       "    </tr>\n",
       "    <tr>\n",
       "      <th>12</th>\n",
       "      <td>182.136355</td>\n",
       "    </tr>\n",
       "  </tbody>\n",
       "</table>\n",
       "</div>"
      ],
      "text/plain": [
       "           price\n",
       "date            \n",
       "1     183.627507\n",
       "2     176.760987\n",
       "3     173.045980\n",
       "4     177.832417\n",
       "5     171.902930\n",
       "6     173.119794\n",
       "7     179.676557\n",
       "8     178.754106\n",
       "9     175.042630\n",
       "10    176.611468\n",
       "11    177.645918\n",
       "12    182.136355"
      ]
     },
     "execution_count": 132,
     "metadata": {},
     "output_type": "execute_result"
    }
   ],
   "source": [
    "groupby_month2 = price_season3.groupby('date').aggregate(np.mean)\n",
    "groupby_month2"
   ]
  },
  {
   "cell_type": "code",
   "execution_count": 133,
   "metadata": {
    "collapsed": false
   },
   "outputs": [
    {
     "data": {
      "text/plain": [
       "<matplotlib.text.Text at 0x10e1e1e90>"
      ]
     },
     "execution_count": 133,
     "metadata": {},
     "output_type": "execute_result"
    },
    {
     "data": {
      "image/png": "[encoded data removed]",
      "text/plain": [
       "<matplotlib.figure.Figure at 0x11ad5d450>"
      ]
     },
     "metadata": {},
     "output_type": "display_data"
    }
   ],
   "source": [
    "groupby_month2.plot(kind='bar',figsize=(15,5))\n",
    "plt.ylabel('price')"
   ]
  },
  {
   "cell_type": "markdown",
   "metadata": {},
   "source": [
    "- Looks like no relationship or price is pretty much fixed at macro level (seasonality ignorant) but let's check if that's right."
   ]
  },
  {
   "cell_type": "markdown",
   "metadata": {},
   "source": [
    "## Hypothesis\n",
    "\n",
    "Null: pricing is equal across months\n",
    "\n",
    "Alternative: pricing is different across months"
   ]
  },
  {
   "cell_type": "code",
   "execution_count": 106,
   "metadata": {
    "collapsed": false,
    "scrolled": true
   },
   "outputs": [
    {
     "name": "stdout",
     "output_type": "stream",
     "text": [
      "[183.62750716332377, 176.76098676686817, 173.04597974985111, 177.83241665731282, 171.90292960209882, 173.11979421852033, 179.67655743608211, 178.75410566163782, 175.04263033565897, 176.61146822913705, 177.64591836734695, 182.13635526073338]\n",
      "[177.17972078738092, 177.17972078738092, 177.17972078738092, 177.17972078738092, 177.17972078738092, 177.17972078738092, 177.17972078738092, 177.17972078738092, 177.17972078738092, 177.17972078738092, 177.17972078738092, 177.17972078738092]\n"
     ]
    }
   ],
   "source": [
    "obs_monthly_price = list(groupby_month2.price)\n",
    "null_monthly_price = [np.mean(obs_monthly_price)]*12\n",
    "print obs_monthly_price\n",
    "print null_monthly_price"
   ]
  },
  {
   "cell_type": "code",
   "execution_count": 108,
   "metadata": {
    "collapsed": false
   },
   "outputs": [
    {
     "data": {
      "text/plain": [
       "Power_divergenceResult(statistic=0.80132847911568961, pvalue=0.99998380219808847)"
      ]
     },
     "execution_count": 108,
     "metadata": {},
     "output_type": "execute_result"
    }
   ],
   "source": [
    "import scipy.stats as ss\n",
    "ss.chisquare(obs_monthly_price,null_monthly_price)"
   ]
  },
  {
   "cell_type": "markdown",
   "metadata": {},
   "source": [
    "-No seasonality."
   ]
  },
  {
   "cell_type": "markdown",
   "metadata": {},
   "source": [
    "# Find undervalued places with sentiment, price, review count"
   ]
  },
  {
   "cell_type": "markdown",
   "metadata": {},
   "source": [
    "- Lastly, just because I was moving to San Francsico and for my benefit, I wanted to search undere-valued places on airbnb."
   ]
  },
  {
   "cell_type": "markdown",
   "metadata": {},
   "source": [
    "## Read data and preprocess"
   ]
  },
  {
   "cell_type": "code",
   "execution_count": 64,
   "metadata": {
    "collapsed": false,
    "scrolled": false
   },
   "outputs": [
    {
     "data": {
      "text/html": [
       "<div>\n",
       "<table border=\"1\" class=\"dataframe\">\n",
       "  <thead>\n",
       "    <tr style=\"text-align: right;\">\n",
       "      <th></th>\n",
       "      <th>review_id</th>\n",
       "      <th>id</th>\n",
       "      <th>listing_url</th>\n",
       "      <th>price</th>\n",
       "      <th>zipcode</th>\n",
       "    </tr>\n",
       "  </thead>\n",
       "  <tbody>\n",
       "    <tr>\n",
       "      <th>0</th>\n",
       "      <td>10612780</td>\n",
       "      <td>1994427</td>\n",
       "      <td>https://www.airbnb.com/rooms/1994427</td>\n",
       "      <td>$170.00</td>\n",
       "      <td>94110</td>\n",
       "    </tr>\n",
       "    <tr>\n",
       "      <th>1</th>\n",
       "      <td>49925683</td>\n",
       "      <td>1994427</td>\n",
       "      <td>https://www.airbnb.com/rooms/1994427</td>\n",
       "      <td>$170.00</td>\n",
       "      <td>94110</td>\n",
       "    </tr>\n",
       "    <tr>\n",
       "      <th>2</th>\n",
       "      <td>50537634</td>\n",
       "      <td>1994427</td>\n",
       "      <td>https://www.airbnb.com/rooms/1994427</td>\n",
       "      <td>$170.00</td>\n",
       "      <td>94110</td>\n",
       "    </tr>\n",
       "    <tr>\n",
       "      <th>3</th>\n",
       "      <td>51077613</td>\n",
       "      <td>1994427</td>\n",
       "      <td>https://www.airbnb.com/rooms/1994427</td>\n",
       "      <td>$170.00</td>\n",
       "      <td>94110</td>\n",
       "    </tr>\n",
       "    <tr>\n",
       "      <th>4</th>\n",
       "      <td>52109034</td>\n",
       "      <td>1994427</td>\n",
       "      <td>https://www.airbnb.com/rooms/1994427</td>\n",
       "      <td>$170.00</td>\n",
       "      <td>94110</td>\n",
       "    </tr>\n",
       "  </tbody>\n",
       "</table>\n",
       "</div>"
      ],
      "text/plain": [
       "   review_id       id                           listing_url    price  zipcode\n",
       "0   10612780  1994427  https://www.airbnb.com/rooms/1994427  $170.00    94110\n",
       "1   49925683  1994427  https://www.airbnb.com/rooms/1994427  $170.00    94110\n",
       "2   50537634  1994427  https://www.airbnb.com/rooms/1994427  $170.00    94110\n",
       "3   51077613  1994427  https://www.airbnb.com/rooms/1994427  $170.00    94110\n",
       "4   52109034  1994427  https://www.airbnb.com/rooms/1994427  $170.00    94110"
      ]
     },
     "execution_count": 64,
     "metadata": {},
     "output_type": "execute_result"
    }
   ],
   "source": [
    "df = pd.read_csv('data/df_new_en.csv').drop('Unnamed: 0', 1)\n",
    "df = df[['review_id','id','listing_url','price','zipcode']]\n",
    "df.head()\n",
    "# print df.info()\n"
   ]
  },
  {
   "cell_type": "code",
   "execution_count": 68,
   "metadata": {
    "collapsed": false
   },
   "outputs": [
    {
     "data": {
      "text/html": [
       "<div>\n",
       "<table border=\"1\" class=\"dataframe\">\n",
       "  <thead>\n",
       "    <tr style=\"text-align: right;\">\n",
       "      <th></th>\n",
       "      <th>review_id</th>\n",
       "      <th>bagging_sgd_sentiment</th>\n",
       "    </tr>\n",
       "  </thead>\n",
       "  <tbody>\n",
       "    <tr>\n",
       "      <th>0</th>\n",
       "      <td>10612780</td>\n",
       "      <td>1</td>\n",
       "    </tr>\n",
       "    <tr>\n",
       "      <th>1</th>\n",
       "      <td>49925683</td>\n",
       "      <td>1</td>\n",
       "    </tr>\n",
       "    <tr>\n",
       "      <th>2</th>\n",
       "      <td>50537634</td>\n",
       "      <td>1</td>\n",
       "    </tr>\n",
       "    <tr>\n",
       "      <th>3</th>\n",
       "      <td>51077613</td>\n",
       "      <td>1</td>\n",
       "    </tr>\n",
       "    <tr>\n",
       "      <th>4</th>\n",
       "      <td>52109034</td>\n",
       "      <td>1</td>\n",
       "    </tr>\n",
       "  </tbody>\n",
       "</table>\n",
       "</div>"
      ],
      "text/plain": [
       "   review_id  bagging_sgd_sentiment\n",
       "0   10612780                      1\n",
       "1   49925683                      1\n",
       "2   50537634                      1\n",
       "3   51077613                      1\n",
       "4   52109034                      1"
      ]
     },
     "execution_count": 68,
     "metadata": {},
     "output_type": "execute_result"
    }
   ],
   "source": [
    "sentiment_df = pd.read_csv('data/df_new_en_labeled_bagging_sgd_sentiment.csv').drop('Unnamed: 0', 1)\n",
    "sentiment_df.head()"
   ]
  },
  {
   "cell_type": "code",
   "execution_count": 310,
   "metadata": {
    "collapsed": false
   },
   "outputs": [
    {
     "data": {
      "text/plain": [
       "Counter({-1.0: 1649, 1.0: 130683})"
      ]
     },
     "execution_count": 310,
     "metadata": {},
     "output_type": "execute_result"
    }
   ],
   "source": [
    "Counter(sentiment_df.bagging_sgd_sentiment)"
   ]
  },
  {
   "cell_type": "code",
   "execution_count": 311,
   "metadata": {
    "collapsed": false
   },
   "outputs": [
    {
     "data": {
      "text/plain": [
       "(132332, 132332)"
      ]
     },
     "execution_count": 311,
     "metadata": {},
     "output_type": "execute_result"
    }
   ],
   "source": [
    "len(df),len(sentiment_df)"
   ]
  },
  {
   "cell_type": "code",
   "execution_count": 312,
   "metadata": {
    "collapsed": false
   },
   "outputs": [
    {
     "data": {
      "text/html": [
       "<div>\n",
       "<table border=\"1\" class=\"dataframe\">\n",
       "  <thead>\n",
       "    <tr style=\"text-align: right;\">\n",
       "      <th></th>\n",
       "      <th>review_id</th>\n",
       "      <th>id</th>\n",
       "      <th>listing_url</th>\n",
       "      <th>price</th>\n",
       "      <th>zipcode</th>\n",
       "      <th>bagging_sgd_sentiment</th>\n",
       "    </tr>\n",
       "  </thead>\n",
       "  <tbody>\n",
       "    <tr>\n",
       "      <th>0</th>\n",
       "      <td>10612780</td>\n",
       "      <td>1994427</td>\n",
       "      <td>https://www.airbnb.com/rooms/1994427</td>\n",
       "      <td>$170.00</td>\n",
       "      <td>94110</td>\n",
       "      <td>1</td>\n",
       "    </tr>\n",
       "    <tr>\n",
       "      <th>1</th>\n",
       "      <td>49925683</td>\n",
       "      <td>1994427</td>\n",
       "      <td>https://www.airbnb.com/rooms/1994427</td>\n",
       "      <td>$170.00</td>\n",
       "      <td>94110</td>\n",
       "      <td>1</td>\n",
       "    </tr>\n",
       "    <tr>\n",
       "      <th>2</th>\n",
       "      <td>50537634</td>\n",
       "      <td>1994427</td>\n",
       "      <td>https://www.airbnb.com/rooms/1994427</td>\n",
       "      <td>$170.00</td>\n",
       "      <td>94110</td>\n",
       "      <td>1</td>\n",
       "    </tr>\n",
       "    <tr>\n",
       "      <th>3</th>\n",
       "      <td>51077613</td>\n",
       "      <td>1994427</td>\n",
       "      <td>https://www.airbnb.com/rooms/1994427</td>\n",
       "      <td>$170.00</td>\n",
       "      <td>94110</td>\n",
       "      <td>1</td>\n",
       "    </tr>\n",
       "    <tr>\n",
       "      <th>4</th>\n",
       "      <td>52109034</td>\n",
       "      <td>1994427</td>\n",
       "      <td>https://www.airbnb.com/rooms/1994427</td>\n",
       "      <td>$170.00</td>\n",
       "      <td>94110</td>\n",
       "      <td>1</td>\n",
       "    </tr>\n",
       "  </tbody>\n",
       "</table>\n",
       "</div>"
      ],
      "text/plain": [
       "   review_id       id                           listing_url    price  zipcode  \\\n",
       "0   10612780  1994427  https://www.airbnb.com/rooms/1994427  $170.00    94110   \n",
       "1   49925683  1994427  https://www.airbnb.com/rooms/1994427  $170.00    94110   \n",
       "2   50537634  1994427  https://www.airbnb.com/rooms/1994427  $170.00    94110   \n",
       "3   51077613  1994427  https://www.airbnb.com/rooms/1994427  $170.00    94110   \n",
       "4   52109034  1994427  https://www.airbnb.com/rooms/1994427  $170.00    94110   \n",
       "\n",
       "   bagging_sgd_sentiment  \n",
       "0                      1  \n",
       "1                      1  \n",
       "2                      1  \n",
       "3                      1  \n",
       "4                      1  "
      ]
     },
     "execution_count": 312,
     "metadata": {},
     "output_type": "execute_result"
    }
   ],
   "source": [
    "df2 = pd.merge(df,sentiment_df,on='review_id')\n",
    "df2.head()"
   ]
  },
  {
   "cell_type": "code",
   "execution_count": 313,
   "metadata": {
    "collapsed": false
   },
   "outputs": [
    {
     "data": {
      "text/plain": [
       "132332"
      ]
     },
     "execution_count": 313,
     "metadata": {},
     "output_type": "execute_result"
    }
   ],
   "source": [
    "len(df2)"
   ]
  },
  {
   "cell_type": "code",
   "execution_count": 314,
   "metadata": {
    "collapsed": false
   },
   "outputs": [
    {
     "data": {
      "text/html": [
       "<div>\n",
       "<table border=\"1\" class=\"dataframe\">\n",
       "  <thead>\n",
       "    <tr style=\"text-align: right;\">\n",
       "      <th></th>\n",
       "      <th>review_id</th>\n",
       "      <th>id</th>\n",
       "      <th>listing_url</th>\n",
       "      <th>price</th>\n",
       "      <th>zipcode</th>\n",
       "      <th>bagging_sgd_sentiment</th>\n",
       "    </tr>\n",
       "  </thead>\n",
       "  <tbody>\n",
       "    <tr>\n",
       "      <th>0</th>\n",
       "      <td>10612780</td>\n",
       "      <td>1994427</td>\n",
       "      <td>https://www.airbnb.com/rooms/1994427</td>\n",
       "      <td>170</td>\n",
       "      <td>94110</td>\n",
       "      <td>1</td>\n",
       "    </tr>\n",
       "    <tr>\n",
       "      <th>1</th>\n",
       "      <td>49925683</td>\n",
       "      <td>1994427</td>\n",
       "      <td>https://www.airbnb.com/rooms/1994427</td>\n",
       "      <td>170</td>\n",
       "      <td>94110</td>\n",
       "      <td>1</td>\n",
       "    </tr>\n",
       "    <tr>\n",
       "      <th>2</th>\n",
       "      <td>50537634</td>\n",
       "      <td>1994427</td>\n",
       "      <td>https://www.airbnb.com/rooms/1994427</td>\n",
       "      <td>170</td>\n",
       "      <td>94110</td>\n",
       "      <td>1</td>\n",
       "    </tr>\n",
       "    <tr>\n",
       "      <th>3</th>\n",
       "      <td>51077613</td>\n",
       "      <td>1994427</td>\n",
       "      <td>https://www.airbnb.com/rooms/1994427</td>\n",
       "      <td>170</td>\n",
       "      <td>94110</td>\n",
       "      <td>1</td>\n",
       "    </tr>\n",
       "    <tr>\n",
       "      <th>4</th>\n",
       "      <td>52109034</td>\n",
       "      <td>1994427</td>\n",
       "      <td>https://www.airbnb.com/rooms/1994427</td>\n",
       "      <td>170</td>\n",
       "      <td>94110</td>\n",
       "      <td>1</td>\n",
       "    </tr>\n",
       "  </tbody>\n",
       "</table>\n",
       "</div>"
      ],
      "text/plain": [
       "   review_id       id                           listing_url  price  zipcode  \\\n",
       "0   10612780  1994427  https://www.airbnb.com/rooms/1994427    170    94110   \n",
       "1   49925683  1994427  https://www.airbnb.com/rooms/1994427    170    94110   \n",
       "2   50537634  1994427  https://www.airbnb.com/rooms/1994427    170    94110   \n",
       "3   51077613  1994427  https://www.airbnb.com/rooms/1994427    170    94110   \n",
       "4   52109034  1994427  https://www.airbnb.com/rooms/1994427    170    94110   \n",
       "\n",
       "   bagging_sgd_sentiment  \n",
       "0                      1  \n",
       "1                      1  \n",
       "2                      1  \n",
       "3                      1  \n",
       "4                      1  "
      ]
     },
     "execution_count": 314,
     "metadata": {},
     "output_type": "execute_result"
    }
   ],
   "source": [
    "def doller_to_int(x):\n",
    "    x = str(x)\n",
    "    x = Decimal(sub(r'[^\\d.]', '', x))\n",
    "    x = float(x)\n",
    "    return x\n",
    "\n",
    "# doller_to_int(df.price[0])\n",
    "df2.price = df2['price'].apply(doller_to_int)\n",
    "df2.head()"
   ]
  },
  {
   "cell_type": "code",
   "execution_count": 315,
   "metadata": {
    "collapsed": false
   },
   "outputs": [
    {
     "data": {
      "text/plain": [
       "Counter({-1.0: 1649, 1.0: 130683})"
      ]
     },
     "execution_count": 315,
     "metadata": {},
     "output_type": "execute_result"
    }
   ],
   "source": [
    "Counter(df2.bagging_sgd_sentiment)"
   ]
  },
  {
   "cell_type": "code",
   "execution_count": 316,
   "metadata": {
    "collapsed": false
   },
   "outputs": [
    {
     "name": "stderr",
     "output_type": "stream",
     "text": [
      "/Users/kimitakanakazawa/anaconda/lib/python2.7/site-packages/ipykernel/__main__.py:1: SettingWithCopyWarning: \n",
      "A value is trying to be set on a copy of a slice from a DataFrame\n",
      "\n",
      "See the caveats in the documentation: http://pandas.pydata.org/pandas-docs/stable/indexing.html#indexing-view-versus-copy\n",
      "  if __name__ == '__main__':\n"
     ]
    },
    {
     "data": {
      "text/plain": [
       "Counter({0.0: 1649, 1.0: 130683})"
      ]
     },
     "execution_count": 316,
     "metadata": {},
     "output_type": "execute_result"
    }
   ],
   "source": [
    "df2['bagging_sgd_sentiment'][df2['bagging_sgd_sentiment'] == -1] = 0\n",
    "Counter(df2.bagging_sgd_sentiment)"
   ]
  },
  {
   "cell_type": "code",
   "execution_count": 318,
   "metadata": {
    "collapsed": false
   },
   "outputs": [
    {
     "data": {
      "text/html": [
       "<div>\n",
       "<table border=\"1\" class=\"dataframe\">\n",
       "  <thead>\n",
       "    <tr style=\"text-align: right;\">\n",
       "      <th></th>\n",
       "      <th>review_id</th>\n",
       "      <th>id</th>\n",
       "      <th>listing_url</th>\n",
       "      <th>price</th>\n",
       "      <th>zipcode</th>\n",
       "      <th>bagging_sgd_sentiment</th>\n",
       "      <th>review_count</th>\n",
       "    </tr>\n",
       "  </thead>\n",
       "  <tbody>\n",
       "    <tr>\n",
       "      <th>0</th>\n",
       "      <td>10612780</td>\n",
       "      <td>1994427</td>\n",
       "      <td>https://www.airbnb.com/rooms/1994427</td>\n",
       "      <td>170</td>\n",
       "      <td>94110</td>\n",
       "      <td>1</td>\n",
       "      <td>1</td>\n",
       "    </tr>\n",
       "    <tr>\n",
       "      <th>1</th>\n",
       "      <td>49925683</td>\n",
       "      <td>1994427</td>\n",
       "      <td>https://www.airbnb.com/rooms/1994427</td>\n",
       "      <td>170</td>\n",
       "      <td>94110</td>\n",
       "      <td>1</td>\n",
       "      <td>1</td>\n",
       "    </tr>\n",
       "    <tr>\n",
       "      <th>2</th>\n",
       "      <td>50537634</td>\n",
       "      <td>1994427</td>\n",
       "      <td>https://www.airbnb.com/rooms/1994427</td>\n",
       "      <td>170</td>\n",
       "      <td>94110</td>\n",
       "      <td>1</td>\n",
       "      <td>1</td>\n",
       "    </tr>\n",
       "    <tr>\n",
       "      <th>3</th>\n",
       "      <td>51077613</td>\n",
       "      <td>1994427</td>\n",
       "      <td>https://www.airbnb.com/rooms/1994427</td>\n",
       "      <td>170</td>\n",
       "      <td>94110</td>\n",
       "      <td>1</td>\n",
       "      <td>1</td>\n",
       "    </tr>\n",
       "    <tr>\n",
       "      <th>4</th>\n",
       "      <td>52109034</td>\n",
       "      <td>1994427</td>\n",
       "      <td>https://www.airbnb.com/rooms/1994427</td>\n",
       "      <td>170</td>\n",
       "      <td>94110</td>\n",
       "      <td>1</td>\n",
       "      <td>1</td>\n",
       "    </tr>\n",
       "  </tbody>\n",
       "</table>\n",
       "</div>"
      ],
      "text/plain": [
       "   review_id       id                           listing_url  price  zipcode  \\\n",
       "0   10612780  1994427  https://www.airbnb.com/rooms/1994427    170    94110   \n",
       "1   49925683  1994427  https://www.airbnb.com/rooms/1994427    170    94110   \n",
       "2   50537634  1994427  https://www.airbnb.com/rooms/1994427    170    94110   \n",
       "3   51077613  1994427  https://www.airbnb.com/rooms/1994427    170    94110   \n",
       "4   52109034  1994427  https://www.airbnb.com/rooms/1994427    170    94110   \n",
       "\n",
       "   bagging_sgd_sentiment  review_count  \n",
       "0                      1             1  \n",
       "1                      1             1  \n",
       "2                      1             1  \n",
       "3                      1             1  \n",
       "4                      1             1  "
      ]
     },
     "execution_count": 318,
     "metadata": {},
     "output_type": "execute_result"
    }
   ],
   "source": [
    "df2['review_count'] = 1\n",
    "df2.head()"
   ]
  },
  {
   "cell_type": "markdown",
   "metadata": {},
   "source": [
    "### Group by id to see count of total positive sentiment and total review count."
   ]
  },
  {
   "cell_type": "code",
   "execution_count": 320,
   "metadata": {
    "collapsed": false,
    "scrolled": false
   },
   "outputs": [
    {
     "name": "stdout",
     "output_type": "stream",
     "text": [
      "5667\n"
     ]
    },
    {
     "data": {
      "text/html": [
       "<div>\n",
       "<table border=\"1\" class=\"dataframe\">\n",
       "  <thead>\n",
       "    <tr style=\"text-align: right;\">\n",
       "      <th></th>\n",
       "      <th>bagging_sgd_sentiment</th>\n",
       "      <th>review_count</th>\n",
       "    </tr>\n",
       "    <tr>\n",
       "      <th>id</th>\n",
       "      <th></th>\n",
       "      <th></th>\n",
       "    </tr>\n",
       "  </thead>\n",
       "  <tbody>\n",
       "    <tr>\n",
       "      <th>958</th>\n",
       "      <td>34</td>\n",
       "      <td>34</td>\n",
       "    </tr>\n",
       "    <tr>\n",
       "      <th>2822</th>\n",
       "      <td>41</td>\n",
       "      <td>41</td>\n",
       "    </tr>\n",
       "    <tr>\n",
       "      <th>5193</th>\n",
       "      <td>180</td>\n",
       "      <td>184</td>\n",
       "    </tr>\n",
       "    <tr>\n",
       "      <th>5841</th>\n",
       "      <td>35</td>\n",
       "      <td>35</td>\n",
       "    </tr>\n",
       "    <tr>\n",
       "      <th>5858</th>\n",
       "      <td>104</td>\n",
       "      <td>104</td>\n",
       "    </tr>\n",
       "  </tbody>\n",
       "</table>\n",
       "</div>"
      ],
      "text/plain": [
       "      bagging_sgd_sentiment  review_count\n",
       "id                                       \n",
       "958                      34            34\n",
       "2822                     41            41\n",
       "5193                    180           184\n",
       "5841                     35            35\n",
       "5858                    104           104"
      ]
     },
     "execution_count": 320,
     "metadata": {},
     "output_type": "execute_result"
    }
   ],
   "source": [
    "review_by_listing = df2[['id','bagging_sgd_sentiment','review_count']].groupby('id').aggregate(sum)\n",
    "print len(review_by_listing)\n",
    "review_by_listing.head()"
   ]
  },
  {
   "cell_type": "markdown",
   "metadata": {},
   "source": [
    "### Give sentiment rate (positive sentiment review count /total review count)\n",
    "- How likely the place has positive sentiment"
   ]
  },
  {
   "cell_type": "code",
   "execution_count": 321,
   "metadata": {
    "collapsed": false,
    "scrolled": true
   },
   "outputs": [
    {
     "data": {
      "text/html": [
       "<div>\n",
       "<table border=\"1\" class=\"dataframe\">\n",
       "  <thead>\n",
       "    <tr style=\"text-align: right;\">\n",
       "      <th></th>\n",
       "      <th>bagging_sgd_sentiment</th>\n",
       "      <th>review_count</th>\n",
       "      <th>sentiment_rate</th>\n",
       "    </tr>\n",
       "    <tr>\n",
       "      <th>id</th>\n",
       "      <th></th>\n",
       "      <th></th>\n",
       "      <th></th>\n",
       "    </tr>\n",
       "  </thead>\n",
       "  <tbody>\n",
       "    <tr>\n",
       "      <th>958</th>\n",
       "      <td>34</td>\n",
       "      <td>34</td>\n",
       "      <td>1.000000</td>\n",
       "    </tr>\n",
       "    <tr>\n",
       "      <th>2822</th>\n",
       "      <td>41</td>\n",
       "      <td>41</td>\n",
       "      <td>1.000000</td>\n",
       "    </tr>\n",
       "    <tr>\n",
       "      <th>5193</th>\n",
       "      <td>180</td>\n",
       "      <td>184</td>\n",
       "      <td>0.978261</td>\n",
       "    </tr>\n",
       "    <tr>\n",
       "      <th>5841</th>\n",
       "      <td>35</td>\n",
       "      <td>35</td>\n",
       "      <td>1.000000</td>\n",
       "    </tr>\n",
       "    <tr>\n",
       "      <th>5858</th>\n",
       "      <td>104</td>\n",
       "      <td>104</td>\n",
       "      <td>1.000000</td>\n",
       "    </tr>\n",
       "  </tbody>\n",
       "</table>\n",
       "</div>"
      ],
      "text/plain": [
       "      bagging_sgd_sentiment  review_count  sentiment_rate\n",
       "id                                                       \n",
       "958                      34            34        1.000000\n",
       "2822                     41            41        1.000000\n",
       "5193                    180           184        0.978261\n",
       "5841                     35            35        1.000000\n",
       "5858                    104           104        1.000000"
      ]
     },
     "execution_count": 321,
     "metadata": {},
     "output_type": "execute_result"
    }
   ],
   "source": [
    "review_by_listing['sentiment_rate'] = review_by_listing['bagging_sgd_sentiment']/(review_by_listing['review_count'])\n",
    "review_by_listing.head()"
   ]
  },
  {
   "cell_type": "markdown",
   "metadata": {},
   "source": [
    "### Sentiment rate distribution looks like this (< 0.9)"
   ]
  },
  {
   "cell_type": "code",
   "execution_count": 322,
   "metadata": {
    "collapsed": false
   },
   "outputs": [
    {
     "data": {
      "text/plain": [
       "<matplotlib.axes._subplots.AxesSubplot at 0x123c0e2d0>"
      ]
     },
     "execution_count": 322,
     "metadata": {},
     "output_type": "execute_result"
    },
    {
     "data": {
      "image/png": "[encoded data removed]",
      "text/plain": [
       "<matplotlib.figure.Figure at 0x121915790>"
      ]
     },
     "metadata": {},
     "output_type": "display_data"
    }
   ],
   "source": [
    "review_by_listing[review_by_listing.sentiment_rate < 0.9]['sentiment_rate'].plot(kind='hist')"
   ]
  },
  {
   "cell_type": "markdown",
   "metadata": {},
   "source": [
    "### Limit only sentiment_rate = 1 (places with only good reviews)"
   ]
  },
  {
   "cell_type": "code",
   "execution_count": 330,
   "metadata": {
    "collapsed": false,
    "scrolled": true
   },
   "outputs": [],
   "source": [
    "review_by_listing_all_positive = review_by_listing[review_by_listing.sentiment_rate == 1]\n",
    "# Counter(review_by_listing_all_positive.sentiment_rate)"
   ]
  },
  {
   "cell_type": "markdown",
   "metadata": {},
   "source": [
    "### Limit only review_count > 10 "
   ]
  },
  {
   "cell_type": "code",
   "execution_count": 331,
   "metadata": {
    "collapsed": false
   },
   "outputs": [
    {
     "data": {
      "text/plain": [
       "1844"
      ]
     },
     "execution_count": 331,
     "metadata": {},
     "output_type": "execute_result"
    }
   ],
   "source": [
    "review_by_listing_all_positive = review_by_listing_all_positive[review_by_listing_all_positive.review_count >10]\n",
    "# Counter(review_by_listing_all_positive.sentiment_rate)\n",
    "len(review_by_listing_all_positive)"
   ]
  },
  {
   "cell_type": "markdown",
   "metadata": {},
   "source": [
    "- There are 1844 potentially undervalued places."
   ]
  },
  {
   "cell_type": "markdown",
   "metadata": {},
   "source": [
    "### Id (airbnb place) with average price"
   ]
  },
  {
   "cell_type": "code",
   "execution_count": 332,
   "metadata": {
    "collapsed": false,
    "scrolled": true
   },
   "outputs": [
    {
     "data": {
      "text/html": [
       "<div>\n",
       "<table border=\"1\" class=\"dataframe\">\n",
       "  <thead>\n",
       "    <tr style=\"text-align: right;\">\n",
       "      <th></th>\n",
       "      <th>price</th>\n",
       "    </tr>\n",
       "    <tr>\n",
       "      <th>id</th>\n",
       "      <th></th>\n",
       "    </tr>\n",
       "  </thead>\n",
       "  <tbody>\n",
       "    <tr>\n",
       "      <th>958</th>\n",
       "      <td>170</td>\n",
       "    </tr>\n",
       "    <tr>\n",
       "      <th>2822</th>\n",
       "      <td>138</td>\n",
       "    </tr>\n",
       "    <tr>\n",
       "      <th>5193</th>\n",
       "      <td>160</td>\n",
       "    </tr>\n",
       "    <tr>\n",
       "      <th>5841</th>\n",
       "      <td>181</td>\n",
       "    </tr>\n",
       "    <tr>\n",
       "      <th>5858</th>\n",
       "      <td>250</td>\n",
       "    </tr>\n",
       "  </tbody>\n",
       "</table>\n",
       "</div>"
      ],
      "text/plain": [
       "      price\n",
       "id         \n",
       "958     170\n",
       "2822    138\n",
       "5193    160\n",
       "5841    181\n",
       "5858    250"
      ]
     },
     "execution_count": 332,
     "metadata": {},
     "output_type": "execute_result"
    }
   ],
   "source": [
    "price_by_listing = df2[['id','price']].groupby('id').aggregate(np.mean)\n",
    "price_by_listing.head()"
   ]
  },
  {
   "cell_type": "markdown",
   "metadata": {},
   "source": [
    "### Id with zipcode"
   ]
  },
  {
   "cell_type": "code",
   "execution_count": 333,
   "metadata": {
    "collapsed": false,
    "scrolled": true
   },
   "outputs": [
    {
     "name": "stdout",
     "output_type": "stream",
     "text": [
      "5667\n"
     ]
    },
    {
     "data": {
      "text/html": [
       "<div>\n",
       "<table border=\"1\" class=\"dataframe\">\n",
       "  <thead>\n",
       "    <tr style=\"text-align: right;\">\n",
       "      <th></th>\n",
       "      <th>zipcode</th>\n",
       "    </tr>\n",
       "    <tr>\n",
       "      <th>id</th>\n",
       "      <th></th>\n",
       "    </tr>\n",
       "  </thead>\n",
       "  <tbody>\n",
       "    <tr>\n",
       "      <th>958</th>\n",
       "      <td>94117</td>\n",
       "    </tr>\n",
       "    <tr>\n",
       "      <th>2822</th>\n",
       "      <td>94124</td>\n",
       "    </tr>\n",
       "    <tr>\n",
       "      <th>5193</th>\n",
       "      <td>94109</td>\n",
       "    </tr>\n",
       "    <tr>\n",
       "      <th>5841</th>\n",
       "      <td>94110</td>\n",
       "    </tr>\n",
       "    <tr>\n",
       "      <th>5858</th>\n",
       "      <td>94110</td>\n",
       "    </tr>\n",
       "  </tbody>\n",
       "</table>\n",
       "</div>"
      ],
      "text/plain": [
       "      zipcode\n",
       "id           \n",
       "958     94117\n",
       "2822    94124\n",
       "5193    94109\n",
       "5841    94110\n",
       "5858    94110"
      ]
     },
     "execution_count": 333,
     "metadata": {},
     "output_type": "execute_result"
    }
   ],
   "source": [
    "zipcode_df = df2[['id','zipcode']].groupby('id').first()\n",
    "print len(zipcode_df)\n",
    "zipcode_df.head()"
   ]
  },
  {
   "cell_type": "markdown",
   "metadata": {},
   "source": [
    "### Merge the grouped-by dataframes"
   ]
  },
  {
   "cell_type": "code",
   "execution_count": 334,
   "metadata": {
    "collapsed": false
   },
   "outputs": [
    {
     "name": "stdout",
     "output_type": "stream",
     "text": [
      "1844\n"
     ]
    },
    {
     "data": {
      "text/html": [
       "<div>\n",
       "<table border=\"1\" class=\"dataframe\">\n",
       "  <thead>\n",
       "    <tr style=\"text-align: right;\">\n",
       "      <th></th>\n",
       "      <th>id</th>\n",
       "      <th>bagging_sgd_sentiment</th>\n",
       "      <th>review_count</th>\n",
       "      <th>sentiment_rate</th>\n",
       "      <th>price</th>\n",
       "      <th>zipcode</th>\n",
       "    </tr>\n",
       "  </thead>\n",
       "  <tbody>\n",
       "    <tr>\n",
       "      <th>0</th>\n",
       "      <td>958</td>\n",
       "      <td>34</td>\n",
       "      <td>34</td>\n",
       "      <td>1</td>\n",
       "      <td>170</td>\n",
       "      <td>94117</td>\n",
       "    </tr>\n",
       "    <tr>\n",
       "      <th>1</th>\n",
       "      <td>2822</td>\n",
       "      <td>41</td>\n",
       "      <td>41</td>\n",
       "      <td>1</td>\n",
       "      <td>138</td>\n",
       "      <td>94124</td>\n",
       "    </tr>\n",
       "    <tr>\n",
       "      <th>2</th>\n",
       "      <td>5841</td>\n",
       "      <td>35</td>\n",
       "      <td>35</td>\n",
       "      <td>1</td>\n",
       "      <td>181</td>\n",
       "      <td>94110</td>\n",
       "    </tr>\n",
       "    <tr>\n",
       "      <th>3</th>\n",
       "      <td>5858</td>\n",
       "      <td>104</td>\n",
       "      <td>104</td>\n",
       "      <td>1</td>\n",
       "      <td>250</td>\n",
       "      <td>94110</td>\n",
       "    </tr>\n",
       "    <tr>\n",
       "      <th>4</th>\n",
       "      <td>8339</td>\n",
       "      <td>18</td>\n",
       "      <td>18</td>\n",
       "      <td>1</td>\n",
       "      <td>395</td>\n",
       "      <td>94117</td>\n",
       "    </tr>\n",
       "  </tbody>\n",
       "</table>\n",
       "</div>"
      ],
      "text/plain": [
       "     id  bagging_sgd_sentiment  review_count  sentiment_rate  price  zipcode\n",
       "0   958                     34            34               1    170    94117\n",
       "1  2822                     41            41               1    138    94124\n",
       "2  5841                     35            35               1    181    94110\n",
       "3  5858                    104           104               1    250    94110\n",
       "4  8339                     18            18               1    395    94117"
      ]
     },
     "execution_count": 334,
     "metadata": {},
     "output_type": "execute_result"
    }
   ],
   "source": [
    "undervalued_listing_df = pd.merge(review_by_listing_all_positive.reset_index(), price_by_listing.reset_index(), how='inner', on=['id'])\n",
    "undervalued_listing_df = pd.merge(undervalued_listing_df, zipcode_df.reset_index(), how='inner',on=['id'])\n",
    "\n",
    "print len(undervalued_listing_df)\n",
    "undervalued_listing_df.head()"
   ]
  },
  {
   "cell_type": "markdown",
   "metadata": {},
   "source": [
    "# Top undervalued rooms (Ranked by price and nubmer of reviews)"
   ]
  },
  {
   "cell_type": "markdown",
   "metadata": {},
   "source": [
    "### Popular undervalued places. Great for short stay"
   ]
  },
  {
   "cell_type": "code",
   "execution_count": 338,
   "metadata": {
    "collapsed": false,
    "scrolled": false
   },
   "outputs": [
    {
     "name": "stderr",
     "output_type": "stream",
     "text": [
      "/Users/kimitakanakazawa/anaconda/lib/python2.7/site-packages/ipykernel/__main__.py:2: FutureWarning: sort(columns=....) is deprecated, use sort_values(by=.....)\n",
      "  from ipykernel import kernelapp as app\n"
     ]
    },
    {
     "data": {
      "text/html": [
       "<div>\n",
       "<table border=\"1\" class=\"dataframe\">\n",
       "  <thead>\n",
       "    <tr style=\"text-align: right;\">\n",
       "      <th></th>\n",
       "      <th>id</th>\n",
       "      <th>bagging_sgd_sentiment</th>\n",
       "      <th>review_count</th>\n",
       "      <th>sentiment_rate</th>\n",
       "      <th>price</th>\n",
       "      <th>zipcode</th>\n",
       "    </tr>\n",
       "  </thead>\n",
       "  <tbody>\n",
       "    <tr>\n",
       "      <th>22</th>\n",
       "      <td>25463</td>\n",
       "      <td>200</td>\n",
       "      <td>200</td>\n",
       "      <td>1</td>\n",
       "      <td>115</td>\n",
       "      <td>94117</td>\n",
       "    </tr>\n",
       "    <tr>\n",
       "      <th>419</th>\n",
       "      <td>918341</td>\n",
       "      <td>196</td>\n",
       "      <td>196</td>\n",
       "      <td>1</td>\n",
       "      <td>190</td>\n",
       "      <td>94107</td>\n",
       "    </tr>\n",
       "    <tr>\n",
       "      <th>17</th>\n",
       "      <td>23630</td>\n",
       "      <td>192</td>\n",
       "      <td>192</td>\n",
       "      <td>1</td>\n",
       "      <td>165</td>\n",
       "      <td>94114</td>\n",
       "    </tr>\n",
       "    <tr>\n",
       "      <th>68</th>\n",
       "      <td>87640</td>\n",
       "      <td>190</td>\n",
       "      <td>190</td>\n",
       "      <td>1</td>\n",
       "      <td>125</td>\n",
       "      <td>94131</td>\n",
       "    </tr>\n",
       "    <tr>\n",
       "      <th>218</th>\n",
       "      <td>465723</td>\n",
       "      <td>188</td>\n",
       "      <td>188</td>\n",
       "      <td>1</td>\n",
       "      <td>150</td>\n",
       "      <td>94116</td>\n",
       "    </tr>\n",
       "    <tr>\n",
       "      <th>266</th>\n",
       "      <td>567239</td>\n",
       "      <td>187</td>\n",
       "      <td>187</td>\n",
       "      <td>1</td>\n",
       "      <td>89</td>\n",
       "      <td>94131</td>\n",
       "    </tr>\n",
       "    <tr>\n",
       "      <th>847</th>\n",
       "      <td>1995487</td>\n",
       "      <td>186</td>\n",
       "      <td>186</td>\n",
       "      <td>1</td>\n",
       "      <td>199</td>\n",
       "      <td>94110</td>\n",
       "    </tr>\n",
       "    <tr>\n",
       "      <th>455</th>\n",
       "      <td>992676</td>\n",
       "      <td>183</td>\n",
       "      <td>183</td>\n",
       "      <td>1</td>\n",
       "      <td>120</td>\n",
       "      <td>94131</td>\n",
       "    </tr>\n",
       "    <tr>\n",
       "      <th>167</th>\n",
       "      <td>311259</td>\n",
       "      <td>181</td>\n",
       "      <td>181</td>\n",
       "      <td>1</td>\n",
       "      <td>120</td>\n",
       "      <td>94134</td>\n",
       "    </tr>\n",
       "    <tr>\n",
       "      <th>328</th>\n",
       "      <td>727866</td>\n",
       "      <td>178</td>\n",
       "      <td>178</td>\n",
       "      <td>1</td>\n",
       "      <td>119</td>\n",
       "      <td>94116</td>\n",
       "    </tr>\n",
       "    <tr>\n",
       "      <th>83</th>\n",
       "      <td>131015</td>\n",
       "      <td>176</td>\n",
       "      <td>176</td>\n",
       "      <td>1</td>\n",
       "      <td>110</td>\n",
       "      <td>94110</td>\n",
       "    </tr>\n",
       "    <tr>\n",
       "      <th>516</th>\n",
       "      <td>1117756</td>\n",
       "      <td>172</td>\n",
       "      <td>172</td>\n",
       "      <td>1</td>\n",
       "      <td>114</td>\n",
       "      <td>94110</td>\n",
       "    </tr>\n",
       "    <tr>\n",
       "      <th>322</th>\n",
       "      <td>713877</td>\n",
       "      <td>164</td>\n",
       "      <td>164</td>\n",
       "      <td>1</td>\n",
       "      <td>145</td>\n",
       "      <td>94117</td>\n",
       "    </tr>\n",
       "    <tr>\n",
       "      <th>341</th>\n",
       "      <td>741178</td>\n",
       "      <td>163</td>\n",
       "      <td>163</td>\n",
       "      <td>1</td>\n",
       "      <td>120</td>\n",
       "      <td>94122</td>\n",
       "    </tr>\n",
       "    <tr>\n",
       "      <th>13</th>\n",
       "      <td>18904</td>\n",
       "      <td>162</td>\n",
       "      <td>162</td>\n",
       "      <td>1</td>\n",
       "      <td>115</td>\n",
       "      <td>94117</td>\n",
       "    </tr>\n",
       "    <tr>\n",
       "      <th>103</th>\n",
       "      <td>173464</td>\n",
       "      <td>162</td>\n",
       "      <td>162</td>\n",
       "      <td>1</td>\n",
       "      <td>159</td>\n",
       "      <td>94118</td>\n",
       "    </tr>\n",
       "    <tr>\n",
       "      <th>192</th>\n",
       "      <td>406930</td>\n",
       "      <td>161</td>\n",
       "      <td>161</td>\n",
       "      <td>1</td>\n",
       "      <td>100</td>\n",
       "      <td>94110</td>\n",
       "    </tr>\n",
       "    <tr>\n",
       "      <th>180</th>\n",
       "      <td>351881</td>\n",
       "      <td>157</td>\n",
       "      <td>157</td>\n",
       "      <td>1</td>\n",
       "      <td>129</td>\n",
       "      <td>94114</td>\n",
       "    </tr>\n",
       "    <tr>\n",
       "      <th>997</th>\n",
       "      <td>2587269</td>\n",
       "      <td>156</td>\n",
       "      <td>156</td>\n",
       "      <td>1</td>\n",
       "      <td>350</td>\n",
       "      <td>94114</td>\n",
       "    </tr>\n",
       "    <tr>\n",
       "      <th>25</th>\n",
       "      <td>26843</td>\n",
       "      <td>149</td>\n",
       "      <td>149</td>\n",
       "      <td>1</td>\n",
       "      <td>111</td>\n",
       "      <td>94131</td>\n",
       "    </tr>\n",
       "  </tbody>\n",
       "</table>\n",
       "</div>"
      ],
      "text/plain": [
       "          id  bagging_sgd_sentiment  review_count  sentiment_rate  price  \\\n",
       "22     25463                    200           200               1    115   \n",
       "419   918341                    196           196               1    190   \n",
       "17     23630                    192           192               1    165   \n",
       "68     87640                    190           190               1    125   \n",
       "218   465723                    188           188               1    150   \n",
       "266   567239                    187           187               1     89   \n",
       "847  1995487                    186           186               1    199   \n",
       "455   992676                    183           183               1    120   \n",
       "167   311259                    181           181               1    120   \n",
       "328   727866                    178           178               1    119   \n",
       "83    131015                    176           176               1    110   \n",
       "516  1117756                    172           172               1    114   \n",
       "322   713877                    164           164               1    145   \n",
       "341   741178                    163           163               1    120   \n",
       "13     18904                    162           162               1    115   \n",
       "103   173464                    162           162               1    159   \n",
       "192   406930                    161           161               1    100   \n",
       "180   351881                    157           157               1    129   \n",
       "997  2587269                    156           156               1    350   \n",
       "25     26843                    149           149               1    111   \n",
       "\n",
       "     zipcode  \n",
       "22     94117  \n",
       "419    94107  \n",
       "17     94114  \n",
       "68     94131  \n",
       "218    94116  \n",
       "266    94131  \n",
       "847    94110  \n",
       "455    94131  \n",
       "167    94134  \n",
       "328    94116  \n",
       "83     94110  \n",
       "516    94110  \n",
       "322    94117  \n",
       "341    94122  \n",
       "13     94117  \n",
       "103    94118  \n",
       "192    94110  \n",
       "180    94114  \n",
       "997    94114  \n",
       "25     94131  "
      ]
     },
     "execution_count": 338,
     "metadata": {},
     "output_type": "execute_result"
    }
   ],
   "source": [
    "undervalued_listing_df.sort(columns=['review_count', 'price'], ascending=[False, True])[:20]"
   ]
  },
  {
   "cell_type": "markdown",
   "metadata": {},
   "source": [
    "### Hidden undervalued places (funkier). Great for students and longer stayer"
   ]
  },
  {
   "cell_type": "code",
   "execution_count": 337,
   "metadata": {
    "collapsed": false,
    "scrolled": false
   },
   "outputs": [
    {
     "name": "stderr",
     "output_type": "stream",
     "text": [
      "/Users/kimitakanakazawa/anaconda/lib/python2.7/site-packages/ipykernel/__main__.py:2: FutureWarning: sort(columns=....) is deprecated, use sort_values(by=.....)\n",
      "  from ipykernel import kernelapp as app\n"
     ]
    },
    {
     "data": {
      "text/html": [
       "<div>\n",
       "<table border=\"1\" class=\"dataframe\">\n",
       "  <thead>\n",
       "    <tr style=\"text-align: right;\">\n",
       "      <th></th>\n",
       "      <th>id</th>\n",
       "      <th>bagging_sgd_sentiment</th>\n",
       "      <th>review_count</th>\n",
       "      <th>sentiment_rate</th>\n",
       "      <th>price</th>\n",
       "      <th>zipcode</th>\n",
       "    </tr>\n",
       "  </thead>\n",
       "  <tbody>\n",
       "    <tr>\n",
       "      <th>96</th>\n",
       "      <td>152517</td>\n",
       "      <td>16</td>\n",
       "      <td>16</td>\n",
       "      <td>1</td>\n",
       "      <td>22</td>\n",
       "      <td>94112</td>\n",
       "    </tr>\n",
       "    <tr>\n",
       "      <th>651</th>\n",
       "      <td>1446043</td>\n",
       "      <td>18</td>\n",
       "      <td>18</td>\n",
       "      <td>1</td>\n",
       "      <td>27</td>\n",
       "      <td>94122</td>\n",
       "    </tr>\n",
       "    <tr>\n",
       "      <th>564</th>\n",
       "      <td>1218290</td>\n",
       "      <td>16</td>\n",
       "      <td>16</td>\n",
       "      <td>1</td>\n",
       "      <td>27</td>\n",
       "      <td>94122</td>\n",
       "    </tr>\n",
       "    <tr>\n",
       "      <th>563</th>\n",
       "      <td>1218239</td>\n",
       "      <td>18</td>\n",
       "      <td>18</td>\n",
       "      <td>1</td>\n",
       "      <td>30</td>\n",
       "      <td>94122</td>\n",
       "    </tr>\n",
       "    <tr>\n",
       "      <th>1769</th>\n",
       "      <td>7262134</td>\n",
       "      <td>16</td>\n",
       "      <td>16</td>\n",
       "      <td>1</td>\n",
       "      <td>32</td>\n",
       "      <td>94122</td>\n",
       "    </tr>\n",
       "    <tr>\n",
       "      <th>428</th>\n",
       "      <td>939833</td>\n",
       "      <td>26</td>\n",
       "      <td>26</td>\n",
       "      <td>1</td>\n",
       "      <td>40</td>\n",
       "      <td>94117</td>\n",
       "    </tr>\n",
       "    <tr>\n",
       "      <th>1794</th>\n",
       "      <td>7462925</td>\n",
       "      <td>21</td>\n",
       "      <td>21</td>\n",
       "      <td>1</td>\n",
       "      <td>40</td>\n",
       "      <td>94121</td>\n",
       "    </tr>\n",
       "    <tr>\n",
       "      <th>1795</th>\n",
       "      <td>7462926</td>\n",
       "      <td>19</td>\n",
       "      <td>19</td>\n",
       "      <td>1</td>\n",
       "      <td>40</td>\n",
       "      <td>94121</td>\n",
       "    </tr>\n",
       "    <tr>\n",
       "      <th>1796</th>\n",
       "      <td>7462930</td>\n",
       "      <td>18</td>\n",
       "      <td>18</td>\n",
       "      <td>1</td>\n",
       "      <td>40</td>\n",
       "      <td>94121</td>\n",
       "    </tr>\n",
       "    <tr>\n",
       "      <th>1797</th>\n",
       "      <td>7462935</td>\n",
       "      <td>18</td>\n",
       "      <td>18</td>\n",
       "      <td>1</td>\n",
       "      <td>40</td>\n",
       "      <td>94121</td>\n",
       "    </tr>\n",
       "    <tr>\n",
       "      <th>1765</th>\n",
       "      <td>7204241</td>\n",
       "      <td>13</td>\n",
       "      <td>13</td>\n",
       "      <td>1</td>\n",
       "      <td>40</td>\n",
       "      <td>94121</td>\n",
       "    </tr>\n",
       "    <tr>\n",
       "      <th>682</th>\n",
       "      <td>1530807</td>\n",
       "      <td>12</td>\n",
       "      <td>12</td>\n",
       "      <td>1</td>\n",
       "      <td>40</td>\n",
       "      <td>94107</td>\n",
       "    </tr>\n",
       "    <tr>\n",
       "      <th>1798</th>\n",
       "      <td>7462937</td>\n",
       "      <td>12</td>\n",
       "      <td>12</td>\n",
       "      <td>1</td>\n",
       "      <td>40</td>\n",
       "      <td>94121</td>\n",
       "    </tr>\n",
       "    <tr>\n",
       "      <th>1166</th>\n",
       "      <td>3491545</td>\n",
       "      <td>11</td>\n",
       "      <td>11</td>\n",
       "      <td>1</td>\n",
       "      <td>40</td>\n",
       "      <td>94117</td>\n",
       "    </tr>\n",
       "    <tr>\n",
       "      <th>1793</th>\n",
       "      <td>7462873</td>\n",
       "      <td>11</td>\n",
       "      <td>11</td>\n",
       "      <td>1</td>\n",
       "      <td>40</td>\n",
       "      <td>94121</td>\n",
       "    </tr>\n",
       "    <tr>\n",
       "      <th>64</th>\n",
       "      <td>74758</td>\n",
       "      <td>26</td>\n",
       "      <td>26</td>\n",
       "      <td>1</td>\n",
       "      <td>41</td>\n",
       "      <td>94112</td>\n",
       "    </tr>\n",
       "    <tr>\n",
       "      <th>60</th>\n",
       "      <td>69549</td>\n",
       "      <td>29</td>\n",
       "      <td>29</td>\n",
       "      <td>1</td>\n",
       "      <td>43</td>\n",
       "      <td>94112</td>\n",
       "    </tr>\n",
       "    <tr>\n",
       "      <th>1559</th>\n",
       "      <td>5561787</td>\n",
       "      <td>13</td>\n",
       "      <td>13</td>\n",
       "      <td>1</td>\n",
       "      <td>43</td>\n",
       "      <td>94127</td>\n",
       "    </tr>\n",
       "    <tr>\n",
       "      <th>162</th>\n",
       "      <td>292723</td>\n",
       "      <td>14</td>\n",
       "      <td>14</td>\n",
       "      <td>1</td>\n",
       "      <td>45</td>\n",
       "      <td>94112</td>\n",
       "    </tr>\n",
       "    <tr>\n",
       "      <th>438</th>\n",
       "      <td>958573</td>\n",
       "      <td>13</td>\n",
       "      <td>13</td>\n",
       "      <td>1</td>\n",
       "      <td>46</td>\n",
       "      <td>94122</td>\n",
       "    </tr>\n",
       "  </tbody>\n",
       "</table>\n",
       "</div>"
      ],
      "text/plain": [
       "           id  bagging_sgd_sentiment  review_count  sentiment_rate  price  \\\n",
       "96     152517                     16            16               1     22   \n",
       "651   1446043                     18            18               1     27   \n",
       "564   1218290                     16            16               1     27   \n",
       "563   1218239                     18            18               1     30   \n",
       "1769  7262134                     16            16               1     32   \n",
       "428    939833                     26            26               1     40   \n",
       "1794  7462925                     21            21               1     40   \n",
       "1795  7462926                     19            19               1     40   \n",
       "1796  7462930                     18            18               1     40   \n",
       "1797  7462935                     18            18               1     40   \n",
       "1765  7204241                     13            13               1     40   \n",
       "682   1530807                     12            12               1     40   \n",
       "1798  7462937                     12            12               1     40   \n",
       "1166  3491545                     11            11               1     40   \n",
       "1793  7462873                     11            11               1     40   \n",
       "64      74758                     26            26               1     41   \n",
       "60      69549                     29            29               1     43   \n",
       "1559  5561787                     13            13               1     43   \n",
       "162    292723                     14            14               1     45   \n",
       "438    958573                     13            13               1     46   \n",
       "\n",
       "      zipcode  \n",
       "96      94112  \n",
       "651     94122  \n",
       "564     94122  \n",
       "563     94122  \n",
       "1769    94122  \n",
       "428     94117  \n",
       "1794    94121  \n",
       "1795    94121  \n",
       "1796    94121  \n",
       "1797    94121  \n",
       "1765    94121  \n",
       "682     94107  \n",
       "1798    94121  \n",
       "1166    94117  \n",
       "1793    94121  \n",
       "64      94112  \n",
       "60      94112  \n",
       "1559    94127  \n",
       "162     94112  \n",
       "438     94122  "
      ]
     },
     "execution_count": 337,
     "metadata": {},
     "output_type": "execute_result"
    }
   ],
   "source": [
    "undervalued_listing_df.sort(columns=['price','review_count'], ascending=[True,False])[:20]"
   ]
  },
  {
   "cell_type": "code",
   "execution_count": null,
   "metadata": {
    "collapsed": true
   },
   "outputs": [],
   "source": []
  },
  {
   "cell_type": "code",
   "execution_count": null,
   "metadata": {
    "collapsed": true
   },
   "outputs": [],
   "source": []
  }
 ],
 "metadata": {
  "kernelspec": {
   "display_name": "Python 2",
   "language": "python",
   "name": "python2"
  },
  "language_info": {
   "codemirror_mode": {
    "name": "ipython",
    "version": 2
   },
   "file_extension": ".py",
   "mimetype": "text/x-python",
   "name": "python",
   "nbconvert_exporter": "python",
   "pygments_lexer": "ipython2",
   "version": "2.7.10"
  }
 },
 "nbformat": 4,
 "nbformat_minor": 0
}
