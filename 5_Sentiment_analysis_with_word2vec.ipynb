{
 "cells": [
  {
   "cell_type": "markdown",
   "metadata": {},
   "source": [
    "# Goal:\n",
    "Previously, I made tested modeling with bag of words. We stopped with SVM with class weight \"balanced\" but here, I'll use various models with word2vec.  \n",
    "I will:\n",
    "- Create word2vec\n",
    "- Model with word2vec\n",
    "    - Random forest\n",
    "    - SVM\n",
    "- Words to paragraph with Kmean\n",
    "    - various models\n",
    "- Tuning    \n",
    "    - bagging SGD as final model of choice\n",
    "    \n",
    "    \n",
    "Source: [here](https://www.kaggle.com/c/word2vec-nlp-tutorial/details/part-2-word-vectors)"
   ]
  },
  {
   "cell_type": "code",
   "execution_count": 7,
   "metadata": {
    "collapsed": true
   },
   "outputs": [],
   "source": [
    "from sklearn.cross_validation import train_test_split\n",
    "from gensim.models.word2vec import Word2Vec\n",
    "import numpy as np\n",
    "import pandas as pd\n",
    "import matplotlib.pyplot as plt\n",
    "from collections import Counter\n",
    "%matplotlib inline"
   ]
  },
  {
   "cell_type": "markdown",
   "metadata": {},
   "source": [
    "## Read the data and preprocess"
   ]
  },
  {
   "cell_type": "code",
   "execution_count": 8,
   "metadata": {
    "collapsed": false,
    "scrolled": false
   },
   "outputs": [
    {
     "data": {
      "text/html": [
       "<div>\n",
       "<table border=\"1\" class=\"dataframe\">\n",
       "  <thead>\n",
       "    <tr style=\"text-align: right;\">\n",
       "      <th></th>\n",
       "      <th>review_id</th>\n",
       "      <th>review_scores_rating</th>\n",
       "      <th>comments</th>\n",
       "      <th>Sentiment</th>\n",
       "      <th>alchemy_sentiment</th>\n",
       "      <th>alchemy_sentiment_score</th>\n",
       "    </tr>\n",
       "  </thead>\n",
       "  <tbody>\n",
       "    <tr>\n",
       "      <th>132327</th>\n",
       "      <td>24139209</td>\n",
       "      <td>85</td>\n",
       "      <td>Nice host..nice place..\\nEverything is perfect...</td>\n",
       "      <td>No_label</td>\n",
       "      <td>no_data</td>\n",
       "      <td>no_data</td>\n",
       "    </tr>\n",
       "    <tr>\n",
       "      <th>132328</th>\n",
       "      <td>41693126</td>\n",
       "      <td>85</td>\n",
       "      <td>The host canceled this reservation 4 days befo...</td>\n",
       "      <td>No_label</td>\n",
       "      <td>no_data</td>\n",
       "      <td>no_data</td>\n",
       "    </tr>\n",
       "    <tr>\n",
       "      <th>132329</th>\n",
       "      <td>45868146</td>\n",
       "      <td>85</td>\n",
       "      <td>I had an amazing experience visiting San Franc...</td>\n",
       "      <td>1</td>\n",
       "      <td>no_data</td>\n",
       "      <td>no_data</td>\n",
       "    </tr>\n",
       "    <tr>\n",
       "      <th>132330</th>\n",
       "      <td>50075207</td>\n",
       "      <td>85</td>\n",
       "      <td>Thanks Gavin for making our a month long stay ...</td>\n",
       "      <td>No_label</td>\n",
       "      <td>no_data</td>\n",
       "      <td>no_data</td>\n",
       "    </tr>\n",
       "    <tr>\n",
       "      <th>132331</th>\n",
       "      <td>48755174</td>\n",
       "      <td>100</td>\n",
       "      <td>We had a lovely time staying at Julia and Laur...</td>\n",
       "      <td>1</td>\n",
       "      <td>no_data</td>\n",
       "      <td>no_data</td>\n",
       "    </tr>\n",
       "  </tbody>\n",
       "</table>\n",
       "</div>"
      ],
      "text/plain": [
       "        review_id  review_scores_rating  \\\n",
       "132327   24139209                    85   \n",
       "132328   41693126                    85   \n",
       "132329   45868146                    85   \n",
       "132330   50075207                    85   \n",
       "132331   48755174                   100   \n",
       "\n",
       "                                                 comments Sentiment  \\\n",
       "132327  Nice host..nice place..\\nEverything is perfect...  No_label   \n",
       "132328  The host canceled this reservation 4 days befo...  No_label   \n",
       "132329  I had an amazing experience visiting San Franc...         1   \n",
       "132330  Thanks Gavin for making our a month long stay ...  No_label   \n",
       "132331  We had a lovely time staying at Julia and Laur...         1   \n",
       "\n",
       "       alchemy_sentiment alchemy_sentiment_score  \n",
       "132327           no_data                 no_data  \n",
       "132328           no_data                 no_data  \n",
       "132329           no_data                 no_data  \n",
       "132330           no_data                 no_data  \n",
       "132331           no_data                 no_data  "
      ]
     },
     "execution_count": 8,
     "metadata": {},
     "output_type": "execute_result"
    }
   ],
   "source": [
    "df_original = pd.read_csv('../../projects/alchemyapi/alchemyapi_python/data/df_clearn_en_alchemy_sentiment.csv').drop('Unnamed: 0', 1)\n",
    "df2 = df_original[:][:]\n",
    "df2.tail()"
   ]
  },
  {
   "cell_type": "code",
   "execution_count": 9,
   "metadata": {
    "collapsed": false
   },
   "outputs": [
    {
     "data": {
      "text/plain": [
       "Counter({'0': 406, '1': 57864, 'No_label': 74062})"
      ]
     },
     "execution_count": 9,
     "metadata": {},
     "output_type": "execute_result"
    }
   ],
   "source": [
    "Counter(df2.Sentiment)"
   ]
  },
  {
   "cell_type": "code",
   "execution_count": 10,
   "metadata": {
    "collapsed": true
   },
   "outputs": [],
   "source": [
    "# make score string int float \n",
    "def to_float(x): \n",
    "    try:\n",
    "        return float(x)\n",
    "    except:\n",
    "        return 'no_data'\n",
    "\n",
    "df2.alchemy_sentiment_score = df2['alchemy_sentiment_score'].apply(to_float)\n",
    "# change_val(df.alchemy_sentiment_score[132331])"
   ]
  },
  {
   "cell_type": "code",
   "execution_count": 11,
   "metadata": {
    "collapsed": true
   },
   "outputs": [],
   "source": [
    "# make float into 1 for positive sentiment or -1 for negative sentiment\n",
    "def give_sentiment(x): # \n",
    "    try:\n",
    "        if x == 'no_data':\n",
    "            return 'no_data'\n",
    "        elif x > 0.:\n",
    "            return 1\n",
    "        elif x < 0.:\n",
    "            return -1\n",
    "    except:\n",
    "        return 'no_data'\n",
    "\n",
    "df2.alchemy_sentiment = df2['alchemy_sentiment_score'].apply(give_sentiment)\n",
    "# give_sentiment(df.alchemy_sentiment_score[132331])"
   ]
  },
  {
   "cell_type": "markdown",
   "metadata": {},
   "source": [
    "## Preprocess for word2vec\n",
    "- Get rid of punctuation\n",
    "- But not stop words since the algorithm relies on the broader context of the sentence in order to produce high-quality word vectors\n",
    "- Fit specific format for gensim -> list of list of words"
   ]
  },
  {
   "cell_type": "code",
   "execution_count": 12,
   "metadata": {
    "collapsed": false
   },
   "outputs": [
    {
     "data": {
      "text/html": [
       "<div>\n",
       "<table border=\"1\" class=\"dataframe\">\n",
       "  <thead>\n",
       "    <tr style=\"text-align: right;\">\n",
       "      <th></th>\n",
       "      <th>review_id</th>\n",
       "      <th>review_scores_rating</th>\n",
       "      <th>comments</th>\n",
       "      <th>Sentiment</th>\n",
       "      <th>alchemy_sentiment</th>\n",
       "      <th>alchemy_sentiment_score</th>\n",
       "    </tr>\n",
       "  </thead>\n",
       "  <tbody>\n",
       "    <tr>\n",
       "      <th>0</th>\n",
       "      <td>10612780</td>\n",
       "      <td>92</td>\n",
       "      <td>[[great, host], [provided, special, gift, bask...</td>\n",
       "      <td>1</td>\n",
       "      <td>1</td>\n",
       "      <td>0.692647</td>\n",
       "    </tr>\n",
       "    <tr>\n",
       "      <th>1</th>\n",
       "      <td>49925683</td>\n",
       "      <td>92</td>\n",
       "      <td>[[great, host], [met, me, at, apartment], [pla...</td>\n",
       "      <td>1</td>\n",
       "      <td>1</td>\n",
       "      <td>0.646267</td>\n",
       "    </tr>\n",
       "    <tr>\n",
       "      <th>2</th>\n",
       "      <td>50537634</td>\n",
       "      <td>92</td>\n",
       "      <td>[[syeda, hosted, my, parents, for, four, days,...</td>\n",
       "      <td>No_label</td>\n",
       "      <td>1</td>\n",
       "      <td>0.656386</td>\n",
       "    </tr>\n",
       "    <tr>\n",
       "      <th>3</th>\n",
       "      <td>51077613</td>\n",
       "      <td>92</td>\n",
       "      <td>[[i, had, a, great, experience, at, syeda, s, ...</td>\n",
       "      <td>1</td>\n",
       "      <td>1</td>\n",
       "      <td>0.817832</td>\n",
       "    </tr>\n",
       "    <tr>\n",
       "      <th>4</th>\n",
       "      <td>52109034</td>\n",
       "      <td>92</td>\n",
       "      <td>[[great, location], [warm, welcoming, host], [...</td>\n",
       "      <td>No_label</td>\n",
       "      <td>1</td>\n",
       "      <td>0.845319</td>\n",
       "    </tr>\n",
       "  </tbody>\n",
       "</table>\n",
       "</div>"
      ],
      "text/plain": [
       "   review_id  review_scores_rating  \\\n",
       "0   10612780                    92   \n",
       "1   49925683                    92   \n",
       "2   50537634                    92   \n",
       "3   51077613                    92   \n",
       "4   52109034                    92   \n",
       "\n",
       "                                            comments Sentiment  \\\n",
       "0  [[great, host], [provided, special, gift, bask...         1   \n",
       "1  [[great, host], [met, me, at, apartment], [pla...         1   \n",
       "2  [[syeda, hosted, my, parents, for, four, days,...  No_label   \n",
       "3  [[i, had, a, great, experience, at, syeda, s, ...         1   \n",
       "4  [[great, location], [warm, welcoming, host], [...  No_label   \n",
       "\n",
       "  alchemy_sentiment alchemy_sentiment_score  \n",
       "0                 1                0.692647  \n",
       "1                 1                0.646267  \n",
       "2                 1                0.656386  \n",
       "3                 1                0.817832  \n",
       "4                 1                0.845319  "
      ]
     },
     "execution_count": 12,
     "metadata": {},
     "output_type": "execute_result"
    }
   ],
   "source": [
    "import re\n",
    "import nltk\n",
    "from nltk.corpus import stopwords # Import the stop word list\n",
    "tokenizer = nltk.data.load('tokenizers/punkt/english.pickle')\n",
    "\n",
    "# Use regular expressions to do a find-and-replace\n",
    "def preprocessing(x): # x = reviews\n",
    "    x = str(x)\n",
    "    x = x.decode(\"utf8\")\n",
    "    raw_sentences = tokenizer.tokenize(x.strip())\n",
    "    raw_sentences_list =  [[item] for item in raw_sentences]\n",
    "    \n",
    "    def sentence_to_word(sentence_list):\n",
    "        try:\n",
    "            x = re.sub(\"[^a-zA-Z]\", \" \", sentence_list)\n",
    "            x = x.lower().split()\n",
    "            return x\n",
    "        except:\n",
    "            if x == float:\n",
    "                return \" \"\n",
    "    sentence_list = []\n",
    "    return map(sentence_to_word, raw_sentences)\n",
    "    \n",
    "df2.comments = df2['comments'].apply(preprocessing)\n",
    "df2.head()"
   ]
  },
  {
   "cell_type": "markdown",
   "metadata": {},
   "source": [
    "### Create positive/negative/non-labeled dataframes"
   ]
  },
  {
   "cell_type": "code",
   "execution_count": 13,
   "metadata": {
    "collapsed": false,
    "scrolled": true
   },
   "outputs": [
    {
     "name": "stdout",
     "output_type": "stream",
     "text": [
      "4263 285 127784\n"
     ]
    }
   ],
   "source": [
    "pos_df2 = df2[df2['alchemy_sentiment'] == 1]\n",
    "neg_df2 = df2[df2['alchemy_sentiment'] == -1]\n",
    "no_label_df2 = df2[df2['alchemy_sentiment'] == 'no_data']\n",
    "print len(pos_df2),len(neg_df2),len(no_label_df2)"
   ]
  },
  {
   "cell_type": "code",
   "execution_count": 14,
   "metadata": {
    "collapsed": false
   },
   "outputs": [
    {
     "data": {
      "text/plain": [
       "True"
      ]
     },
     "execution_count": 14,
     "metadata": {},
     "output_type": "execute_result"
    }
   ],
   "source": [
    "len(df2) == len(pos_df2)+len(neg_df2)+len(no_label_df2)"
   ]
  },
  {
   "cell_type": "markdown",
   "metadata": {},
   "source": [
    "### Create positive/negative/non-labeled lists and label (y) list"
   ]
  },
  {
   "cell_type": "code",
   "execution_count": 15,
   "metadata": {
    "collapsed": false
   },
   "outputs": [],
   "source": [
    "pos_list2 = list(pos_df2.comments)\n",
    "neg_list2 = list(neg_df2.comments)\n",
    "no_label_list2 = list(no_label_df2.comments)\n",
    "y = np.concatenate((np.ones(len(pos_list2)), -1*np.ones(len(neg_list2))))"
   ]
  },
  {
   "cell_type": "markdown",
   "metadata": {},
   "source": [
    "### Create test/train sets"
   ]
  },
  {
   "cell_type": "code",
   "execution_count": 16,
   "metadata": {
    "collapsed": false
   },
   "outputs": [
    {
     "data": {
      "text/plain": [
       "(3638, 910, 3638, 910)"
      ]
     },
     "execution_count": 16,
     "metadata": {},
     "output_type": "execute_result"
    }
   ],
   "source": [
    "x_train2, x_test2, y_train2, y_test2 = train_test_split(np.concatenate((pos_list2, neg_list2)), y, test_size=0.2)\n",
    "len(x_train2), len(x_test2), len(y_train2), len(y_test2)"
   ]
  },
  {
   "cell_type": "markdown",
   "metadata": {},
   "source": [
    "### Create sentence_list to train the model"
   ]
  },
  {
   "cell_type": "code",
   "execution_count": 17,
   "metadata": {
    "collapsed": false
   },
   "outputs": [
    {
     "name": "stdout",
     "output_type": "stream",
     "text": [
      "0.228251934052 seconds.\n"
     ]
    }
   ],
   "source": [
    "import time\n",
    "start = time.time() \n",
    "\n",
    "sentences_list = []\n",
    "\n",
    "# positive undersampled df\n",
    "for sentences in pos_df2.comments:\n",
    "    sentences_list += [sentence for sentence in sentences]\n",
    "\n",
    "# negative df    \n",
    "for sentences in neg_df2.comments:\n",
    "    sentences_list += [sentence for sentence in sentences]\n",
    "\n",
    "# unlabeled df\n",
    "for sentences in no_label_df2.comments:\n",
    "    sentences_list += [sentence for sentence in sentences]\n",
    "    \n",
    "sentences_list\n",
    "\n",
    "end = time.time()\n",
    "elapsed = end - start\n",
    "print elapsed, \"seconds.\""
   ]
  },
  {
   "cell_type": "code",
   "execution_count": 18,
   "metadata": {
    "collapsed": false
   },
   "outputs": [
    {
     "data": {
      "text/plain": [
       "683334"
      ]
     },
     "execution_count": 18,
     "metadata": {},
     "output_type": "execute_result"
    }
   ],
   "source": [
    "len(sentences_list)"
   ]
  },
  {
   "cell_type": "markdown",
   "metadata": {},
   "source": [
    "## Training and Saving Your Model\n",
    "\n"
   ]
  },
  {
   "cell_type": "code",
   "execution_count": 58,
   "metadata": {
    "collapsed": false
   },
   "outputs": [
    {
     "name": "stdout",
     "output_type": "stream",
     "text": [
      "Training model...\n"
     ]
    }
   ],
   "source": [
    "# creates nice output messages\n",
    "import logging\n",
    "logging.basicConfig(format='%(asctime)s : %(levelname)s : %(message)s',\\\n",
    "    level=logging.INFO)\n",
    "\n",
    "# Set values for various parameters\n",
    "num_features = 300    \n",
    "min_word_count = 40 \n",
    "num_workers = 4       \n",
    "context = 10          \n",
    "downsampling = 1e-3 \n",
    "\n",
    "# Initialize and train the model (this will take some time)\n",
    "from gensim.models import word2vec\n",
    "print \"Training model...\"\n",
    "model = word2vec.Word2Vec(sentences_list, workers=num_workers, \\\n",
    "            size=num_features, min_count = min_word_count, \\\n",
    "            window = context, sample = downsampling)\n",
    "\n",
    "model.init_sims(replace=True)\n",
    "\n",
    "# save the model for later use\n",
    "model_name = \"w2v_airbnb\"\n",
    "model.save(model_name)"
   ]
  },
  {
   "cell_type": "markdown",
   "metadata": {},
   "source": [
    "#### Play with word2vec model"
   ]
  },
  {
   "cell_type": "code",
   "execution_count": 59,
   "metadata": {
    "collapsed": false
   },
   "outputs": [
    {
     "data": {
      "text/plain": [
       "'kitchen'"
      ]
     },
     "execution_count": 59,
     "metadata": {},
     "output_type": "execute_result"
    }
   ],
   "source": [
    "model.doesnt_match(\"man woman child kitchen\".split())"
   ]
  },
  {
   "cell_type": "markdown",
   "metadata": {},
   "source": [
    "- Correctly identify human and a thing"
   ]
  },
  {
   "cell_type": "code",
   "execution_count": 60,
   "metadata": {
    "collapsed": false
   },
   "outputs": [
    {
     "data": {
      "text/plain": [
       "'france'"
      ]
     },
     "execution_count": 60,
     "metadata": {},
     "output_type": "execute_result"
    }
   ],
   "source": [
    "model.doesnt_match(\"france england germany berlin\".split())"
   ]
  },
  {
   "cell_type": "markdown",
   "metadata": {},
   "source": [
    "- But since the training data is not too big, it's not perfect. It cannot distinguish between country and state. "
   ]
  },
  {
   "cell_type": "code",
   "execution_count": 61,
   "metadata": {
    "collapsed": false
   },
   "outputs": [
    {
     "data": {
      "text/plain": [
       "[(u'carpet', 0.766893744468689),\n",
       " (u'stains', 0.7667901515960693),\n",
       " (u'hairs', 0.7643701434135437),\n",
       " (u'filthy', 0.7607296705245972),\n",
       " (u'dust', 0.7587553262710571),\n",
       " (u'mold', 0.746830940246582),\n",
       " (u'damp', 0.7393524646759033),\n",
       " (u'carpets', 0.7371965050697327),\n",
       " (u'stained', 0.7367100715637207),\n",
       " (u'odor', 0.7341662645339966)]"
      ]
     },
     "execution_count": 61,
     "metadata": {},
     "output_type": "execute_result"
    }
   ],
   "source": [
    "model.most_similar(\"dirty\")"
   ]
  },
  {
   "cell_type": "markdown",
   "metadata": {},
   "source": [
    "- The similar words with the word \"dirty\" is shown. The result makes sense given the airbnb datasets."
   ]
  },
  {
   "cell_type": "code",
   "execution_count": 62,
   "metadata": {
    "collapsed": false
   },
   "outputs": [
    {
     "data": {
      "text/plain": [
       "[(u'hostess', 0.6681894063949585),\n",
       " (u'hosts', 0.6006338596343994),\n",
       " (u'accommodating', 0.5249692797660828),\n",
       " (u'welcoming', 0.5189435482025146),\n",
       " (u'helpful', 0.5037181377410889),\n",
       " (u'friendly', 0.5018442273139954),\n",
       " (u'kind', 0.4748196005821228),\n",
       " (u'responsive', 0.4609931707382202),\n",
       " (u'person', 0.45862582325935364),\n",
       " (u's', 0.4421626925468445)]"
      ]
     },
     "execution_count": 62,
     "metadata": {},
     "output_type": "execute_result"
    }
   ],
   "source": [
    "model.most_similar(\"host\")"
   ]
  },
  {
   "cell_type": "markdown",
   "metadata": {},
   "source": [
    "- Again, checking similar words for the word \"host\" for fun"
   ]
  },
  {
   "cell_type": "markdown",
   "metadata": {},
   "source": [
    "## Model with word2vec"
   ]
  },
  {
   "cell_type": "code",
   "execution_count": 63,
   "metadata": {
    "collapsed": true
   },
   "outputs": [],
   "source": [
    "# Load the model \n",
    "from gensim.models import Word2Vec\n",
    "model = Word2Vec.load(\"w2v_airbnb\")"
   ]
  },
  {
   "cell_type": "code",
   "execution_count": 64,
   "metadata": {
    "collapsed": false,
    "scrolled": false
   },
   "outputs": [
    {
     "data": {
      "text/plain": [
       "numpy.ndarray"
      ]
     },
     "execution_count": 64,
     "metadata": {},
     "output_type": "execute_result"
    }
   ],
   "source": [
    "type(model.syn0)"
   ]
  },
  {
   "cell_type": "code",
   "execution_count": 65,
   "metadata": {
    "collapsed": false
   },
   "outputs": [
    {
     "data": {
      "text/plain": [
       "(5191, 300)"
      ]
     },
     "execution_count": 65,
     "metadata": {},
     "output_type": "execute_result"
    }
   ],
   "source": [
    "model.syn0.shape"
   ]
  },
  {
   "cell_type": "code",
   "execution_count": 66,
   "metadata": {
    "collapsed": false,
    "scrolled": true
   },
   "outputs": [
    {
     "data": {
      "text/plain": [
       "array([  3.27325575e-02,   1.58057231e-02,   1.53511204e-02,\n",
       "        -3.77453305e-02,  -7.36216158e-02,  -9.07632038e-02,\n",
       "        -3.76278646e-02,  -4.69886437e-02,  -7.88818076e-02,\n",
       "        -9.65244845e-02,   7.49596953e-02,   7.01496452e-02,\n",
       "         6.33186176e-02,  -4.34728824e-02,  -4.39027287e-02,\n",
       "        -9.50193927e-02,   1.38884429e-02,  -6.64180666e-02,\n",
       "         2.19139308e-02,  -1.16397515e-02,  -3.42830159e-02,\n",
       "         1.07752671e-02,  -4.48337644e-02,  -7.12861344e-02,\n",
       "        -5.81341088e-02,  -4.13178392e-02,   6.49818480e-02,\n",
       "        -7.62336403e-02,   1.48849012e-02,   1.51611134e-01,\n",
       "         6.32582558e-03,  -2.07566880e-02,   3.22894529e-02,\n",
       "         4.36933665e-03,  -1.27948374e-01,   1.98486689e-02,\n",
       "        -7.28630228e-03,   7.25983083e-02,   1.19170889e-01,\n",
       "        -1.32438973e-01,   1.88596151e-03,  -9.71205183e-04,\n",
       "         2.63602305e-02,  -5.80227599e-02,  -4.74498868e-02,\n",
       "        -6.33718446e-04,  -5.12350984e-02,  -1.44569995e-03,\n",
       "        -1.37667102e-03,  -1.30356699e-02,   1.11189872e-01,\n",
       "         2.17126831e-01,   4.71932180e-02,   2.81400792e-02,\n",
       "        -4.83836457e-02,  -3.08864322e-02,   2.33504716e-02,\n",
       "        -8.16262439e-02,   1.45438928e-02,  -1.39918597e-02,\n",
       "        -2.96500344e-02,  -2.08450202e-03,  -8.69916305e-02,\n",
       "        -7.32795522e-02,  -9.04354230e-02,   1.04685135e-01,\n",
       "         8.64088908e-03,  -4.39003520e-02,  -4.31767143e-02,\n",
       "        -4.17137071e-02,  -4.45522256e-02,  -3.05044577e-02,\n",
       "        -1.61511335e-03,   3.70386662e-03,  -9.37255993e-02,\n",
       "        -7.79099390e-02,  -1.27025843e-01,   3.47321033e-02,\n",
       "         6.81498051e-02,   1.54925305e-02,  -1.91713013e-02,\n",
       "         1.93308666e-02,   6.75997809e-02,   4.68992181e-02,\n",
       "        -3.77215855e-02,  -4.97525670e-02,   5.63650019e-02,\n",
       "         1.63457859e-02,   2.74883788e-02,  -1.73770450e-02,\n",
       "         1.54109988e-02,   1.68522522e-01,   2.27074046e-02,\n",
       "        -3.61130796e-02,  -6.91061094e-02,  -3.37856971e-02,\n",
       "        -2.66330093e-02,   4.44544442e-02,  -8.84011313e-02,\n",
       "         1.32330079e-02,   1.17415719e-01,  -1.85019504e-02,\n",
       "        -4.76189665e-02,   4.82183397e-02,   8.86648074e-02,\n",
       "        -9.18230340e-02,   1.24727145e-01,   5.73125221e-02,\n",
       "        -3.94125357e-02,   1.07422387e-02,  -1.09482948e-02,\n",
       "        -2.38542836e-02,   2.56018303e-02,  -5.15504740e-02,\n",
       "        -9.22582578e-03,   1.00373467e-02,   8.81156474e-02,\n",
       "         5.49306199e-02,   8.99407193e-02,  -6.82023913e-02,\n",
       "        -2.12918948e-02,  -2.73038037e-02,  -6.64927810e-02,\n",
       "        -1.10807400e-02,  -1.35845235e-02,   3.79182845e-02,\n",
       "        -3.55510712e-02,   3.78342494e-02,  -3.97627940e-03,\n",
       "         3.09793986e-02,   1.27728254e-01,  -3.29206213e-02,\n",
       "        -2.61661294e-03,  -4.56383601e-02,   3.29086767e-03,\n",
       "         1.20211191e-01,  -1.62287317e-02,   2.07708832e-02,\n",
       "         5.52483043e-03,   2.26488188e-02,  -6.49676248e-02,\n",
       "         1.46445129e-02,  -1.09020963e-01,   9.57041606e-03,\n",
       "        -1.35816280e-02,   6.90070242e-02,   7.10306466e-02,\n",
       "        -7.50731006e-02,   3.21394280e-02,  -3.11652813e-02,\n",
       "        -3.70440148e-02,  -4.31724312e-03,  -7.52147567e-03,\n",
       "         5.28369397e-02,   5.21392450e-02,   8.09065532e-03,\n",
       "        -3.33561078e-02,   6.74773306e-02,  -1.01709358e-01,\n",
       "         5.37894405e-02,   6.47140443e-02,  -1.04162104e-01,\n",
       "         6.25823736e-02,  -4.58704457e-02,  -5.96597716e-02,\n",
       "         5.34895696e-02,   8.89578834e-04,  -9.63617489e-02,\n",
       "         3.66868102e-03,  -5.20894397e-03,   2.19031218e-02,\n",
       "         3.03700399e-02,   1.99255273e-02,  -1.28599675e-02,\n",
       "         2.91310735e-02,  -4.11673412e-02,   6.68002889e-02,\n",
       "         2.43438073e-02,  -3.31403837e-02,  -3.04262396e-02,\n",
       "         7.15537146e-02,   5.77123836e-04,   3.06658018e-02,\n",
       "         2.20095813e-02,   4.22172323e-02,   6.14229180e-02,\n",
       "        -1.47237882e-01,  -3.82702723e-02,  -6.98177069e-02,\n",
       "        -4.84378785e-02,  -1.90347806e-02,   2.31902469e-02,\n",
       "        -1.89185273e-02,  -3.61238932e-03,  -3.82136367e-02,\n",
       "        -7.67493173e-02,   8.09674710e-02,   3.67227569e-02,\n",
       "         5.42677976e-02,   7.62544647e-02,   5.11912582e-03,\n",
       "        -3.11161601e-03,   4.88470774e-03,  -4.78268974e-02,\n",
       "         7.41626546e-02,  -9.49275792e-02,   5.31048924e-02,\n",
       "         2.17283405e-02,   5.62288202e-02,   6.31051064e-02,\n",
       "         2.46961061e-02,  -1.91444773e-02,   6.18421622e-02,\n",
       "        -5.00345528e-02,   1.48159144e-02,   3.71064171e-02,\n",
       "        -1.06627839e-02,   1.06218077e-01,   1.59027446e-02,\n",
       "        -5.50803058e-02,   5.79567477e-02,  -7.13988915e-02,\n",
       "        -4.75066788e-02,  -7.48155313e-03,  -1.16258971e-02,\n",
       "         2.26472616e-02,   5.04757017e-02,   6.67358264e-02,\n",
       "         6.03143796e-02,   1.35214865e-01,  -8.72246847e-02,\n",
       "         9.31736976e-02,   6.60478398e-02,  -8.39635432e-02,\n",
       "        -1.03053190e-01,   2.17317250e-02,   7.40262941e-02,\n",
       "         2.67496593e-02,  -2.62199473e-02,   2.62217484e-02,\n",
       "        -3.04729771e-02,   1.29881008e-02,  -2.13904269e-02,\n",
       "         4.63724456e-04,   3.35391201e-02,  -1.09039592e-02,\n",
       "        -1.35219805e-02,  -1.87444948e-02,  -3.75402048e-02,\n",
       "         7.51222819e-02,  -2.63451114e-02,   4.44332957e-02,\n",
       "        -5.02426326e-02,  -1.70246083e-02,  -2.65191570e-02,\n",
       "        -8.20868555e-03,  -1.47112891e-01,   5.24294283e-03,\n",
       "        -1.10169761e-02,   2.61694193e-03,  -1.25203105e-02,\n",
       "         5.76804802e-02,   1.41285911e-01,  -2.24726778e-02,\n",
       "         1.00344392e-02,  -3.90949920e-02,   3.80525254e-02,\n",
       "        -6.05743341e-02,   4.58815321e-02,  -1.78070026e-04,\n",
       "        -9.95878875e-02,  -5.87379886e-03,   9.72953066e-03,\n",
       "        -6.54033804e-03,  -6.20384328e-03,  -1.80892237e-02,\n",
       "         8.41233060e-02,  -1.02520801e-01,  -2.40001120e-02,\n",
       "         1.46322129e-02,  -4.68180664e-02,   6.88338429e-02,\n",
       "        -5.58089390e-02,  -5.53403273e-02,  -7.89795723e-03,\n",
       "        -6.21130690e-02,  -4.63696457e-02,   6.46495894e-02,\n",
       "        -2.18851753e-02,  -6.42579570e-02,  -3.19722444e-02,\n",
       "        -1.10693842e-01,   1.33360419e-02,   7.33062485e-03,\n",
       "        -9.94789135e-03,  -7.37926289e-02,   6.38349578e-02,\n",
       "        -3.90466340e-02,   8.24161172e-02,   5.27362302e-02], dtype=float32)"
      ]
     },
     "execution_count": 66,
     "metadata": {},
     "output_type": "execute_result"
    }
   ],
   "source": [
    "model[\"great\"] #a word is 300 dimentional array"
   ]
  },
  {
   "cell_type": "markdown",
   "metadata": {},
   "source": [
    "### Create functions to make feature vector\n",
    "- Averaging all word vectors "
   ]
  },
  {
   "cell_type": "code",
   "execution_count": 67,
   "metadata": {
    "collapsed": true
   },
   "outputs": [],
   "source": [
    "import numpy as np  \n",
    "\n",
    "def makeFeatureVec(words, model, num_features):\n",
    "    # Pre-initialize an empty numpy array (for speed)\n",
    "    featureVec = np.zeros((num_features,),dtype=\"float32\")\n",
    "    nwords = 0.\n",
    "\n",
    "    # Convert it to a set, for speed \n",
    "    index2word_set = set(model.index2word)\n",
    "\n",
    "    # Loop over each word in the review and, if it is in the model's vocaublary, add its feature vector to the total\n",
    "    for word in words:\n",
    "        if word in index2word_set: \n",
    "            nwords = nwords + 1.\n",
    "            featureVec = np.add(featureVec,model[word])\n",
    "\n",
    "    # Divide the result by the number of words to get the average\n",
    "    featureVec = np.divide(featureVec,nwords)\n",
    "    return featureVec\n",
    "\n",
    "\n",
    "def getAvgFeatureVecs(reviews, model, num_features):\n",
    "    # Given a set of reviews (each one a list of words), calculate the average feature vector for each one and return a 2D numpy array \n",
    "\n",
    "    # Initialize a counter\n",
    "    counter = 0.\n",
    "\n",
    "    # Preallocate a 2D numpy array, for speed\n",
    "    reviewFeatureVecs = np.zeros((len(reviews),num_features),dtype=\"float32\")\n",
    "\n",
    "    # Loop through the reviews\n",
    "    for review in reviews:\n",
    "        # Print a status message every 1000th review\n",
    "        if counter%1000. == 0.:\n",
    "            print \"Review %d of %d\" % (counter, len(reviews))\n",
    "\n",
    "        # Call the function (defined above) that makes average feature vectors\n",
    "        reviewFeatureVecs[counter] = makeFeatureVec(review, model, \\\n",
    "           num_features)\n",
    "\n",
    "        # Increment the counter\n",
    "        counter = counter + 1.\n",
    "    return reviewFeatureVecs"
   ]
  },
  {
   "cell_type": "code",
   "execution_count": 68,
   "metadata": {
    "collapsed": false,
    "scrolled": false
   },
   "outputs": [
    {
     "name": "stdout",
     "output_type": "stream",
     "text": [
      "[[u'maureen', u'was', u'friendly', u'and', u'helpful', u'host', u'very', u'comfortable', u'with', u'pretty', u'private', u'room', u'and', u'clean', u'bathroom', u'and', u'a', u'cute', u'cat'], [u'the', u'location', u'was', u'nice', u'a', u'lot', u'of', u'restaurants', u'nearby', u'easy', u'access', u'to', u'downtown', u'muni', u'bus', u'and', u'to', u'sfo', u'airport', u'by', u'bart'], [u'it', u'was', u'a', u'nice', u'first', u'airbnb', u'experience'], [u'thanks', u'maureen']]\n"
     ]
    }
   ],
   "source": [
    "print x_test2[1]"
   ]
  },
  {
   "cell_type": "markdown",
   "metadata": {},
   "source": [
    "## Convert lists of lists of words to lists of words "
   ]
  },
  {
   "cell_type": "markdown",
   "metadata": {},
   "source": [
    "- Making sure if string is utf8\n",
    "- Delete punctuation and number\n",
    "- Take out stop words and lemmatize"
   ]
  },
  {
   "cell_type": "code",
   "execution_count": 69,
   "metadata": {
    "collapsed": false,
    "scrolled": true
   },
   "outputs": [
    {
     "name": "stdout",
     "output_type": "stream",
     "text": [
      "[u'even', u'though', u'couldn', u'met', u'away', u'sf', u'check', u'process', u'organized', u'easy', u'get', u'place', u'room', u'pretty', u'clean', u'comfortable', u'one', u'thing', u'say', u'didn', u'really', u'feel', u'safe', u'neighborhood', u'little', u'bit', u'far', u'downtown', u'however', u'overall', u'good', u'experience', u'stay', u'place', u'thank']\n"
     ]
    }
   ],
   "source": [
    "import re\n",
    "import nltk\n",
    "from nltk.corpus import stopwords # Import the stop word list\n",
    "from nltk.stem import WordNetLemmatizer\n",
    "\n",
    "def review_to_wordlist(x, remove_stopwords=True):\n",
    "    word_list = []\n",
    "    for sentence in x:\n",
    "        for word in sentence:\n",
    "            word_list.append(word)\n",
    "    \n",
    "    wordnet_lemmatizer = WordNetLemmatizer()\n",
    "\n",
    "    if remove_stopwords:\n",
    "        stops = set(stopwords.words(\"english\"))\n",
    "        word_list = [wordnet_lemmatizer.lemmatize(word) for word in word_list if word not in stops]\n",
    "    return word_list\n",
    "\n",
    "print review_to_wordlist(x_test2[0])\n",
    "x_train2_wl = map(review_to_wordlist, x_train2)\n",
    "x_test2_wl = map(review_to_wordlist, x_test2)\n",
    "no_label_list2_wl = map(review_to_wordlist, no_label_list2)\n",
    "# df.head()"
   ]
  },
  {
   "cell_type": "code",
   "execution_count": 70,
   "metadata": {
    "collapsed": false,
    "scrolled": true
   },
   "outputs": [
    {
     "name": "stdout",
     "output_type": "stream",
     "text": [
      "3638\n",
      "910\n",
      "127784\n"
     ]
    }
   ],
   "source": [
    "print len(x_train2_wl)\n",
    "print len(x_test2_wl)\n",
    "print len(no_label_list2_wl)"
   ]
  },
  {
   "cell_type": "markdown",
   "metadata": {},
   "source": [
    "## Calculate average feature vectors for training and testing sets "
   ]
  },
  {
   "cell_type": "code",
   "execution_count": 71,
   "metadata": {
    "collapsed": false,
    "scrolled": true
   },
   "outputs": [
    {
     "name": "stdout",
     "output_type": "stream",
     "text": [
      "Review 0 of 3638\n",
      "Review 1000 of 3638\n",
      "Review 2000 of 3638\n",
      "Review 3000 of 3638\n",
      "Review 0 of 910\n"
     ]
    },
    {
     "name": "stderr",
     "output_type": "stream",
     "text": [
      "/Users/kimitakanakazawa/anaconda/lib/python2.7/site-packages/ipykernel/__main__.py:46: DeprecationWarning: using a non-integer number instead of an integer will result in an error in the future\n"
     ]
    }
   ],
   "source": [
    "# we now use stop word removal.\n",
    "trainDataVecs = getAvgFeatureVecs(x_train2_wl, model, num_features )\n",
    "testDataVecs = getAvgFeatureVecs(x_test2_wl, model, num_features )"
   ]
  },
  {
   "cell_type": "code",
   "execution_count": 72,
   "metadata": {
    "collapsed": false
   },
   "outputs": [
    {
     "data": {
      "text/plain": [
       "3638"
      ]
     },
     "execution_count": 72,
     "metadata": {},
     "output_type": "execute_result"
    }
   ],
   "source": [
    "len(trainDataVecs)"
   ]
  },
  {
   "cell_type": "markdown",
   "metadata": {},
   "source": [
    "## Let's model\n",
    "### Random Forest"
   ]
  },
  {
   "cell_type": "code",
   "execution_count": 39,
   "metadata": {
    "collapsed": true
   },
   "outputs": [],
   "source": [
    "from performance import run_performance"
   ]
  },
  {
   "cell_type": "code",
   "execution_count": 242,
   "metadata": {
    "collapsed": false
   },
   "outputs": [
    {
     "name": "stdout",
     "output_type": "stream",
     "text": [
      "Fitting...\n"
     ]
    }
   ],
   "source": [
    "# Fit a random forest to the training data, using 100 trees\n",
    "from sklearn.ensemble import RandomForestClassifier\n",
    "forest2 = RandomForestClassifier( n_estimators = 100)\n",
    "\n",
    "print \"Fitting...\"\n",
    "forest2 = forest2.fit( trainDataVecs, y_train2)"
   ]
  },
  {
   "cell_type": "code",
   "execution_count": 243,
   "metadata": {
    "collapsed": false
   },
   "outputs": [
    {
     "name": "stdout",
     "output_type": "stream",
     "text": [
      "Test Accuracy:  0.969230769231\n",
      "Confution matrix \n",
      "[[ 30  24]\n",
      " [  4 852]]\n",
      "             precision    recall  f1-score   support\n",
      "\n",
      "   negative       0.88      0.56      0.68        54\n",
      "   positive       0.97      1.00      0.98       856\n",
      "\n",
      "avg / total       0.97      0.97      0.97       910\n",
      "\n"
     ]
    },
    {
     "data": {
      "image/png": "[encoded data removed]",
      "text/plain": [
       "<matplotlib.figure.Figure at 0x103c43c10>"
      ]
     },
     "metadata": {},
     "output_type": "display_data"
    }
   ],
   "source": [
    "from performance import run_performance\n",
    "run_performance(forest2, testDataVecs, y_test2)"
   ]
  },
  {
   "cell_type": "markdown",
   "metadata": {},
   "source": [
    "- a Better RF model compared to RF with bag of words"
   ]
  },
  {
   "cell_type": "markdown",
   "metadata": {},
   "source": [
    "### Use class weight \"balanced\""
   ]
  },
  {
   "cell_type": "code",
   "execution_count": 244,
   "metadata": {
    "collapsed": false
   },
   "outputs": [
    {
     "name": "stdout",
     "output_type": "stream",
     "text": [
      "Fitting...\n"
     ]
    }
   ],
   "source": [
    "# Fit a random forest to the training data, using 100 trees\n",
    "from sklearn.ensemble import RandomForestClassifier\n",
    "forest2_balanced = RandomForestClassifier( n_estimators = 100, class_weight='balanced')\n",
    "\n",
    "print \"Fitting...\"\n",
    "forest2_balanced = forest2_balanced.fit( trainDataVecs, y_train2)"
   ]
  },
  {
   "cell_type": "code",
   "execution_count": 245,
   "metadata": {
    "collapsed": false
   },
   "outputs": [
    {
     "name": "stdout",
     "output_type": "stream",
     "text": [
      "Test Accuracy:  0.962637362637\n",
      "Confution matrix \n",
      "[[ 28  26]\n",
      " [  8 848]]\n",
      "             precision    recall  f1-score   support\n",
      "\n",
      "   negative       0.78      0.52      0.62        54\n",
      "   positive       0.97      0.99      0.98       856\n",
      "\n",
      "avg / total       0.96      0.96      0.96       910\n",
      "\n"
     ]
    },
    {
     "data": {
      "image/png": "[encoded data removed]",
      "text/plain": [
       "<matplotlib.figure.Figure at 0x11f73eb90>"
      ]
     },
     "metadata": {},
     "output_type": "display_data"
    }
   ],
   "source": [
    "run_performance(forest2_balanced, testDataVecs, y_test2)"
   ]
  },
  {
   "cell_type": "markdown",
   "metadata": {},
   "source": [
    "- It doesn't make difference"
   ]
  },
  {
   "cell_type": "markdown",
   "metadata": {},
   "source": [
    "### SVM"
   ]
  },
  {
   "cell_type": "code",
   "execution_count": 246,
   "metadata": {
    "collapsed": false
   },
   "outputs": [
    {
     "name": "stdout",
     "output_type": "stream",
     "text": [
      "Training...\n"
     ]
    }
   ],
   "source": [
    "print \"Training...\"\n",
    "from sklearn.svm import SVC\n",
    "\n",
    "svc2 = SVC(probability=True) \n",
    "\n",
    "# This may take a few minutes to run\n",
    "svc2 = svc2.fit(trainDataVecs,y_train2)"
   ]
  },
  {
   "cell_type": "code",
   "execution_count": 247,
   "metadata": {
    "collapsed": false
   },
   "outputs": [
    {
     "name": "stdout",
     "output_type": "stream",
     "text": [
      "Test Accuracy:  0.940659340659\n",
      "Confution matrix \n",
      "[[  0  54]\n",
      " [  0 856]]\n",
      "             precision    recall  f1-score   support\n",
      "\n",
      "   negative       0.00      0.00      0.00        54\n",
      "   positive       0.94      1.00      0.97       856\n",
      "\n",
      "avg / total       0.88      0.94      0.91       910\n",
      "\n"
     ]
    },
    {
     "data": {
      "image/png": "[encoded data removed]",
      "text/plain": [
       "<matplotlib.figure.Figure at 0x17d44d090>"
      ]
     },
     "metadata": {},
     "output_type": "display_data"
    }
   ],
   "source": [
    "run_performance(svc2, testDataVecs, y_test2)"
   ]
  },
  {
   "cell_type": "markdown",
   "metadata": {},
   "source": [
    "- It's not working (same as one with bag of words)"
   ]
  },
  {
   "cell_type": "code",
   "execution_count": 248,
   "metadata": {
    "collapsed": false
   },
   "outputs": [
    {
     "name": "stdout",
     "output_type": "stream",
     "text": [
      "Training...\n"
     ]
    }
   ],
   "source": [
    "print \"Training...\"\n",
    "from sklearn.svm import SVC\n",
    "\n",
    "svc2_balanced = SVC(probability=True, class_weight='balanced') \n",
    "\n",
    "# This may take a few minutes to run\n",
    "svc2_balanced = svc2_balanced.fit(trainDataVecs,y_train2)"
   ]
  },
  {
   "cell_type": "code",
   "execution_count": 249,
   "metadata": {
    "collapsed": false
   },
   "outputs": [
    {
     "name": "stdout",
     "output_type": "stream",
     "text": [
      "Test Accuracy:  0.337362637363\n",
      "Confution matrix \n",
      "[[ 54   0]\n",
      " [603 253]]\n",
      "             precision    recall  f1-score   support\n",
      "\n",
      "   negative       0.08      1.00      0.15        54\n",
      "   positive       1.00      0.30      0.46       856\n",
      "\n",
      "avg / total       0.95      0.34      0.44       910\n",
      "\n"
     ]
    },
    {
     "data": {
      "image/png": "[encoded data removed]",
      "text/plain": [
       "<matplotlib.figure.Figure at 0x17d4a47d0>"
      ]
     },
     "metadata": {},
     "output_type": "display_data"
    }
   ],
   "source": [
    "run_performance(svc2_balanced, testDataVecs, y_test2)"
   ]
  },
  {
   "cell_type": "markdown",
   "metadata": {},
   "source": [
    "- Now with \"balanced\" enabled for class weights, the model is too much sensitive to detect negative sentiment. Not a good model."
   ]
  },
  {
   "cell_type": "markdown",
   "metadata": {},
   "source": [
    "## Finally, make use of the similarity of words with k-means (vector quantization)\n",
    "- Word2Vec creates clusters of semantically related words\n",
    "- Exploit the similarity of words within a cluster"
   ]
  },
  {
   "cell_type": "markdown",
   "metadata": {},
   "source": [
    "### Create k clusters with word vectors"
   ]
  },
  {
   "cell_type": "code",
   "execution_count": 73,
   "metadata": {
    "collapsed": false
   },
   "outputs": [
    {
     "name": "stdout",
     "output_type": "stream",
     "text": [
      "Time taken for K Means clustering:  69.891299963 seconds.\n"
     ]
    }
   ],
   "source": [
    "from sklearn.cluster import KMeans\n",
    "import time\n",
    "\n",
    "start = time.time() # Start time\n",
    "\n",
    "# Set \"k\" (num_clusters) to be 1/5th of the vocabulary size, or an average of 5 words per cluster. More art than science\n",
    "word_vectors = model.syn0\n",
    "num_clusters = word_vectors.shape[0] / 5\n",
    "\n",
    "# Initalize a k-means object and use it to extract centroids\n",
    "kmeans_clustering = KMeans( n_clusters = num_clusters )\n",
    "idx = kmeans_clustering.fit_predict( word_vectors )\n",
    "\n",
    "# Get the end time and print how long the process took\n",
    "end = time.time()\n",
    "elapsed = end - start\n",
    "print \"Time taken for K Means clustering: \", elapsed, \"seconds.\"\n"
   ]
  },
  {
   "cell_type": "code",
   "execution_count": 74,
   "metadata": {
    "collapsed": true
   },
   "outputs": [],
   "source": [
    "# Create a Word / Index dictionary, mapping each vocabulary word to a cluster number                                                                                            \n",
    "word_centroid_map = dict(zip( model.index2word, idx ))"
   ]
  },
  {
   "cell_type": "markdown",
   "metadata": {},
   "source": [
    "### Let's see first 10 clusters"
   ]
  },
  {
   "cell_type": "code",
   "execution_count": 75,
   "metadata": {
    "collapsed": false
   },
   "outputs": [
    {
     "name": "stdout",
     "output_type": "stream",
     "text": [
      "\n",
      "Cluster 0\n",
      "[u'plenty', u'lots', u'tons']\n",
      "\n",
      "Cluster 1\n",
      "[u'hide', u'lil']\n",
      "\n",
      "Cluster 2\n",
      "[u'katy']\n",
      "\n",
      "Cluster 3\n",
      "[u'labeled', u'everthing']\n",
      "\n",
      "Cluster 4\n",
      "[u'businesses']\n",
      "\n",
      "Cluster 5\n",
      "[u'caution', u'word', u'warning', u'caveat']\n",
      "\n",
      "Cluster 6\n",
      "[u'bike', u'hire', u'bikes', u'cycle', u'hired', u'riding', u'bicycles']\n",
      "\n",
      "Cluster 7\n",
      "[u'sleek', u'outfitted', u'featured', u'kitted', u'ultra', u'mod', u'luxurious', u'pristine', u'attractive']\n",
      "\n",
      "Cluster 8\n",
      "[u'effectively', u'understood', u'sorted', u'consistently']\n",
      "\n",
      "Cluster 9\n",
      "[u'elke', u'tish', u'inke', u'layne', u'jeni', u'delilah', u'andres', u'skate', u'yaffa', u'jef', u'shiloh', u'brigitte']\n"
     ]
    }
   ],
   "source": [
    "# first 10 clusters\n",
    "for cluster in xrange(0,10):\n",
    "    # Print the cluster number  \n",
    "    print \"\\nCluster %d\" % cluster\n",
    "    # Find all of the words for that cluster number\n",
    "    words = []\n",
    "    for i in xrange(0,len(word_centroid_map.values())):\n",
    "        if( word_centroid_map.values()[i] == cluster ):\n",
    "            words.append(word_centroid_map.keys()[i])\n",
    "    print words"
   ]
  },
  {
   "cell_type": "markdown",
   "metadata": {},
   "source": [
    "- Most of the grouped words make sense."
   ]
  },
  {
   "cell_type": "markdown",
   "metadata": {},
   "source": [
    "### Define a function to convert reviews into bags-of-centroids. \n",
    "- Works just like BOW but uses semantically related clusters instead of individual words"
   ]
  },
  {
   "cell_type": "code",
   "execution_count": 76,
   "metadata": {
    "collapsed": true
   },
   "outputs": [],
   "source": [
    "def create_bag_of_centroids(wordlist, word_centroid_map):\n",
    "    # The number of clusters is equal to the highest cluster index in the word / centroid map\n",
    "    num_centroids = max( word_centroid_map.values() ) + 1\n",
    "\n",
    "    # Pre-allocate the bag of centroids vector (for speed)\n",
    "    bag_of_centroids = np.zeros( num_centroids, dtype=\"float32\" )\n",
    "\n",
    "    # Loop over the words in the review. If the word is in the vocabulary, find which cluster it belongs to, and increment that cluster count by one\n",
    "    for word in wordlist:\n",
    "        if word in word_centroid_map:\n",
    "            index = word_centroid_map[word]\n",
    "            bag_of_centroids[index] += 1\n",
    "\n",
    "    # Return the \"bag of centroids\"\n",
    "    return bag_of_centroids"
   ]
  },
  {
   "cell_type": "code",
   "execution_count": 77,
   "metadata": {
    "collapsed": true
   },
   "outputs": [],
   "source": [
    "# Pre-allocate an array for the training set bags of centroids (for speed)\n",
    "train_centroids = np.zeros( (len(x_train2_wl), num_clusters), \\\n",
    "    dtype=\"float32\" )\n",
    "\n",
    "# Transform the training set reviews into bags of centroids\n",
    "counter = 0\n",
    "for review in x_train2_wl:\n",
    "    train_centroids[counter] = create_bag_of_centroids( review, \\\n",
    "        word_centroid_map )\n",
    "    counter += 1\n",
    "\n",
    "# Repeat for test reviews \n",
    "test_centroids = np.zeros(( len(x_test2_wl), num_clusters), \\\n",
    "    dtype=\"float32\" )\n",
    "\n",
    "counter = 0\n",
    "for review in x_test2_wl:\n",
    "    test_centroids[counter] = create_bag_of_centroids( review, \\\n",
    "        word_centroid_map )\n",
    "    counter += 1"
   ]
  },
  {
   "cell_type": "markdown",
   "metadata": {},
   "source": [
    "## Model with bag of centroids\n",
    "### Random Forest"
   ]
  },
  {
   "cell_type": "code",
   "execution_count": 255,
   "metadata": {
    "collapsed": false
   },
   "outputs": [
    {
     "name": "stdout",
     "output_type": "stream",
     "text": [
      "Fitting a random forest to labeled training data...\n"
     ]
    }
   ],
   "source": [
    "# Fit a random forest \n",
    "forest3 = RandomForestClassifier(n_estimators = 100)\n",
    "\n",
    "print \"Fitting a random forest to labeled training data...\"\n",
    "forest3 = forest3.fit(train_centroids,y_train2)"
   ]
  },
  {
   "cell_type": "code",
   "execution_count": 256,
   "metadata": {
    "collapsed": false
   },
   "outputs": [
    {
     "name": "stdout",
     "output_type": "stream",
     "text": [
      "Test Accuracy:  0.956043956044\n",
      "Confution matrix \n",
      "[[ 16  38]\n",
      " [  2 854]]\n",
      "             precision    recall  f1-score   support\n",
      "\n",
      "   negative       0.89      0.30      0.44        54\n",
      "   positive       0.96      1.00      0.98       856\n",
      "\n",
      "avg / total       0.95      0.96      0.95       910\n",
      "\n"
     ]
    },
    {
     "data": {
      "image/png": "[encoded data removed]",
      "text/plain": [
       "<matplotlib.figure.Figure at 0x11c745bd0>"
      ]
     },
     "metadata": {},
     "output_type": "display_data"
    }
   ],
   "source": [
    "run_performance(forest3, test_centroids,y_test2)"
   ]
  },
  {
   "cell_type": "markdown",
   "metadata": {},
   "source": [
    "### Random Forest with balanced class weight"
   ]
  },
  {
   "cell_type": "code",
   "execution_count": 292,
   "metadata": {
    "collapsed": false
   },
   "outputs": [
    {
     "name": "stdout",
     "output_type": "stream",
     "text": [
      "Fitting a random forest to labeled training data...\n"
     ]
    }
   ],
   "source": [
    "forest3_balanced = RandomForestClassifier(n_estimators = 100, class_weight='balanced')\n",
    "\n",
    "print \"Fitting a random forest to labeled training data...\"\n",
    "forest3_balanced = forest3_balanced.fit(train_centroids,y_train2)"
   ]
  },
  {
   "cell_type": "code",
   "execution_count": 293,
   "metadata": {
    "collapsed": false,
    "scrolled": false
   },
   "outputs": [
    {
     "name": "stdout",
     "output_type": "stream",
     "text": [
      "Test Accuracy:  0.952747252747\n",
      "Confution matrix \n",
      "[[ 13  41]\n",
      " [  2 854]]\n",
      "             precision    recall  f1-score   support\n",
      "\n",
      "   negative       0.87      0.24      0.38        54\n",
      "   positive       0.95      1.00      0.98       856\n",
      "\n",
      "avg / total       0.95      0.95      0.94       910\n",
      "\n"
     ]
    },
    {
     "data": {
      "image/png": "[encoded data removed]",
      "text/plain": [
       "<matplotlib.figure.Figure at 0x115bc1a90>"
      ]
     },
     "metadata": {},
     "output_type": "display_data"
    }
   ],
   "source": [
    "run_performance(forest3_balanced, test_centroids,y_test2)"
   ]
  },
  {
   "cell_type": "markdown",
   "metadata": {},
   "source": [
    "- Random forest doesn't work in this case"
   ]
  },
  {
   "cell_type": "markdown",
   "metadata": {},
   "source": [
    "### SVM"
   ]
  },
  {
   "cell_type": "code",
   "execution_count": 259,
   "metadata": {
    "collapsed": false
   },
   "outputs": [
    {
     "name": "stdout",
     "output_type": "stream",
     "text": [
      "Training...\n"
     ]
    }
   ],
   "source": [
    "print \"Training...\"\n",
    "from sklearn.svm import SVC\n",
    "\n",
    "svc3 = SVC(probability=True) \n",
    "\n",
    "# This may take a few minutes to run\n",
    "svc3 = svc3.fit(train_centroids,y_train2)"
   ]
  },
  {
   "cell_type": "code",
   "execution_count": 260,
   "metadata": {
    "collapsed": false
   },
   "outputs": [
    {
     "name": "stdout",
     "output_type": "stream",
     "text": [
      "Test Accuracy:  0.953846153846\n",
      "Confution matrix \n",
      "[[ 15  39]\n",
      " [  3 853]]\n",
      "             precision    recall  f1-score   support\n",
      "\n",
      "   negative       0.83      0.28      0.42        54\n",
      "   positive       0.96      1.00      0.98       856\n",
      "\n",
      "avg / total       0.95      0.95      0.94       910\n",
      "\n"
     ]
    },
    {
     "data": {
      "image/png": "[encoded data removed]",
      "text/plain": [
       "<matplotlib.figure.Figure at 0x17bcfe190>"
      ]
     },
     "metadata": {},
     "output_type": "display_data"
    }
   ],
   "source": [
    "run_performance(svc3, test_centroids,y_test2)"
   ]
  },
  {
   "cell_type": "markdown",
   "metadata": {},
   "source": [
    "- not working"
   ]
  },
  {
   "cell_type": "markdown",
   "metadata": {},
   "source": [
    "### SVM with balanced class weight"
   ]
  },
  {
   "cell_type": "code",
   "execution_count": 54,
   "metadata": {
    "collapsed": false
   },
   "outputs": [
    {
     "name": "stdout",
     "output_type": "stream",
     "text": [
      " Training...\n"
     ]
    }
   ],
   "source": [
    "print \"Training...\"\n",
    "from sklearn.svm import SVC\n",
    "\n",
    "svc3_balanced = SVC(kernel='rbf',class_weight='balanced',probability=True) \n",
    "# 'linear', 'poly', 'rbf', 'sigmoid'\n",
    "# This may take a few minutes to run\n",
    "svc3_balanced = svc3_balanced.fit(train_centroids,y_train2)"
   ]
  },
  {
   "cell_type": "code",
   "execution_count": 56,
   "metadata": {
    "collapsed": false
   },
   "outputs": [
    {
     "name": "stdout",
     "output_type": "stream",
     "text": [
      "Test Accuracy:  0.945054945055\n",
      "Confution matrix \n",
      "[[ 59   9]\n",
      " [ 41 801]]\n",
      "             precision    recall  f1-score   support\n",
      "\n",
      "   negative       0.59      0.87      0.70        68\n",
      "   positive       0.99      0.95      0.97       842\n",
      "\n",
      "avg / total       0.96      0.95      0.95       910\n",
      "\n"
     ]
    },
    {
     "data": {
      "image/png": "[encoded data removed]",
      "text/plain": [
       "<matplotlib.figure.Figure at 0x102084a90>"
      ]
     },
     "metadata": {},
     "output_type": "display_data"
    }
   ],
   "source": [
    "from performance import run_performance\n",
    "run_performance(svc3_balanced, test_centroids,y_test2)"
   ]
  },
  {
   "cell_type": "markdown",
   "metadata": {},
   "source": [
    "- This model is better."
   ]
  },
  {
   "cell_type": "markdown",
   "metadata": {},
   "source": [
    "## Model selection\n",
    "- I tried various models and the best model that I found was stochastic gradient descent\n",
    "- I'll put useful learning materials below as a refernce "
   ]
  },
  {
   "cell_type": "markdown",
   "metadata": {},
   "source": [
    "__Linear Models with L2 Regularization case__\n",
    "- Gradient Descent vs Stochastic Gradient Descent (Source: Andrew Ng by Coursera)\n",
    "<img src=\"data/gradient_descent.png\" alt=\"\" style=\"width: 600px;\"/>  \n",
    "- For GD, you have to run through ALL the samples in your training set to do a single update for a parameter in a particular iteration\n",
    "- For SGD, on the other hand, you use ONLY ONE training sample from your training set to do the update for a parameter in a particular iteration.\n"
   ]
  },
  {
   "cell_type": "markdown",
   "metadata": {},
   "source": [
    "\n",
    "- Hinge loss: Support Vector Machines \n",
    "<img src=\"data/sgd_hinge.png\" alt=\"\" style=\"width: 200px;\"/>  \n",
    "- Log loss: Logitstic regression \n",
    "<img src=\"data/sgd_log.png\" alt=\"\" style=\"width: 200px;\"/>  \n",
    "Source: Stochastic Gradient Descent Tricks by Microsoft Research"
   ]
  },
  {
   "cell_type": "code",
   "execution_count": 78,
   "metadata": {
    "collapsed": false
   },
   "outputs": [],
   "source": [
    "from sklearn.ensemble import GradientBoostingClassifier, AdaBoostClassifier, BaggingClassifier\n",
    "from sklearn.linear_model import SGDClassifier\n",
    "from sklearn.naive_bayes import MultinomialNB"
   ]
  },
  {
   "cell_type": "code",
   "execution_count": 117,
   "metadata": {
    "collapsed": false,
    "scrolled": true
   },
   "outputs": [
    {
     "name": "stdout",
     "output_type": "stream",
     "text": [
      "Training...\n"
     ]
    }
   ],
   "source": [
    "print \"Training...\"\n",
    "\n",
    "sgb =SGDClassifier()\n",
    "sgb = sgb.fit(train_centroids,y_train2)"
   ]
  },
  {
   "cell_type": "code",
   "execution_count": 118,
   "metadata": {
    "collapsed": false,
    "scrolled": true
   },
   "outputs": [
    {
     "name": "stdout",
     "output_type": "stream",
     "text": [
      "Test Accuracy:  0.957142857143\n",
      "Confution matrix \n",
      "[[ 36  19]\n",
      " [ 20 835]]\n",
      "             precision    recall  f1-score   support\n",
      "\n",
      "   negative       0.64      0.65      0.65        55\n",
      "   positive       0.98      0.98      0.98       855\n",
      "\n",
      "avg / total       0.96      0.96      0.96       910\n",
      "\n"
     ]
    },
    {
     "ename": "AttributeError",
     "evalue": "probability estimates are not available for loss='hinge'",
     "output_type": "error",
     "traceback": [
      "\u001b[0;31m---------------------------------------------------------------------------\u001b[0m",
      "\u001b[0;31mAttributeError\u001b[0m                            Traceback (most recent call last)",
      "\u001b[0;32m<ipython-input-118-47439735ced1>\u001b[0m in \u001b[0;36m<module>\u001b[0;34m()\u001b[0m\n\u001b[0;32m----> 1\u001b[0;31m \u001b[0mrun_performance\u001b[0m\u001b[0;34m(\u001b[0m\u001b[0msgb\u001b[0m\u001b[0;34m,\u001b[0m \u001b[0mtest_centroids\u001b[0m\u001b[0;34m,\u001b[0m\u001b[0my_test2\u001b[0m\u001b[0;34m)\u001b[0m\u001b[0;34m\u001b[0m\u001b[0m\n\u001b[0m",
      "\u001b[0;32m/Users/kimitakanakazawa/Dropbox/galvanizeU/FP6003_6004/performance.pyc\u001b[0m in \u001b[0;36mrun_performance\u001b[0;34m(model, test_x, test_y)\u001b[0m\n\u001b[1;32m     11\u001b[0m     \u001b[0mtarget_names\u001b[0m \u001b[0;34m=\u001b[0m \u001b[0;34m[\u001b[0m\u001b[0;34m'negative'\u001b[0m\u001b[0;34m,\u001b[0m \u001b[0;34m'positive'\u001b[0m\u001b[0;34m]\u001b[0m\u001b[0;34m\u001b[0m\u001b[0m\n\u001b[1;32m     12\u001b[0m     \u001b[0;32mprint\u001b[0m\u001b[0;34m(\u001b[0m\u001b[0mclassification_report\u001b[0m\u001b[0;34m(\u001b[0m\u001b[0mtest_y\u001b[0m\u001b[0;34m,\u001b[0m \u001b[0mmodel\u001b[0m\u001b[0;34m.\u001b[0m\u001b[0mpredict\u001b[0m\u001b[0;34m(\u001b[0m\u001b[0mtest_x\u001b[0m\u001b[0;34m)\u001b[0m\u001b[0;34m,\u001b[0m \u001b[0mtarget_names\u001b[0m\u001b[0;34m=\u001b[0m\u001b[0mtarget_names\u001b[0m\u001b[0;34m)\u001b[0m\u001b[0;34m)\u001b[0m\u001b[0;34m\u001b[0m\u001b[0m\n\u001b[0;32m---> 13\u001b[0;31m     \u001b[0mpred_probas\u001b[0m \u001b[0;34m=\u001b[0m \u001b[0mmodel\u001b[0m\u001b[0;34m.\u001b[0m\u001b[0mpredict_proba\u001b[0m\u001b[0;34m(\u001b[0m\u001b[0mtest_x\u001b[0m\u001b[0;34m)\u001b[0m\u001b[0;34m[\u001b[0m\u001b[0;34m:\u001b[0m\u001b[0;34m,\u001b[0m\u001b[0;36m1\u001b[0m\u001b[0;34m]\u001b[0m\u001b[0;34m\u001b[0m\u001b[0m\n\u001b[0m\u001b[1;32m     14\u001b[0m \u001b[0;34m\u001b[0m\u001b[0m\n\u001b[1;32m     15\u001b[0m     \u001b[0mfpr\u001b[0m\u001b[0;34m,\u001b[0m\u001b[0mtpr\u001b[0m\u001b[0;34m,\u001b[0m\u001b[0m_\u001b[0m \u001b[0;34m=\u001b[0m \u001b[0mroc_curve\u001b[0m\u001b[0;34m(\u001b[0m\u001b[0mtest_y\u001b[0m\u001b[0;34m,\u001b[0m \u001b[0mpred_probas\u001b[0m\u001b[0;34m)\u001b[0m\u001b[0;34m\u001b[0m\u001b[0m\n",
      "\u001b[0;32m/Users/kimitakanakazawa/anaconda/lib/python2.7/site-packages/sklearn/linear_model/stochastic_gradient.pyc\u001b[0m in \u001b[0;36mpredict_proba\u001b[0;34m(self)\u001b[0m\n\u001b[1;32m    754\u001b[0m         \u001b[0mhttp\u001b[0m\u001b[0;34m:\u001b[0m\u001b[0;34m//\u001b[0m\u001b[0mjmlr\u001b[0m\u001b[0;34m.\u001b[0m\u001b[0mcsail\u001b[0m\u001b[0;34m.\u001b[0m\u001b[0mmit\u001b[0m\u001b[0;34m.\u001b[0m\u001b[0medu\u001b[0m\u001b[0;34m/\u001b[0m\u001b[0mpapers\u001b[0m\u001b[0;34m/\u001b[0m\u001b[0mvolume2\u001b[0m\u001b[0;34m/\u001b[0m\u001b[0mzhang02c\u001b[0m\u001b[0;34m/\u001b[0m\u001b[0mzhang02c\u001b[0m\u001b[0;34m.\u001b[0m\u001b[0mpdf\u001b[0m\u001b[0;34m\u001b[0m\u001b[0m\n\u001b[1;32m    755\u001b[0m         \"\"\"\n\u001b[0;32m--> 756\u001b[0;31m         \u001b[0mself\u001b[0m\u001b[0;34m.\u001b[0m\u001b[0m_check_proba\u001b[0m\u001b[0;34m(\u001b[0m\u001b[0;34m)\u001b[0m\u001b[0;34m\u001b[0m\u001b[0m\n\u001b[0m\u001b[1;32m    757\u001b[0m         \u001b[0;32mreturn\u001b[0m \u001b[0mself\u001b[0m\u001b[0;34m.\u001b[0m\u001b[0m_predict_proba\u001b[0m\u001b[0;34m\u001b[0m\u001b[0m\n\u001b[1;32m    758\u001b[0m \u001b[0;34m\u001b[0m\u001b[0m\n",
      "\u001b[0;32m/Users/kimitakanakazawa/anaconda/lib/python2.7/site-packages/sklearn/linear_model/stochastic_gradient.pyc\u001b[0m in \u001b[0;36m_check_proba\u001b[0;34m(self)\u001b[0m\n\u001b[1;32m    719\u001b[0m         \u001b[0;32mif\u001b[0m \u001b[0mself\u001b[0m\u001b[0;34m.\u001b[0m\u001b[0mloss\u001b[0m \u001b[0;32mnot\u001b[0m \u001b[0;32min\u001b[0m \u001b[0;34m(\u001b[0m\u001b[0;34m\"log\"\u001b[0m\u001b[0;34m,\u001b[0m \u001b[0;34m\"modified_huber\"\u001b[0m\u001b[0;34m)\u001b[0m\u001b[0;34m:\u001b[0m\u001b[0;34m\u001b[0m\u001b[0m\n\u001b[1;32m    720\u001b[0m             raise AttributeError(\"probability estimates are not available for\"\n\u001b[0;32m--> 721\u001b[0;31m                                  \" loss=%r\" % self.loss)\n\u001b[0m\u001b[1;32m    722\u001b[0m \u001b[0;34m\u001b[0m\u001b[0m\n\u001b[1;32m    723\u001b[0m     \u001b[0;34m@\u001b[0m\u001b[0mproperty\u001b[0m\u001b[0;34m\u001b[0m\u001b[0m\n",
      "\u001b[0;31mAttributeError\u001b[0m: probability estimates are not available for loss='hinge'"
     ]
    }
   ],
   "source": [
    "run_performance(sgb, test_centroids,y_test2)"
   ]
  },
  {
   "cell_type": "markdown",
   "metadata": {},
   "source": [
    "- The reason for the error: to plot ROC, you can't use 'hinge' for loss. \n",
    "- This model detects negative sentiment pretty well compared to other models."
   ]
  },
  {
   "cell_type": "code",
   "execution_count": null,
   "metadata": {
    "collapsed": true
   },
   "outputs": [],
   "source": []
  },
  {
   "cell_type": "markdown",
   "metadata": {},
   "source": [
    "## Iterate finding/tuning a best model "
   ]
  },
  {
   "cell_type": "markdown",
   "metadata": {},
   "source": [
    "- Grid search\n",
    "- Cross validation"
   ]
  },
  {
   "cell_type": "code",
   "execution_count": 50,
   "metadata": {
    "collapsed": false
   },
   "outputs": [],
   "source": [
    "from sklearn.cross_validation import train_test_split, cross_val_score\n",
    "from sklearn.grid_search import GridSearchCV, RandomizedSearchCV\n",
    "from sklearn.metrics import mean_squared_error, r2_score\n",
    "from sklearn.ensemble.partial_dependence import plot_partial_dependence\n",
    "import matplotlib.pyplot as plt\n",
    "import numpy as np\n",
    "import scipy.stats as ss\n",
    "from sklearn.cross_validation import StratifiedShuffleSplit\n",
    "\n",
    "%matplotlib inline"
   ]
  },
  {
   "cell_type": "code",
   "execution_count": 48,
   "metadata": {
    "collapsed": false,
    "scrolled": true
   },
   "outputs": [
    {
     "data": {
      "text/plain": [
       "(3638, 3638)"
      ]
     },
     "execution_count": 48,
     "metadata": {},
     "output_type": "execute_result"
    }
   ],
   "source": [
    "len(train_centroids),len(y_train2)"
   ]
  },
  {
   "cell_type": "markdown",
   "metadata": {},
   "source": [
    "### SVM with balanced class weights"
   ]
  },
  {
   "cell_type": "code",
   "execution_count": 59,
   "metadata": {
    "collapsed": false,
    "scrolled": true
   },
   "outputs": [
    {
     "name": "stderr",
     "output_type": "stream",
     "text": [
      "[Parallel(n_jobs=1)]: Done  49 tasks       | elapsed: 12.4min\n",
      "[Parallel(n_jobs=1)]: Done  96 out of  96 | elapsed: 18.5min finished\n"
     ]
    },
    {
     "name": "stdout",
     "output_type": "stream",
     "text": [
      "Fitting 3 folds for each of 32 candidates, totalling 96 fits\n",
      "best parameters: {'kernel': 'rbf', 'C': 10, 'gamma': 0.01, 'class_weight': 'balanced'}\n"
     ]
    }
   ],
   "source": [
    "# SVC grid search\n",
    "svc_grid = {\n",
    "    'kernel': ['linear','rbf'], \n",
    "                     'gamma': [1e-2,1e-3,1e-4,1e-5],\n",
    "                     'C': [1, 10, 100, 1000],\n",
    "                      'class_weight': ['balanced'],}\n",
    "\n",
    "svc_gridsearch = GridSearchCV(SVC(probability=True),\n",
    "                             svc_grid,\n",
    "                             verbose=True,\n",
    "                             scoring='accuracy')\n",
    "\n",
    "svc_gridsearch.fit(train_centroids,y_train2)\n",
    "\n",
    "print \"best parameters:\", svc_gridsearch.best_params_\n",
    "\n",
    "best_svc_model = svc_gridsearch.best_estimator_"
   ]
  },
  {
   "cell_type": "code",
   "execution_count": 60,
   "metadata": {
    "collapsed": false,
    "scrolled": true
   },
   "outputs": [
    {
     "name": "stdout",
     "output_type": "stream",
     "text": [
      "New accuracy: 0.954925845823\n",
      "Original accuracy: 0.953814868524\n"
     ]
    }
   ],
   "source": [
    "# Comparison\n",
    "print \"New accuracy:\", (cross_val_score(best_svc_model,test_centroids,y_test2, cv=5,\n",
    "                        scoring='accuracy') ).mean()\n",
    "\n",
    "print \"Original accuracy:\", (cross_val_score(svc3_balanced, test_centroids, y_test2, \n",
    "                    cv=5, scoring='accuracy')).mean()"
   ]
  },
  {
   "cell_type": "code",
   "execution_count": 61,
   "metadata": {
    "collapsed": false,
    "scrolled": false
   },
   "outputs": [
    {
     "name": "stdout",
     "output_type": "stream",
     "text": [
      "Test Accuracy:  0.948351648352\n",
      "Confution matrix \n",
      "[[ 40  28]\n",
      " [ 19 823]]\n",
      "             precision    recall  f1-score   support\n",
      "\n",
      "   negative       0.68      0.59      0.63        68\n",
      "   positive       0.97      0.98      0.97       842\n",
      "\n",
      "avg / total       0.95      0.95      0.95       910\n",
      "\n"
     ]
    },
    {
     "data": {
      "image/png": "[encoded data removed]",
      "text/plain": [
       "<matplotlib.figure.Figure at 0x1476a1710>"
      ]
     },
     "metadata": {},
     "output_type": "display_data"
    }
   ],
   "source": [
    "run_performance(best_svc_model, test_centroids,y_test2)"
   ]
  },
  {
   "cell_type": "markdown",
   "metadata": {},
   "source": [
    "- Slightly better performacne but no better than standard SGD."
   ]
  },
  {
   "cell_type": "markdown",
   "metadata": {},
   "source": [
    "### SGD"
   ]
  },
  {
   "cell_type": "code",
   "execution_count": 515,
   "metadata": {
    "collapsed": false,
    "scrolled": true
   },
   "outputs": [
    {
     "name": "stderr",
     "output_type": "stream",
     "text": [
      "[Parallel(n_jobs=1)]: Done  49 tasks       | elapsed:    5.9s\n",
      "[Parallel(n_jobs=1)]: Done 199 tasks       | elapsed:   28.3s\n",
      "[Parallel(n_jobs=1)]: Done 449 tasks       | elapsed:  1.1min\n",
      "[Parallel(n_jobs=1)]: Done 799 tasks       | elapsed:  2.0min\n",
      "[Parallel(n_jobs=1)]: Done 1249 tasks       | elapsed:  3.1min\n",
      "[Parallel(n_jobs=1)]: Done 1296 out of 1296 | elapsed:  3.2min finished\n"
     ]
    },
    {
     "name": "stdout",
     "output_type": "stream",
     "text": [
      "Fitting 3 folds for each of 432 candidates, totalling 1296 fits\n",
      "best parameters: {'warm_start': False, 'n_iter': 20, 'shuffle': True, 'loss': 'log', 'penalty': 'elasticnet', 'alpha': 0.001, 'class_weight': None}\n"
     ]
    }
   ],
   "source": [
    "# SGD grid search\n",
    "sgd_grid = {\n",
    "    'loss': ['hinge', 'log', 'modified_huber','squared_hinge'], \n",
    "    'penalty': ['l2', 'l1','elasticnet'], \n",
    "    'alpha': [1e-3,1e-4,1e-5],\n",
    "\n",
    "    'n_iter': [5,10,20],\n",
    "    'class_weight': ['balanced', None],\n",
    "    'warm_start':[False, True],\n",
    "    'shuffle':[True]\n",
    "    }\n",
    "\n",
    "sgd_gridsearch = GridSearchCV(SGDClassifier(),\n",
    "                             sgd_grid,\n",
    "                             verbose=True,\n",
    "                             scoring='accuracy')\n",
    "\n",
    "sgd_gridsearch.fit(train_centroids,y_train2)\n",
    "\n",
    "print \"best parameters:\", sgd_gridsearch.best_params_\n",
    "\n",
    "best_sgb_model = sgd_gridsearch.best_estimator_"
   ]
  },
  {
   "cell_type": "code",
   "execution_count": 528,
   "metadata": {
    "collapsed": false,
    "scrolled": true
   },
   "outputs": [
    {
     "name": "stdout",
     "output_type": "stream",
     "text": [
      "New accuracy: 0.950545674133\n",
      "Original accuracy: 0.954917654809\n"
     ]
    }
   ],
   "source": [
    "# Comparison\n",
    "print \"New accuracy:\", (cross_val_score(best_sgb_model,test_centroids,y_test2, cv=20,\n",
    "                        scoring='accuracy') ).mean()\n",
    "\n",
    "print \"Original accuracy:\", (cross_val_score(sgb, test_centroids, y_test2, \n",
    "                    cv=20, scoring='accuracy')).mean()"
   ]
  },
  {
   "cell_type": "code",
   "execution_count": 527,
   "metadata": {
    "collapsed": false,
    "scrolled": false
   },
   "outputs": [
    {
     "name": "stdout",
     "output_type": "stream",
     "text": [
      "Test Accuracy:  0.967032967033\n",
      "Confution matrix \n",
      "[[ 38  16]\n",
      " [ 14 842]]\n",
      "             precision    recall  f1-score   support\n",
      "\n",
      "   negative       0.73      0.70      0.72        54\n",
      "   positive       0.98      0.98      0.98       856\n",
      "\n",
      "avg / total       0.97      0.97      0.97       910\n",
      "\n"
     ]
    },
    {
     "data": {
      "image/png": "[encoded data removed]",
      "text/plain": [
       "<matplotlib.figure.Figure at 0x19146a290>"
      ]
     },
     "metadata": {},
     "output_type": "display_data"
    }
   ],
   "source": [
    "run_performance(best_sgb_model, test_centroids,y_test2)"
   ]
  },
  {
   "cell_type": "markdown",
   "metadata": {},
   "source": [
    "- This is not a bad model but unoptimized SGD is better (in terms of capturing negative reviews) \n",
    "- The problem with unoptimized SGD is that the model is unstable. "
   ]
  },
  {
   "cell_type": "markdown",
   "metadata": {},
   "source": [
    "### a possible solution: Try bagging SGD to increase the stability."
   ]
  },
  {
   "cell_type": "code",
   "execution_count": 103,
   "metadata": {
    "collapsed": false
   },
   "outputs": [
    {
     "name": "stdout",
     "output_type": "stream",
     "text": [
      "Training...\n"
     ]
    }
   ],
   "source": [
    "print \"Training...\"\n",
    "\n",
    "bagging_sgd = BaggingClassifier(base_estimator=SGDClassifier())\n",
    "bagging_sgd = bagging_sgd.fit(train_centroids,y_train2)"
   ]
  },
  {
   "cell_type": "code",
   "execution_count": 104,
   "metadata": {
    "collapsed": false,
    "scrolled": false
   },
   "outputs": [
    {
     "name": "stdout",
     "output_type": "stream",
     "text": [
      "Test Accuracy:  0.964835164835\n",
      "Confution matrix \n",
      "[[ 38  17]\n",
      " [ 15 840]]\n",
      "             precision    recall  f1-score   support\n",
      "\n",
      "   negative       0.72      0.69      0.70        55\n",
      "   positive       0.98      0.98      0.98       855\n",
      "\n",
      "avg / total       0.96      0.96      0.96       910\n",
      "\n"
     ]
    },
    {
     "data": {
      "image/png": "[encoded data removed]",
      "text/plain": [
       "<matplotlib.figure.Figure at 0x16d1f7150>"
      ]
     },
     "metadata": {},
     "output_type": "display_data"
    }
   ],
   "source": [
    "run_performance(bagging_sgd, test_centroids,y_test2)"
   ]
  },
  {
   "cell_type": "markdown",
   "metadata": {},
   "source": [
    "- This is better. Let's tune."
   ]
  },
  {
   "cell_type": "code",
   "execution_count": 582,
   "metadata": {
    "collapsed": false,
    "scrolled": false
   },
   "outputs": [
    {
     "name": "stderr",
     "output_type": "stream",
     "text": [
      "[Parallel(n_jobs=1)]: Done  49 tasks       | elapsed:    6.8s\n",
      "[Parallel(n_jobs=1)]: Done 199 tasks       | elapsed:   31.1s\n"
     ]
    },
    {
     "name": "stdout",
     "output_type": "stream",
     "text": [
      "Fitting 3 folds for each of 108 candidates, totalling 324 fits\n",
      "best parameters: {'warm_start': False, 'max_samples': 1, 'base_estimator': SGDClassifier(alpha=0.0001, average=False, class_weight=None, epsilon=0.1,\n",
      "       eta0=0.0, fit_intercept=True, l1_ratio=0.15,\n",
      "       learning_rate='optimal', loss='hinge', n_iter=5, n_jobs=1,\n",
      "       penalty='l2', power_t=0.5, random_state=None, shuffle=True,\n",
      "       verbose=0, warm_start=False), 'n_estimators': 10, 'random_state': None, 'max_features': 1}\n"
     ]
    },
    {
     "name": "stderr",
     "output_type": "stream",
     "text": [
      "[Parallel(n_jobs=1)]: Done 324 out of 324 | elapsed:   56.4s finished\n"
     ]
    }
   ],
   "source": [
    "# SGD grid search\n",
    "bagging_sgd_grid = {\n",
    "    'base_estimator': [SGDClassifier()], \n",
    "    'n_estimators': [10,25,50], \n",
    "    'max_samples': [1,5,10],\n",
    "    'max_features': [1,5,10],\n",
    "    'warm_start': [False, True],\n",
    "    'random_state':[None, True],\n",
    "    }\n",
    "\n",
    "\n",
    "bagging_sgd_gridsearch = GridSearchCV(BaggingClassifier(),\n",
    "                             bagging_sgd_grid,\n",
    "                             verbose=True,\n",
    "                             scoring='accuracy')\n",
    "\n",
    "bagging_sgd_gridsearch.fit(train_centroids,y_train2)\n",
    "\n",
    "print \"best parameters:\", bagging_sgd_gridsearch.best_params_\n",
    "\n",
    "best_bagging_sgb_model = bagging_sgd_gridsearch.best_estimator_"
   ]
  },
  {
   "cell_type": "code",
   "execution_count": 584,
   "metadata": {
    "collapsed": false
   },
   "outputs": [
    {
     "name": "stdout",
     "output_type": "stream",
     "text": [
      "New accuracy: 0.940812472552\n",
      "Original accuracy: 0.961488801054\n"
     ]
    }
   ],
   "source": [
    "# Comparison\n",
    "print \"New accuracy:\", (cross_val_score(best_bagging_sgb_model,test_centroids,y_test2, cv=20,\n",
    "                        scoring='accuracy') ).mean()\n",
    "\n",
    "print \"Original accuracy:\", (cross_val_score(bagging_sgd, test_centroids, y_test2, \n",
    "                    cv=20, scoring='accuracy')).mean()"
   ]
  },
  {
   "cell_type": "code",
   "execution_count": 583,
   "metadata": {
    "collapsed": false,
    "scrolled": false
   },
   "outputs": [
    {
     "name": "stdout",
     "output_type": "stream",
     "text": [
      "Test Accuracy:  0.940659340659\n",
      "Confution matrix \n",
      "[[  0  54]\n",
      " [  0 856]]\n",
      "             precision    recall  f1-score   support\n",
      "\n",
      "   negative       0.00      0.00      0.00        54\n",
      "   positive       0.94      1.00      0.97       856\n",
      "\n",
      "avg / total       0.88      0.94      0.91       910\n",
      "\n"
     ]
    },
    {
     "data": {
      "image/png": "[encoded data removed]",
      "text/plain": [
       "<matplotlib.figure.Figure at 0x1b30d2dd0>"
      ]
     },
     "metadata": {},
     "output_type": "display_data"
    }
   ],
   "source": [
    "run_performance(best_bagging_sgb_model, test_centroids,y_test2)"
   ]
  },
  {
   "cell_type": "markdown",
   "metadata": {},
   "source": [
    "- Okay.. not working. Let's stop exploring here and use the best model we got so far, Bagging SGD. "
   ]
  },
  {
   "cell_type": "code",
   "execution_count": null,
   "metadata": {
    "collapsed": true
   },
   "outputs": [],
   "source": []
  },
  {
   "cell_type": "markdown",
   "metadata": {},
   "source": [
    "## Check with eyes \n",
    "- Let's see if reviews are correctly separated (with human eyes)"
   ]
  },
  {
   "cell_type": "markdown",
   "metadata": {},
   "source": [
    "### Test data"
   ]
  },
  {
   "cell_type": "code",
   "execution_count": 589,
   "metadata": {
    "collapsed": false
   },
   "outputs": [
    {
     "name": "stdout",
     "output_type": "stream",
     "text": [
      "[18, 38, 62, 76, 81, 136, 163, 183, 192, 195, 203, 205, 238, 243, 272, 295, 342, 345, 361, 379, 395, 400, 404, 406, 418, 429, 444, 447, 455, 457, 464, 471, 488, 501, 509, 527, 554, 563, 581, 596, 605, 618, 658, 706, 715, 748, 765, 774, 780, 784, 788, 823, 828, 834, 849, 873, 893, 901, 905] 59\n"
     ]
    }
   ],
   "source": [
    "pred_index_list = []\n",
    "for index, item in enumerate(bagging_sgd.predict(test_centroids)):\n",
    "    if item == -1:\n",
    "        pred_index_list.append(index)\n",
    "    \n",
    "print pred_index_list, len(pred_index_list)"
   ]
  },
  {
   "cell_type": "code",
   "execution_count": 590,
   "metadata": {
    "collapsed": false,
    "scrolled": true
   },
   "outputs": [
    {
     "name": "stdout",
     "output_type": "stream",
     "text": [
      "[18, 38, 62, 76, 81, 88, 163, 192, 195, 203, 205, 211, 238, 243, 272, 316, 342, 345, 359, 361, 379, 400, 404, 418, 429, 444, 447, 455, 457, 459, 464, 471, 501, 507, 509, 527, 529, 554, 581, 596, 618, 658, 689, 706, 715, 744, 748, 769, 774, 788, 802, 834, 893, 901] 54\n"
     ]
    }
   ],
   "source": [
    "true_index_list = []\n",
    "for index, item in enumerate(y_test2):\n",
    "    if item == -1:\n",
    "        true_index_list.append(index)\n",
    "\n",
    "print true_index_list, len(true_index_list)"
   ]
  },
  {
   "cell_type": "markdown",
   "metadata": {},
   "source": [
    "- with bagging SGD, it predicts 59 negative reviews for test data while the number of true negative reviews are 54. "
   ]
  },
  {
   "cell_type": "markdown",
   "metadata": {},
   "source": [
    "### Let's print the reviews"
   ]
  },
  {
   "cell_type": "markdown",
   "metadata": {
    "collapsed": false
   },
   "source": [
    "print filter(lambda x: x in true_index_list, pred_index_list), len(filter(lambda x: x in true_index_list, pred_index_list))"
   ]
  },
  {
   "cell_type": "code",
   "execution_count": null,
   "metadata": {
    "collapsed": true
   },
   "outputs": [],
   "source": []
  },
  {
   "cell_type": "code",
   "execution_count": null,
   "metadata": {
    "collapsed": true
   },
   "outputs": [],
   "source": []
  },
  {
   "cell_type": "markdown",
   "metadata": {},
   "source": [
    "### Unlabeled data"
   ]
  },
  {
   "cell_type": "code",
   "execution_count": 592,
   "metadata": {
    "collapsed": false
   },
   "outputs": [
    {
     "name": "stdout",
     "output_type": "stream",
     "text": [
      "[339, 349, 804, 821, 824, 826, 842, 849, 866] 9\n"
     ]
    }
   ],
   "source": [
    "check_no_label_list = []\n",
    "for index, item in enumerate(bagging_sgd.predict(no_label_centroids[:1000])):\n",
    "    if item == -1:\n",
    "        check_no_label_list.append(index)\n",
    "    \n",
    "print check_no_label_list, len(check_no_label_list)"
   ]
  },
  {
   "cell_type": "code",
   "execution_count": 593,
   "metadata": {
    "collapsed": false,
    "scrolled": true
   },
   "outputs": [
    {
     "name": "stdout",
     "output_type": "stream",
     "text": [
      "opal kind open hearted host unfortunately house heated especially bathroom couldn even take shower fear turning popsicle morning night could see view room main reason picked place bed gave musty fume made difficult u sleep weird picture thing looking didn help opal seemed like nice person suck write bad review re looking clean comfortable place rest head\n",
      "\n",
      "rented gypsy room night march great stay around even live sf place rented via airbnb easy relaxed vibe social re type also meditative private prefer frankly big draw sauna floatation tank used one cost hour relaxed blissed time left hope go back soon two thumb\n",
      "\n",
      "actually complete stay scott upon arrival unable get door unlocked despite letting scott know arriving unavailable phone text email airbnb app hour waiting outside finally neighbor let u property uncomfortable lock situation nervous leave since didn know would make back house decided book hotel room instead understand lock since replaced assume won problem future\n",
      "\n",
      "arrived hour journey australia find key andrea meant leave pm check arranged drop area took minute andrea come let u inside apartment cute clean realised wasn anything like photo used fact photo air b n b profile shop actusl apartment misleading sofa bed pull sleeper sofa meant rd guest uncomfortable checked early along noise outside keeping awake andrea didnt respond concern even though misled got compensation hotel needed check really disappointing experience overall andrea honest representation apartment probably wouldn felt misled disappointed definitely need drop nightly cost given reality apartment much lower photo air b n b need better auditing host really poor experience mean holidaymaker protected taken hour way stop host responsive think use air b n b\n",
      "\n",
      "mum stayed andrea apartment four night really disappointed whole experience consequently won using airbnb recommending airbnb anyone similar experience reviewer booked apartment july based photo andrea apartment emailed andrea told case advert misleading deceptive sad truth andrea money late d sold pup andrea apartment described rather old shabby priced shoebox great location exorbitant amount money challenged andrea misrepresentation space suggested go ritz paid could truth would checked hotel able get money back addition space unpleasant old cramped lacked basic amenity one find motel like ironing board iron requested reading another review hair dryer tv requested toaster toaster forthcoming addition apartment home andrea felt uncomfortable making space full wardrobe drawer particularly space made host honestly felt like imposing someone else space despite really sealed deal u andrea male friend came apartment tried open door latched apartment front door morning checking check couldn believe made u question whether coming apartment dealing correspondence andrea unpleasant challenged advert found disingenuous dishonest save trouble dealing check hotwire get great deal reputable hotel extended stay san fran checked hilton union square usd tax loved\n",
      "\n",
      "stay booked apartment night really disappointed whole experience consequently won using airbnb recommending airbnb anyone similar experience reviewer booked apartment june based photo andrea apartment emailed andrea told case advert misleading deceptive sad truth andrea money late d sold pup andrea apartment described rather old shabby priced shoebox great location exorbitant amount money challenged andrea misrepresentation space suggested go ritz paid could truth would checked hotel able get money back addition space unpleasant old cramped lacked basic amenity one find motel like ironing board iron requested reading another review hair dryer tv requested toaster toaster forthcoming addition apartment home andrea felt uncomfortable making space full wardrobe drawer particularly space made host honestly felt like imposing someone else space despite really sealed deal u andrea male friend came apartment tried open door latched apartment front door morning checking check couldn believe made u question whether coming apartment dealing correspondence andrea unpleasant challenged advert found disingenuous dishonest asked washer dryer said use one street ask hot tub still waiting reply guess u fill tub hot water thats hot tub check early stay hotel kitchen unusable pot pan burnt teflon flaking dishonest host\n",
      "\n",
      "disappointed experience first paid night place clearly rented much le make thing worse host didn tell pipe bathroom sink busted first used bathroom flooded called host right away said thought told later apologized missed critical information wouldn rented place known beforehand also said would fix pipe current airbnb booking hole needed made wall order fix cancel booking already fix pipe least clear issue potential guest made aware paying addition first day got locked apartment locked lower knob apartment door apparently shouldn yet host didn make aware point inconvenient couldn get back finally sort loud recycling machine came street around night stayed m sure legal serious noise disturbance case made stay even unpleasant\n",
      "\n",
      "andrea communicative helpful brought coffee pod next day arrived since none nespresso machine place nice functional location great nearly bright cheery photo rather cold night drafty window way adjust heat central building one fairly thin covering bed asked blanket said sorry okay barely others may find cold winter street noise typical san francisco ll find anywhere tenant upstairs make quite racket walking heel boot hardwood floor dragging chair across floor etc could hear talking went late started early bring earplug\n",
      "\n",
      "pro conveniently located spacious comfortable andrea helpful query con issue stem fact apartment building actually lot older would appear photograph external door apartment door real pain unlock amount time took open varied minute really annoying happen rush heating apartment schedule turned probably fine winter ideal july m generally fussy noise window single pane street outside fairly busy woken night least one large towel could find\n",
      "\n"
     ]
    }
   ],
   "source": [
    "for index in check_no_label_list:\n",
    "    sentence = \" \".join(no_label_list2_wl[index])\n",
    "    print sentence\n",
    "    print"
   ]
  },
  {
   "cell_type": "markdown",
   "metadata": {},
   "source": [
    "- It seems like the model is pretty good at capturing negative reviews"
   ]
  },
  {
   "cell_type": "code",
   "execution_count": null,
   "metadata": {
    "collapsed": true
   },
   "outputs": [],
   "source": []
  },
  {
   "cell_type": "markdown",
   "metadata": {},
   "source": [
    "# Label the data\n",
    "- Label all reviews with the bagging SGD model."
   ]
  },
  {
   "cell_type": "code",
   "execution_count": 599,
   "metadata": {
    "collapsed": false,
    "scrolled": true
   },
   "outputs": [
    {
     "data": {
      "text/plain": [
       "(127784, 127784, 127784)"
      ]
     },
     "execution_count": 599,
     "metadata": {},
     "output_type": "execute_result"
    }
   ],
   "source": [
    "len(no_label_centroids), len(no_label_list2_wl), len(no_label_df2)"
   ]
  },
  {
   "cell_type": "code",
   "execution_count": 602,
   "metadata": {
    "collapsed": false
   },
   "outputs": [
    {
     "data": {
      "text/plain": [
       "array([ 1.,  1.,  1.,  1.,  1.,  1.,  1.,  1.,  1.,  1.])"
      ]
     },
     "execution_count": 602,
     "metadata": {},
     "output_type": "execute_result"
    }
   ],
   "source": [
    "bagging_sgd.predict(no_label_centroids[:10])"
   ]
  },
  {
   "cell_type": "code",
   "execution_count": 600,
   "metadata": {
    "collapsed": false,
    "scrolled": false
   },
   "outputs": [
    {
     "name": "stderr",
     "output_type": "stream",
     "text": [
      "/Users/kimitakanakazawa/anaconda/lib/python2.7/site-packages/ipykernel/__main__.py:1: SettingWithCopyWarning: \n",
      "A value is trying to be set on a copy of a slice from a DataFrame.\n",
      "Try using .loc[row_indexer,col_indexer] = value instead\n",
      "\n",
      "See the caveats in the documentation: http://pandas.pydata.org/pandas-docs/stable/indexing.html#indexing-view-versus-copy\n",
      "  if __name__ == '__main__':\n"
     ]
    }
   ],
   "source": [
    "no_label_df2['bagging_sgd_sentiment'] = 'no_data'"
   ]
  },
  {
   "cell_type": "code",
   "execution_count": 603,
   "metadata": {
    "collapsed": false,
    "scrolled": false
   },
   "outputs": [
    {
     "name": "stderr",
     "output_type": "stream",
     "text": [
      "/Users/kimitakanakazawa/anaconda/lib/python2.7/site-packages/pandas/core/generic.py:2273: SettingWithCopyWarning: \n",
      "A value is trying to be set on a copy of a slice from a DataFrame.\n",
      "Try using .loc[row_indexer,col_indexer] = value instead\n",
      "\n",
      "See the caveats in the documentation: http://pandas.pydata.org/pandas-docs/stable/indexing.html#indexing-view-versus-copy\n",
      "  self[name] = value\n"
     ]
    }
   ],
   "source": [
    "no_label_df2.bagging_sgd_sentiment = bagging_sgd.predict(no_label_centroids)"
   ]
  },
  {
   "cell_type": "code",
   "execution_count": 621,
   "metadata": {
    "collapsed": false,
    "scrolled": true
   },
   "outputs": [
    {
     "data": {
      "text/plain": [
       "Counter({-1.0: 1364, 1.0: 126420})"
      ]
     },
     "execution_count": 621,
     "metadata": {},
     "output_type": "execute_result"
    }
   ],
   "source": [
    "Counter(no_label_df2.bagging_sgd_sentiment)"
   ]
  },
  {
   "cell_type": "markdown",
   "metadata": {},
   "source": [
    "## Merge pos/neg/non_label DFs together and export in csv\n",
    "- use labels if alchemy_api already labels the review\n",
    "- if not, use the labels from the bagging SGD model."
   ]
  },
  {
   "cell_type": "code",
   "execution_count": 628,
   "metadata": {
    "collapsed": false
   },
   "outputs": [
    {
     "name": "stderr",
     "output_type": "stream",
     "text": [
      "/Users/kimitakanakazawa/anaconda/lib/python2.7/site-packages/ipykernel/__main__.py:1: SettingWithCopyWarning: \n",
      "A value is trying to be set on a copy of a slice from a DataFrame.\n",
      "Try using .loc[row_indexer,col_indexer] = value instead\n",
      "\n",
      "See the caveats in the documentation: http://pandas.pydata.org/pandas-docs/stable/indexing.html#indexing-view-versus-copy\n",
      "  if __name__ == '__main__':\n"
     ]
    },
    {
     "data": {
      "text/html": [
       "<div>\n",
       "<table border=\"1\" class=\"dataframe\">\n",
       "  <thead>\n",
       "    <tr style=\"text-align: right;\">\n",
       "      <th></th>\n",
       "      <th>review_id</th>\n",
       "      <th>review_scores_rating</th>\n",
       "      <th>comments</th>\n",
       "      <th>Sentiment</th>\n",
       "      <th>alchemy_sentiment</th>\n",
       "      <th>alchemy_sentiment_score</th>\n",
       "      <th>bagging_sgd_sentiment</th>\n",
       "    </tr>\n",
       "  </thead>\n",
       "  <tbody>\n",
       "    <tr>\n",
       "      <th>0</th>\n",
       "      <td>10612780</td>\n",
       "      <td>92</td>\n",
       "      <td>[[great, host], [provided, special, gift, bask...</td>\n",
       "      <td>1</td>\n",
       "      <td>1</td>\n",
       "      <td>0.692647</td>\n",
       "      <td>1</td>\n",
       "    </tr>\n",
       "    <tr>\n",
       "      <th>1</th>\n",
       "      <td>49925683</td>\n",
       "      <td>92</td>\n",
       "      <td>[[great, host], [met, me, at, apartment], [pla...</td>\n",
       "      <td>1</td>\n",
       "      <td>1</td>\n",
       "      <td>0.646267</td>\n",
       "      <td>1</td>\n",
       "    </tr>\n",
       "    <tr>\n",
       "      <th>2</th>\n",
       "      <td>50537634</td>\n",
       "      <td>92</td>\n",
       "      <td>[[syeda, hosted, my, parents, for, four, days,...</td>\n",
       "      <td>No_label</td>\n",
       "      <td>1</td>\n",
       "      <td>0.656386</td>\n",
       "      <td>1</td>\n",
       "    </tr>\n",
       "    <tr>\n",
       "      <th>3</th>\n",
       "      <td>51077613</td>\n",
       "      <td>92</td>\n",
       "      <td>[[i, had, a, great, experience, at, syeda, s, ...</td>\n",
       "      <td>1</td>\n",
       "      <td>1</td>\n",
       "      <td>0.817832</td>\n",
       "      <td>1</td>\n",
       "    </tr>\n",
       "    <tr>\n",
       "      <th>4</th>\n",
       "      <td>52109034</td>\n",
       "      <td>92</td>\n",
       "      <td>[[great, location], [warm, welcoming, host], [...</td>\n",
       "      <td>No_label</td>\n",
       "      <td>1</td>\n",
       "      <td>0.845319</td>\n",
       "      <td>1</td>\n",
       "    </tr>\n",
       "  </tbody>\n",
       "</table>\n",
       "</div>"
      ],
      "text/plain": [
       "   review_id  review_scores_rating  \\\n",
       "0   10612780                    92   \n",
       "1   49925683                    92   \n",
       "2   50537634                    92   \n",
       "3   51077613                    92   \n",
       "4   52109034                    92   \n",
       "\n",
       "                                            comments Sentiment  \\\n",
       "0  [[great, host], [provided, special, gift, bask...         1   \n",
       "1  [[great, host], [met, me, at, apartment], [pla...         1   \n",
       "2  [[syeda, hosted, my, parents, for, four, days,...  No_label   \n",
       "3  [[i, had, a, great, experience, at, syeda, s, ...         1   \n",
       "4  [[great, location], [warm, welcoming, host], [...  No_label   \n",
       "\n",
       "  alchemy_sentiment alchemy_sentiment_score  bagging_sgd_sentiment  \n",
       "0                 1                0.692647                      1  \n",
       "1                 1                0.646267                      1  \n",
       "2                 1                0.656386                      1  \n",
       "3                 1                0.817832                      1  \n",
       "4                 1                0.845319                      1  "
      ]
     },
     "execution_count": 628,
     "metadata": {},
     "output_type": "execute_result"
    }
   ],
   "source": [
    "pos_df2['bagging_sgd_sentiment'] = 1\n",
    "pos_df2.head()"
   ]
  },
  {
   "cell_type": "code",
   "execution_count": 632,
   "metadata": {
    "collapsed": false
   },
   "outputs": [
    {
     "name": "stderr",
     "output_type": "stream",
     "text": [
      "/Users/kimitakanakazawa/anaconda/lib/python2.7/site-packages/ipykernel/__main__.py:1: SettingWithCopyWarning: \n",
      "A value is trying to be set on a copy of a slice from a DataFrame.\n",
      "Try using .loc[row_indexer,col_indexer] = value instead\n",
      "\n",
      "See the caveats in the documentation: http://pandas.pydata.org/pandas-docs/stable/indexing.html#indexing-view-versus-copy\n",
      "  if __name__ == '__main__':\n"
     ]
    },
    {
     "data": {
      "text/html": [
       "<div>\n",
       "<table border=\"1\" class=\"dataframe\">\n",
       "  <thead>\n",
       "    <tr style=\"text-align: right;\">\n",
       "      <th></th>\n",
       "      <th>review_id</th>\n",
       "      <th>review_scores_rating</th>\n",
       "      <th>comments</th>\n",
       "      <th>Sentiment</th>\n",
       "      <th>alchemy_sentiment</th>\n",
       "      <th>alchemy_sentiment_score</th>\n",
       "      <th>bagging_sgd_sentiment</th>\n",
       "    </tr>\n",
       "  </thead>\n",
       "  <tbody>\n",
       "    <tr>\n",
       "      <th>33</th>\n",
       "      <td>45319850</td>\n",
       "      <td>99</td>\n",
       "      <td>[[this, is, such, great, spot], [i, come, to, ...</td>\n",
       "      <td>No_label</td>\n",
       "      <td>-1</td>\n",
       "      <td>-0.0612885</td>\n",
       "      <td>-1</td>\n",
       "    </tr>\n",
       "    <tr>\n",
       "      <th>294</th>\n",
       "      <td>51305545</td>\n",
       "      <td>87</td>\n",
       "      <td>[[smooth, experience], [no, real, hiccups, at,...</td>\n",
       "      <td>No_label</td>\n",
       "      <td>-1</td>\n",
       "      <td>-0.173146</td>\n",
       "      <td>-1</td>\n",
       "    </tr>\n",
       "    <tr>\n",
       "      <th>465</th>\n",
       "      <td>36558097</td>\n",
       "      <td>97</td>\n",
       "      <td>[[michelle, s, space, had, lots, of, room, and...</td>\n",
       "      <td>No_label</td>\n",
       "      <td>-1</td>\n",
       "      <td>-0.13192</td>\n",
       "      <td>-1</td>\n",
       "    </tr>\n",
       "    <tr>\n",
       "      <th>600</th>\n",
       "      <td>1710314</td>\n",
       "      <td>97</td>\n",
       "      <td>[[we, enjoyed, our, stay, at, this, place, it,...</td>\n",
       "      <td>No_label</td>\n",
       "      <td>-1</td>\n",
       "      <td>-0.0892277</td>\n",
       "      <td>-1</td>\n",
       "    </tr>\n",
       "    <tr>\n",
       "      <th>731</th>\n",
       "      <td>43799775</td>\n",
       "      <td>98</td>\n",
       "      <td>[[i, do, not, understand, why, is, this, place...</td>\n",
       "      <td>No_label</td>\n",
       "      <td>-1</td>\n",
       "      <td>-0.240224</td>\n",
       "      <td>-1</td>\n",
       "    </tr>\n",
       "  </tbody>\n",
       "</table>\n",
       "</div>"
      ],
      "text/plain": [
       "     review_id  review_scores_rating  \\\n",
       "33    45319850                    99   \n",
       "294   51305545                    87   \n",
       "465   36558097                    97   \n",
       "600    1710314                    97   \n",
       "731   43799775                    98   \n",
       "\n",
       "                                              comments Sentiment  \\\n",
       "33   [[this, is, such, great, spot], [i, come, to, ...  No_label   \n",
       "294  [[smooth, experience], [no, real, hiccups, at,...  No_label   \n",
       "465  [[michelle, s, space, had, lots, of, room, and...  No_label   \n",
       "600  [[we, enjoyed, our, stay, at, this, place, it,...  No_label   \n",
       "731  [[i, do, not, understand, why, is, this, place...  No_label   \n",
       "\n",
       "    alchemy_sentiment alchemy_sentiment_score  bagging_sgd_sentiment  \n",
       "33                 -1              -0.0612885                     -1  \n",
       "294                -1               -0.173146                     -1  \n",
       "465                -1                -0.13192                     -1  \n",
       "600                -1              -0.0892277                     -1  \n",
       "731                -1               -0.240224                     -1  "
      ]
     },
     "execution_count": 632,
     "metadata": {},
     "output_type": "execute_result"
    }
   ],
   "source": [
    "neg_df2['bagging_sgd_sentiment'] = -1\n",
    "neg_df2.head()"
   ]
  },
  {
   "cell_type": "code",
   "execution_count": 633,
   "metadata": {
    "collapsed": false,
    "scrolled": false
   },
   "outputs": [
    {
     "data": {
      "text/html": [
       "<div>\n",
       "<table border=\"1\" class=\"dataframe\">\n",
       "  <thead>\n",
       "    <tr style=\"text-align: right;\">\n",
       "      <th></th>\n",
       "      <th>review_id</th>\n",
       "      <th>review_scores_rating</th>\n",
       "      <th>comments</th>\n",
       "      <th>Sentiment</th>\n",
       "      <th>alchemy_sentiment</th>\n",
       "      <th>alchemy_sentiment_score</th>\n",
       "      <th>bagging_sgd_sentiment</th>\n",
       "    </tr>\n",
       "  </thead>\n",
       "  <tbody>\n",
       "    <tr>\n",
       "      <th>0</th>\n",
       "      <td>10612780</td>\n",
       "      <td>92</td>\n",
       "      <td>[[great, host], [provided, special, gift, bask...</td>\n",
       "      <td>1</td>\n",
       "      <td>1</td>\n",
       "      <td>0.692647</td>\n",
       "      <td>1</td>\n",
       "    </tr>\n",
       "    <tr>\n",
       "      <th>1</th>\n",
       "      <td>49925683</td>\n",
       "      <td>92</td>\n",
       "      <td>[[great, host], [met, me, at, apartment], [pla...</td>\n",
       "      <td>1</td>\n",
       "      <td>1</td>\n",
       "      <td>0.646267</td>\n",
       "      <td>1</td>\n",
       "    </tr>\n",
       "    <tr>\n",
       "      <th>2</th>\n",
       "      <td>50537634</td>\n",
       "      <td>92</td>\n",
       "      <td>[[syeda, hosted, my, parents, for, four, days,...</td>\n",
       "      <td>No_label</td>\n",
       "      <td>1</td>\n",
       "      <td>0.656386</td>\n",
       "      <td>1</td>\n",
       "    </tr>\n",
       "    <tr>\n",
       "      <th>3</th>\n",
       "      <td>51077613</td>\n",
       "      <td>92</td>\n",
       "      <td>[[i, had, a, great, experience, at, syeda, s, ...</td>\n",
       "      <td>1</td>\n",
       "      <td>1</td>\n",
       "      <td>0.817832</td>\n",
       "      <td>1</td>\n",
       "    </tr>\n",
       "    <tr>\n",
       "      <th>4</th>\n",
       "      <td>52109034</td>\n",
       "      <td>92</td>\n",
       "      <td>[[great, location], [warm, welcoming, host], [...</td>\n",
       "      <td>No_label</td>\n",
       "      <td>1</td>\n",
       "      <td>0.845319</td>\n",
       "      <td>1</td>\n",
       "    </tr>\n",
       "  </tbody>\n",
       "</table>\n",
       "</div>"
      ],
      "text/plain": [
       "   review_id  review_scores_rating  \\\n",
       "0   10612780                    92   \n",
       "1   49925683                    92   \n",
       "2   50537634                    92   \n",
       "3   51077613                    92   \n",
       "4   52109034                    92   \n",
       "\n",
       "                                            comments Sentiment  \\\n",
       "0  [[great, host], [provided, special, gift, bask...         1   \n",
       "1  [[great, host], [met, me, at, apartment], [pla...         1   \n",
       "2  [[syeda, hosted, my, parents, for, four, days,...  No_label   \n",
       "3  [[i, had, a, great, experience, at, syeda, s, ...         1   \n",
       "4  [[great, location], [warm, welcoming, host], [...  No_label   \n",
       "\n",
       "  alchemy_sentiment alchemy_sentiment_score  bagging_sgd_sentiment  \n",
       "0                 1                0.692647                      1  \n",
       "1                 1                0.646267                      1  \n",
       "2                 1                0.656386                      1  \n",
       "3                 1                0.817832                      1  \n",
       "4                 1                0.845319                      1  "
      ]
     },
     "execution_count": 633,
     "metadata": {},
     "output_type": "execute_result"
    }
   ],
   "source": [
    "frames = [pos_df2, neg_df2, no_label_df2]\n",
    "df3 = pd.concat(frames)\n",
    "df3.head()"
   ]
  },
  {
   "cell_type": "code",
   "execution_count": 634,
   "metadata": {
    "collapsed": false
   },
   "outputs": [
    {
     "data": {
      "text/plain": [
       "Counter({-1.0: 1649, 1.0: 130683})"
      ]
     },
     "execution_count": 634,
     "metadata": {},
     "output_type": "execute_result"
    }
   ],
   "source": [
    "Counter(df3.bagging_sgd_sentiment)"
   ]
  },
  {
   "cell_type": "code",
   "execution_count": 652,
   "metadata": {
    "collapsed": false
   },
   "outputs": [],
   "source": [
    "df3 = df3[['review_id','bagging_sgd_sentiment']]\n",
    "# df3.head()\n",
    "df3.to_csv('data/df_new_en_labeled_bagging_sgd_sentiment.csv')"
   ]
  },
  {
   "cell_type": "code",
   "execution_count": 649,
   "metadata": {
    "collapsed": false,
    "scrolled": true
   },
   "outputs": [
    {
     "data": {
      "text/plain": [
       "0"
      ]
     },
     "execution_count": 649,
     "metadata": {},
     "output_type": "execute_result"
    }
   ],
   "source": [
    "check_unique = 0\n",
    "for key, value in enumerate(Counter(df3.review_id).items()):\n",
    "    if value[1] > 1:\n",
    "        check_unique +=1\n",
    "check_unique"
   ]
  },
  {
   "cell_type": "code",
   "execution_count": null,
   "metadata": {
    "collapsed": false
   },
   "outputs": [],
   "source": []
  },
  {
   "cell_type": "code",
   "execution_count": null,
   "metadata": {
    "collapsed": true
   },
   "outputs": [],
   "source": []
  }
 ],
 "metadata": {
  "kernelspec": {
   "display_name": "Python 2",
   "language": "python",
   "name": "python2"
  },
  "language_info": {
   "codemirror_mode": {
    "name": "ipython",
    "version": 2
   },
   "file_extension": ".py",
   "mimetype": "text/x-python",
   "name": "python",
   "nbconvert_exporter": "python",
   "pygments_lexer": "ipython2",
   "version": "2.7.10"
  }
 },
 "nbformat": 4,
 "nbformat_minor": 0
}
