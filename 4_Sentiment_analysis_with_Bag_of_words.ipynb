{
 "cells": [
  {
   "cell_type": "markdown",
   "metadata": {},
   "source": [
    "# Goal:\n",
    "First, I create models with bag of words and then move on to modeling with word2vec.  \n",
    "On this notebook, I will:\n",
    "- Create bag of words for reviews\n",
    "- Create models with it \n",
    "- Test the performance\n",
    "\n",
    "source: [here](https://www.kaggle.com/c/word2vec-nlp-tutorial/details/part-1-for-beginners-bag-of-words)"
   ]
  },
  {
   "cell_type": "code",
   "execution_count": 27,
   "metadata": {
    "collapsed": true
   },
   "outputs": [],
   "source": [
    "reset -sf"
   ]
  },
  {
   "cell_type": "code",
   "execution_count": 2,
   "metadata": {
    "collapsed": true
   },
   "outputs": [],
   "source": [
    "from sklearn.cross_validation import train_test_split\n",
    "import numpy as np\n",
    "import pandas as pd\n",
    "import matplotlib.pyplot as plt\n",
    "from collections import Counter\n",
    "%matplotlib inline"
   ]
  },
  {
   "cell_type": "markdown",
   "metadata": {},
   "source": [
    "## Read the data and preprocess"
   ]
  },
  {
   "cell_type": "code",
   "execution_count": 3,
   "metadata": {
    "collapsed": false,
    "scrolled": false
   },
   "outputs": [
    {
     "data": {
      "text/html": [
       "<div>\n",
       "<table border=\"1\" class=\"dataframe\">\n",
       "  <thead>\n",
       "    <tr style=\"text-align: right;\">\n",
       "      <th></th>\n",
       "      <th>review_id</th>\n",
       "      <th>review_scores_rating</th>\n",
       "      <th>comments</th>\n",
       "      <th>Sentiment</th>\n",
       "      <th>alchemy_sentiment</th>\n",
       "      <th>alchemy_sentiment_score</th>\n",
       "    </tr>\n",
       "  </thead>\n",
       "  <tbody>\n",
       "    <tr>\n",
       "      <th>0</th>\n",
       "      <td>10612780</td>\n",
       "      <td>92</td>\n",
       "      <td>Great host. Provided special gift basket upon ...</td>\n",
       "      <td>1</td>\n",
       "      <td>positive</td>\n",
       "      <td>0.692647</td>\n",
       "    </tr>\n",
       "    <tr>\n",
       "      <th>1</th>\n",
       "      <td>49925683</td>\n",
       "      <td>92</td>\n",
       "      <td>Great host. Met me at apartment. Place was cle...</td>\n",
       "      <td>1</td>\n",
       "      <td>positive</td>\n",
       "      <td>0.646267</td>\n",
       "    </tr>\n",
       "    <tr>\n",
       "      <th>2</th>\n",
       "      <td>50537634</td>\n",
       "      <td>92</td>\n",
       "      <td>Syeda hosted my parents for four days during t...</td>\n",
       "      <td>No_label</td>\n",
       "      <td>positive</td>\n",
       "      <td>0.656386</td>\n",
       "    </tr>\n",
       "    <tr>\n",
       "      <th>3</th>\n",
       "      <td>51077613</td>\n",
       "      <td>92</td>\n",
       "      <td>I had a great experience at Syeda's Airbnb! It...</td>\n",
       "      <td>1</td>\n",
       "      <td>positive</td>\n",
       "      <td>0.817832</td>\n",
       "    </tr>\n",
       "    <tr>\n",
       "      <th>4</th>\n",
       "      <td>52109034</td>\n",
       "      <td>92</td>\n",
       "      <td>Great location!  Warm, welcoming host.  This w...</td>\n",
       "      <td>No_label</td>\n",
       "      <td>positive</td>\n",
       "      <td>0.845319</td>\n",
       "    </tr>\n",
       "  </tbody>\n",
       "</table>\n",
       "</div>"
      ],
      "text/plain": [
       "   review_id  review_scores_rating  \\\n",
       "0   10612780                    92   \n",
       "1   49925683                    92   \n",
       "2   50537634                    92   \n",
       "3   51077613                    92   \n",
       "4   52109034                    92   \n",
       "\n",
       "                                            comments Sentiment  \\\n",
       "0  Great host. Provided special gift basket upon ...         1   \n",
       "1  Great host. Met me at apartment. Place was cle...         1   \n",
       "2  Syeda hosted my parents for four days during t...  No_label   \n",
       "3  I had a great experience at Syeda's Airbnb! It...         1   \n",
       "4  Great location!  Warm, welcoming host.  This w...  No_label   \n",
       "\n",
       "  alchemy_sentiment alchemy_sentiment_score  \n",
       "0          positive                0.692647  \n",
       "1          positive                0.646267  \n",
       "2          positive                0.656386  \n",
       "3          positive                0.817832  \n",
       "4          positive                0.845319  "
      ]
     },
     "execution_count": 3,
     "metadata": {},
     "output_type": "execute_result"
    }
   ],
   "source": [
    "df = pd.read_csv('../../projects/alchemyapi/alchemyapi_python/data/df_clearn_en_alchemy_sentiment.csv').drop('Unnamed: 0', 1)\n",
    "df.head()"
   ]
  },
  {
   "cell_type": "code",
   "execution_count": 4,
   "metadata": {
    "collapsed": false
   },
   "outputs": [],
   "source": [
    "# make score string int float \n",
    "def to_float(x): \n",
    "    try:\n",
    "        return float(x)\n",
    "    except:\n",
    "        return 'no_data'\n",
    "\n",
    "df.alchemy_sentiment_score = df['alchemy_sentiment_score'].apply(to_float)\n",
    "# change_val(df.alchemy_sentiment_score[132331])"
   ]
  },
  {
   "cell_type": "code",
   "execution_count": 5,
   "metadata": {
    "collapsed": false
   },
   "outputs": [
    {
     "data": {
      "text/plain": [
       "float"
      ]
     },
     "execution_count": 5,
     "metadata": {},
     "output_type": "execute_result"
    }
   ],
   "source": [
    "type(df.alchemy_sentiment_score[10])"
   ]
  },
  {
   "cell_type": "code",
   "execution_count": 6,
   "metadata": {
    "collapsed": false
   },
   "outputs": [],
   "source": [
    "# make float into 1 for positive sentiment or -1 for negative sentiment\n",
    "def give_sentiment(x):\n",
    "    try:\n",
    "        if x == 'no_data':\n",
    "            return 'no_data'\n",
    "        elif x > 0.:\n",
    "            return 1\n",
    "        elif x < 0.:\n",
    "            return -1\n",
    "    except:\n",
    "        return 'no_data'\n",
    "\n",
    "df.alchemy_sentiment = df['alchemy_sentiment_score'].apply(give_sentiment)\n",
    "# give_sentiment(df.alchemy_sentiment_score[132331])"
   ]
  },
  {
   "cell_type": "code",
   "execution_count": 7,
   "metadata": {
    "collapsed": false
   },
   "outputs": [
    {
     "data": {
      "text/plain": [
       "Counter({-1: 285, 1: 4263, 'no_data': 127784})"
      ]
     },
     "execution_count": 7,
     "metadata": {},
     "output_type": "execute_result"
    }
   ],
   "source": [
    "Counter(df.alchemy_sentiment)"
   ]
  },
  {
   "cell_type": "markdown",
   "metadata": {},
   "source": [
    "## Create words list for each reveiw\n",
    "- Making sure if string is utf8\n",
    "- Delete punctuation and number\n",
    "- Take out stop words and lemmatize"
   ]
  },
  {
   "cell_type": "code",
   "execution_count": 8,
   "metadata": {
    "collapsed": false,
    "scrolled": true
   },
   "outputs": [],
   "source": [
    "import re\n",
    "import nltk\n",
    "from nltk.corpus import stopwords \n",
    "from nltk.stem import WordNetLemmatizer\n",
    "\n",
    "# Use regular expressions to find and replace\n",
    "def review_to_wordlist(x, remove_stopwords=True): #stop word as optional\n",
    "    x = str(x)\n",
    "    x = x.decode(\"utf8\")\n",
    "    \n",
    "    wordnet_lemmatizer = WordNetLemmatizer()\n",
    "    x = re.sub(\"[^a-zA-Z]\", \" \", x)    \n",
    "    x = x.lower().split()\n",
    "\n",
    "    if remove_stopwords:\n",
    "        stops = set(stopwords.words(\"english\")) # set is faster than list\n",
    "        x = [wordnet_lemmatizer.lemmatize(word) for word in x if word not in stops]\n",
    "    return \" \".join(x)\n",
    "\n",
    "df.comments = df['comments'].apply(review_to_wordlist)"
   ]
  },
  {
   "cell_type": "markdown",
   "metadata": {},
   "source": [
    "### Make positive/negative/non-labeled dataframes"
   ]
  },
  {
   "cell_type": "code",
   "execution_count": 14,
   "metadata": {
    "collapsed": false,
    "scrolled": false
   },
   "outputs": [
    {
     "name": "stdout",
     "output_type": "stream",
     "text": [
      "4263 285 127784\n"
     ]
    }
   ],
   "source": [
    "pos_df = df[df['alchemy_sentiment'] == 1]\n",
    "neg_df = df[df['alchemy_sentiment'] == -1]\n",
    "no_label_df = df[df['alchemy_sentiment'] == 'no_data']\n",
    "print len(pos_df),len(neg_df),len(no_label_df)"
   ]
  },
  {
   "cell_type": "markdown",
   "metadata": {},
   "source": [
    "### Make positive/negative/non-labeled lists and label (y) list"
   ]
  },
  {
   "cell_type": "code",
   "execution_count": 15,
   "metadata": {
    "collapsed": true
   },
   "outputs": [],
   "source": [
    "pos_list = list(pos_df.comments)\n",
    "neg_list = list(neg_df.comments)\n",
    "no_label_list = list(no_label_df.comments)\n",
    "y = np.concatenate((np.ones(len(pos_list)), -1*np.ones(len(neg_list))))"
   ]
  },
  {
   "cell_type": "markdown",
   "metadata": {},
   "source": [
    "### Create test/train sets"
   ]
  },
  {
   "cell_type": "code",
   "execution_count": 16,
   "metadata": {
    "collapsed": false
   },
   "outputs": [],
   "source": [
    "x_train, x_test, y_train, y_test = train_test_split(np.concatenate((pos_list, neg_list)), y, test_size=0.2)"
   ]
  },
  {
   "cell_type": "code",
   "execution_count": 17,
   "metadata": {
    "collapsed": false,
    "scrolled": true
   },
   "outputs": [
    {
     "data": {
      "text/plain": [
       "(3638, 910, 3638, 910)"
      ]
     },
     "execution_count": 17,
     "metadata": {},
     "output_type": "execute_result"
    }
   ],
   "source": [
    "len(x_train), len(x_test), len(y_train), len(y_test) "
   ]
  },
  {
   "cell_type": "markdown",
   "metadata": {},
   "source": [
    "### Create bag of words"
   ]
  },
  {
   "cell_type": "code",
   "execution_count": 18,
   "metadata": {
    "collapsed": false
   },
   "outputs": [
    {
     "name": "stdout",
     "output_type": "stream",
     "text": [
      "Creating the bag of words...\n",
      "\n"
     ]
    }
   ],
   "source": [
    "print \"Creating the bag of words...\\n\"\n",
    "from sklearn.feature_extraction.text import CountVectorizer\n",
    "\n",
    "# Initialize the \"CountVectorizer\" object \n",
    "vectorizer = CountVectorizer(analyzer = \"word\",   \\\n",
    "                             tokenizer = None,    \\\n",
    "                             preprocessor = None, \\\n",
    "                             stop_words = None,   \\\n",
    "                             max_features = 5000) \n",
    "\n",
    "# fit & transform features\n",
    "train_data_features = vectorizer.fit_transform(x_train)\n",
    "test_data_features =  vectorizer.transform(x_test)\n",
    "\n",
    "# convert into Numpy arrays for ease\n",
    "train_data_features = train_data_features.toarray()\n",
    "test_data_features = test_data_features.toarray()"
   ]
  },
  {
   "cell_type": "code",
   "execution_count": 19,
   "metadata": {
    "collapsed": false
   },
   "outputs": [
    {
     "name": "stdout",
     "output_type": "stream",
     "text": [
      "(3638, 5000)\n",
      "(910, 5000)\n"
     ]
    }
   ],
   "source": [
    "print train_data_features.shape\n",
    "print test_data_features.shape"
   ]
  },
  {
   "cell_type": "code",
   "execution_count": 20,
   "metadata": {
    "collapsed": false
   },
   "outputs": [
    {
     "name": "stdout",
     "output_type": "stream",
     "text": [
      "[u'aaron', u'ab', u'abandoned', u'abe', u'ability', u'abit', u'able', u'abosultely', u'abound', u'abroad']\n"
     ]
    }
   ],
   "source": [
    "# Take a look at the words in the vocabulary\n",
    "vocab = vectorizer.get_feature_names()\n",
    "print vocab[:10]"
   ]
  },
  {
   "cell_type": "markdown",
   "metadata": {},
   "source": [
    "## Let's model\n",
    "\n",
    "### Random forest"
   ]
  },
  {
   "cell_type": "code",
   "execution_count": 21,
   "metadata": {
    "collapsed": false,
    "scrolled": true
   },
   "outputs": [
    {
     "name": "stdout",
     "output_type": "stream",
     "text": [
      "Training...\n"
     ]
    }
   ],
   "source": [
    "print \"Training...\"\n",
    "from sklearn.ensemble import RandomForestClassifier\n",
    "\n",
    "# Initialize a Random Forest classifier with 100 trees\n",
    "forest = RandomForestClassifier(n_estimators = 100) \n",
    "\n",
    "# Fit the forest to the training set, using the bag of words as features and the sentiment labels as the response variable\n",
    "forest = forest.fit( train_data_features,y_train )"
   ]
  },
  {
   "cell_type": "markdown",
   "metadata": {},
   "source": [
    "### Performance check"
   ]
  },
  {
   "cell_type": "code",
   "execution_count": 22,
   "metadata": {
    "collapsed": false
   },
   "outputs": [
    {
     "name": "stdout",
     "output_type": "stream",
     "text": [
      "Test Accuracy:  0.956043956044\n",
      "Confution matrix \n",
      "[[ 13  38]\n",
      " [  2 857]]\n",
      "             precision    recall  f1-score   support\n",
      "\n",
      "   negative       0.87      0.25      0.39        51\n",
      "   positive       0.96      1.00      0.98       859\n",
      "\n",
      "avg / total       0.95      0.96      0.94       910\n",
      "\n"
     ]
    },
    {
     "data": {
      "image/png": "[encoded data removed]",
      "text/plain": [
       "<matplotlib.figure.Figure at 0x1120322d0>"
      ]
     },
     "metadata": {},
     "output_type": "display_data"
    }
   ],
   "source": [
    "from performance import run_performance #custom test python file\n",
    "run_performance(forest, test_data_features, y_test)"
   ]
  },
  {
   "cell_type": "markdown",
   "metadata": {},
   "source": [
    "- It cannot capture negative sentiment well"
   ]
  },
  {
   "cell_type": "markdown",
   "metadata": {},
   "source": [
    "### Since class is imbalanced, let's set class weight param as 'balanced'\n",
    "- The “balanced” class weight param uses the values of y to automatically adjust weights inversely proportional to class frequencies in the input data as n_samples / (n_classes * np.bincount(y)) \n",
    "- reference: [here](http://scikit-learn.org/stable/modules/generated/sklearn.ensemble.RandomForestClassifier.html)"
   ]
  },
  {
   "cell_type": "code",
   "execution_count": 23,
   "metadata": {
    "collapsed": false
   },
   "outputs": [
    {
     "name": "stdout",
     "output_type": "stream",
     "text": [
      "Training...\n"
     ]
    }
   ],
   "source": [
    "# balanced RF\n",
    "print \"Training...\"\n",
    "forest_balanced = RandomForestClassifier(n_estimators = 100, class_weight='balanced') \n",
    "\n",
    "forest_balanced = forest_balanced.fit( train_data_features,y_train )"
   ]
  },
  {
   "cell_type": "code",
   "execution_count": 24,
   "metadata": {
    "collapsed": false
   },
   "outputs": [
    {
     "name": "stdout",
     "output_type": "stream",
     "text": [
      "Test Accuracy:  0.952747252747\n",
      "Confution matrix \n",
      "[[  9  42]\n",
      " [  1 858]]\n",
      "             precision    recall  f1-score   support\n",
      "\n",
      "   negative       0.90      0.18      0.30        51\n",
      "   positive       0.95      1.00      0.98       859\n",
      "\n",
      "avg / total       0.95      0.95      0.94       910\n",
      "\n"
     ]
    },
    {
     "data": {
      "image/png": "[encoded data removed]",
      "text/plain": [
       "<matplotlib.figure.Figure at 0x108793510>"
      ]
     },
     "metadata": {},
     "output_type": "display_data"
    }
   ],
   "source": [
    "run_performance(forest_balanced, test_data_features, y_test)"
   ]
  },
  {
   "cell_type": "markdown",
   "metadata": {},
   "source": [
    "- Balancing the class labels didn't fix the problem with random forest classifier. "
   ]
  },
  {
   "cell_type": "markdown",
   "metadata": {},
   "source": [
    "### SVM\n",
    "- Now, let's use SVM since it's conceptually good at handling imbalanced data"
   ]
  },
  {
   "cell_type": "code",
   "execution_count": 25,
   "metadata": {
    "collapsed": false
   },
   "outputs": [
    {
     "name": "stdout",
     "output_type": "stream",
     "text": [
      "Training ...\n"
     ]
    }
   ],
   "source": [
    "print \"Training ...\"\n",
    "from sklearn.svm import SVC\n",
    "\n",
    "# Initialize a SVC classifier\n",
    "svc = SVC(probability=True) \n",
    "\n",
    "svc = svc.fit( train_data_features,y_train )"
   ]
  },
  {
   "cell_type": "code",
   "execution_count": 26,
   "metadata": {
    "collapsed": false
   },
   "outputs": [
    {
     "name": "stdout",
     "output_type": "stream",
     "text": [
      "Test Accuracy:  0.943956043956\n",
      "Confution matrix \n",
      "[[  0  51]\n",
      " [  0 859]]\n",
      "             precision    recall  f1-score   support\n",
      "\n",
      "   negative       0.00      0.00      0.00        51\n",
      "   positive       0.94      1.00      0.97       859\n",
      "\n",
      "avg / total       0.89      0.94      0.92       910\n",
      "\n"
     ]
    },
    {
     "name": "stderr",
     "output_type": "stream",
     "text": [
      "/Users/kimitakanakazawa/anaconda/lib/python2.7/site-packages/sklearn/metrics/classification.py:1074: UndefinedMetricWarning: Precision and F-score are ill-defined and being set to 0.0 in labels with no predicted samples.\n",
      "  'precision', 'predicted', average, warn_for)\n"
     ]
    },
    {
     "data": {
      "image/png": "[encoded data removed]",
      "text/plain": [
       "<matplotlib.figure.Figure at 0x1087dd990>"
      ]
     },
     "metadata": {},
     "output_type": "display_data"
    }
   ],
   "source": [
    "run_performance(svc, test_data_features, y_test)"
   ]
  },
  {
   "cell_type": "markdown",
   "metadata": {},
   "source": [
    "- Not working.. "
   ]
  },
  {
   "cell_type": "markdown",
   "metadata": {},
   "source": [
    "### Let's enable class weight here as well."
   ]
  },
  {
   "cell_type": "code",
   "execution_count": 27,
   "metadata": {
    "collapsed": false
   },
   "outputs": [
    {
     "name": "stdout",
     "output_type": "stream",
     "text": [
      "Training ...\n"
     ]
    }
   ],
   "source": [
    "# balanced\n",
    "print \"Training ...\"\n",
    "from sklearn.svm import SVC\n",
    "\n",
    "# Initialize SVC classifier with class_weight='balanced'\n",
    "svc_balanced = SVC(probability=True, class_weight='balanced') \n",
    "\n",
    "svc_balanced = svc_balanced.fit( train_data_features,y_train )"
   ]
  },
  {
   "cell_type": "code",
   "execution_count": 28,
   "metadata": {
    "collapsed": false,
    "scrolled": false
   },
   "outputs": [
    {
     "name": "stdout",
     "output_type": "stream",
     "text": [
      "Test Accuracy:  0.952747252747\n",
      "Confution matrix \n",
      "[[ 33  18]\n",
      " [ 25 834]]\n",
      "             precision    recall  f1-score   support\n",
      "\n",
      "   negative       0.57      0.65      0.61        51\n",
      "   positive       0.98      0.97      0.97       859\n",
      "\n",
      "avg / total       0.96      0.95      0.95       910\n",
      "\n"
     ]
    },
    {
     "data": {
      "image/png": "[encoded data removed]",
      "text/plain": [
       "<matplotlib.figure.Figure at 0x1087939d0>"
      ]
     },
     "metadata": {},
     "output_type": "display_data"
    }
   ],
   "source": [
    "run_performance(svc_balanced, test_data_features, y_test)"
   ]
  },
  {
   "cell_type": "markdown",
   "metadata": {},
   "source": [
    "- SVM with balanced class weight is better at identifying negative sentiment but it's not good enough. Move on to the second part."
   ]
  },
  {
   "cell_type": "code",
   "execution_count": null,
   "metadata": {
    "collapsed": true
   },
   "outputs": [],
   "source": []
  },
  {
   "cell_type": "code",
   "execution_count": null,
   "metadata": {
    "collapsed": true
   },
   "outputs": [],
   "source": []
  }
 ],
 "metadata": {
  "kernelspec": {
   "display_name": "Python 2",
   "language": "python",
   "name": "python2"
  },
  "language_info": {
   "codemirror_mode": {
    "name": "ipython",
    "version": 2
   },
   "file_extension": ".py",
   "mimetype": "text/x-python",
   "name": "python",
   "nbconvert_exporter": "python",
   "pygments_lexer": "ipython2",
   "version": "2.7.10"
  }
 },
 "nbformat": 4,
 "nbformat_minor": 0
}
